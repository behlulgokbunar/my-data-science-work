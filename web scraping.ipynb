{
 "cells": [
  {
   "cell_type": "code",
   "execution_count": 1,
   "id": "ea9eb58a",
   "metadata": {},
   "outputs": [],
   "source": [
    "import requests\n",
    "from bs4 import BeautifulSoup\n",
    "import pandas as pd"
   ]
  },
  {
   "cell_type": "code",
   "execution_count": 3,
   "id": "aedc6bdd",
   "metadata": {},
   "outputs": [],
   "source": [
    "url='http://www.arabam.com'\n",
    "response=requests.get(url)"
   ]
  },
  {
   "cell_type": "code",
   "execution_count": 13,
   "id": "8b698f4d",
   "metadata": {
    "scrolled": true
   },
   "outputs": [
    {
     "data": {
      "text/plain": [
       "'too many request!'"
      ]
     },
     "execution_count": 13,
     "metadata": {},
     "output_type": "execute_result"
    }
   ],
   "source": [
    "response.text"
   ]
  },
  {
   "cell_type": "code",
   "execution_count": 5,
   "id": "e30723ac",
   "metadata": {},
   "outputs": [],
   "source": [
    "soup=BeautifulSoup(response.text,'html.parser')"
   ]
  },
  {
   "cell_type": "code",
   "execution_count": 6,
   "id": "0238fe6d",
   "metadata": {},
   "outputs": [],
   "source": [
    "soup.beautify"
   ]
  },
  {
   "cell_type": "code",
   "execution_count": 7,
   "id": "5f347de1",
   "metadata": {},
   "outputs": [],
   "source": [
    "container=soup.findAll('div',{'class':'showcase row'})"
   ]
  },
  {
   "cell_type": "code",
   "execution_count": 8,
   "id": "e3850381",
   "metadata": {},
   "outputs": [],
   "source": [
    "fiyat=soup.findAll('div',{'class':'price'})\n",
    "sehir=soup.findAll('p',{'class':'model-city'})\n",
    "yil=soup.findAll('p',{'class':'model-year'})\n",
    "model=soup.findAll('h4',{'class':'model-name'})"
   ]
  },
  {
   "cell_type": "code",
   "execution_count": 10,
   "id": "9aa95e33",
   "metadata": {},
   "outputs": [],
   "source": [
    "f=[]\n",
    "s=[]\n",
    "y=[]\n",
    "m=[]\n",
    "columns=['model','sehir','yil','fiyat']\n",
    "for (m1,s1,y1,f1) in zip(model,sehir,yil,fiyat):\n",
    "    m.append(m1.text)\n",
    "    s.append(s1.text)\n",
    "    y.append(y1.text)\n",
    "    f.append(f1.text)"
   ]
  },
  {
   "cell_type": "code",
   "execution_count": 12,
   "id": "b0559e0e",
   "metadata": {
    "scrolled": true
   },
   "outputs": [
    {
     "data": {
      "text/html": [
       "<div>\n",
       "<style scoped>\n",
       "    .dataframe tbody tr th:only-of-type {\n",
       "        vertical-align: middle;\n",
       "    }\n",
       "\n",
       "    .dataframe tbody tr th {\n",
       "        vertical-align: top;\n",
       "    }\n",
       "\n",
       "    .dataframe thead th {\n",
       "        text-align: right;\n",
       "    }\n",
       "</style>\n",
       "<table border=\"1\" class=\"dataframe\">\n",
       "  <thead>\n",
       "    <tr style=\"text-align: right;\">\n",
       "      <th></th>\n",
       "      <th>Model</th>\n",
       "      <th>Sehir</th>\n",
       "      <th>yil</th>\n",
       "      <th>fiyat</th>\n",
       "    </tr>\n",
       "  </thead>\n",
       "  <tbody>\n",
       "  </tbody>\n",
       "</table>\n",
       "</div>"
      ],
      "text/plain": [
       "Empty DataFrame\n",
       "Columns: [Model, Sehir, yil, fiyat]\n",
       "Index: []"
      ]
     },
     "execution_count": 12,
     "metadata": {},
     "output_type": "execute_result"
    }
   ],
   "source": [
    "d={'Model':m,'Sehir':s,'yil':y,'fiyat':f}\n",
    "pd.DataFrame(d)"
   ]
  },
  {
   "cell_type": "code",
   "execution_count": null,
   "id": "afb3fdd1",
   "metadata": {},
   "outputs": [],
   "source": []
  }
 ],
 "metadata": {
  "kernelspec": {
   "display_name": "Python 3 (ipykernel)",
   "language": "python",
   "name": "python3"
  },
  "language_info": {
   "codemirror_mode": {
    "name": "ipython",
    "version": 3
   },
   "file_extension": ".py",
   "mimetype": "text/x-python",
   "name": "python",
   "nbconvert_exporter": "python",
   "pygments_lexer": "ipython3",
   "version": "3.9.12"
  }
 },
 "nbformat": 4,
 "nbformat_minor": 5
}
