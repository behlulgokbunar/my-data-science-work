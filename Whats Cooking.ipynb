{
 "cells": [
  {
   "cell_type": "code",
   "execution_count": 3,
   "id": "71e511c8",
   "metadata": {},
   "outputs": [],
   "source": [
    "from pandas import Series, DataFrame\n",
    "import pandas as pd\n",
    "import numpy as np\n",
    "import nltk\n",
    "import re\n",
    "from nltk.stem import WordNetLemmatizer\n",
    "from sklearn.svm import LinearSVC\n",
    "from sklearn.metrics import classification_report\n",
    "import sklearn.metrics\n",
    "from sklearn.feature_extraction.text import TfidfVectorizer, HashingVectorizer\n",
    "#from sklearn import grid_search\n",
    "from sklearn.model_selection import learning_curve, GridSearchCV\n",
    "from sklearn.linear_model import LogisticRegression\n",
    "#from sklearn import cross_validation\n",
    "from sklearn.model_selection import train_test_split\n",
    "from sklearn.ensemble import RandomForestClassifier, VotingClassifier ,BaggingClassifier ,GradientBoostingClassifier\n",
    "from sklearn.neighbors import KNeighborsClassifier\n",
    "from sklearn.tree import DecisionTreeClassifier\n",
    "import codecs\n",
    "import os\n",
    "from sklearn.svm import SVC\n",
    "from sklearn.linear_model import PassiveAggressiveClassifier\n",
    "from sklearn.pipeline import FeatureUnion\n",
    "from sklearn.neural_network import MLPClassifier"
   ]
  },
  {
   "cell_type": "code",
   "execution_count": 5,
   "id": "77308bdb",
   "metadata": {},
   "outputs": [],
   "source": [
    "traindf = pd.read_json(codecs.open(\"train.json\",'r','utf-8') )\n",
    "traindf['ingredients_clean_string'] = [' , '.join(z).strip() for z in traindf['ingredients']]\n",
    "traindf['ingredients_string'] = [' '.join([WordNetLemmatizer().lemmatize(re.sub('[^A-Za-z]', ' ', line)) for line in lists]).strip() for lists in traindf['ingredients']]       \n",
    "testdf = pd.read_json(codecs.open(\"test.json\",'r','utf-8') )\n",
    "testdf['ingredients_clean_string'] = [' , '.join(z).strip() for z in testdf['ingredients']]\n",
    "testdf['ingredients_string'] = [' '.join([WordNetLemmatizer().lemmatize(re.sub('[^A-Za-z]', ' ', line)) for line in lists]).strip() for lists in testdf['ingredients']]       "
   ]
  },
  {
   "cell_type": "code",
   "execution_count": 6,
   "id": "764887c1",
   "metadata": {},
   "outputs": [],
   "source": [
    "corpustr = traindf['ingredients_string']"
   ]
  },
  {
   "cell_type": "code",
   "execution_count": 7,
   "id": "d6bf9c0a",
   "metadata": {},
   "outputs": [],
   "source": [
    "estimators = [(\"tfidf\", TfidfVectorizer(stop_words='english',\n",
    "             ngram_range = ( 1 , 1 ),analyzer=\"word\",\n",
    "             max_df = .57 , binary=False ,max_features =6706, token_pattern=r'\\w+' , sublinear_tf=False) ),\n",
    "             (\"hash\", HashingVectorizer ( stop_words='english',\n",
    "             ngram_range = ( 1 , 2 ),n_features  =6706,analyzer=\"word\",token_pattern=r'\\w+', binary =False))]"
   ]
  },
  {
   "cell_type": "code",
   "execution_count": 8,
   "id": "e7243024",
   "metadata": {},
   "outputs": [],
   "source": [
    "tfidftr = FeatureUnion(estimators).fit_transform(corpustr).todense()"
   ]
  },
  {
   "cell_type": "code",
   "execution_count": 9,
   "id": "324b0c78",
   "metadata": {},
   "outputs": [],
   "source": [
    "corpusts = testdf['ingredients_string']"
   ]
  },
  {
   "cell_type": "code",
   "execution_count": 10,
   "id": "90339faf",
   "metadata": {},
   "outputs": [],
   "source": [
    "tfidfts = FeatureUnion(estimators).transform(corpusts)"
   ]
  },
  {
   "cell_type": "code",
   "execution_count": 11,
   "id": "e6c720b6",
   "metadata": {},
   "outputs": [],
   "source": [
    "predictors_tr = tfidftr"
   ]
  },
  {
   "cell_type": "code",
   "execution_count": 12,
   "id": "bb5761a5",
   "metadata": {},
   "outputs": [],
   "source": [
    "targets_tr = traindf['cuisine']"
   ]
  },
  {
   "cell_type": "code",
   "execution_count": 13,
   "id": "1ec8b627",
   "metadata": {},
   "outputs": [],
   "source": [
    "predictors_ts = tfidfts"
   ]
  },
  {
   "cell_type": "code",
   "execution_count": 14,
   "id": "5d510321",
   "metadata": {},
   "outputs": [],
   "source": [
    "classSVC = LinearSVC(C=0.3999, penalty=\"l2\", dual=False) "
   ]
  },
  {
   "cell_type": "code",
   "execution_count": 15,
   "id": "94d585ac",
   "metadata": {},
   "outputs": [
    {
     "name": "stderr",
     "output_type": "stream",
     "text": [
      "C:\\Users\\behlul\\AppData\\Local\\Programs\\Python\\Python310\\lib\\site-packages\\sklearn\\utils\\validation.py:727: FutureWarning: np.matrix usage is deprecated in 1.0 and will raise a TypeError in 1.2. Please convert to a numpy array with np.asarray. For more information see: https://numpy.org/doc/stable/reference/generated/numpy.matrix.html\n",
      "  warnings.warn(\n"
     ]
    }
   ],
   "source": [
    "classSVC = classSVC.fit(predictors_tr,targets_tr)"
   ]
  },
  {
   "cell_type": "code",
   "execution_count": 16,
   "id": "db0730e8",
   "metadata": {},
   "outputs": [],
   "source": [
    "predictions = classSVC.predict(predictors_ts) "
   ]
  },
  {
   "cell_type": "code",
   "execution_count": 19,
   "id": "6f1bef14",
   "metadata": {},
   "outputs": [],
   "source": [
    "testdf['cuisine'] = predictions\n",
    "testdf = testdf.sort_values('id' , ascending=True)"
   ]
  },
  {
   "cell_type": "code",
   "execution_count": 20,
   "id": "e0a3339d",
   "metadata": {},
   "outputs": [],
   "source": [
    "testdf[['id' , 'cuisine' ]].to_csv(\"final submission.csv\", index=False)"
   ]
  },
  {
   "cell_type": "code",
   "execution_count": null,
   "id": "a9b37ac2",
   "metadata": {},
   "outputs": [],
   "source": []
  }
 ],
 "metadata": {
  "kernelspec": {
   "display_name": "Python 3 (ipykernel)",
   "language": "python",
   "name": "python3"
  },
  "language_info": {
   "codemirror_mode": {
    "name": "ipython",
    "version": 3
   },
   "file_extension": ".py",
   "mimetype": "text/x-python",
   "name": "python",
   "nbconvert_exporter": "python",
   "pygments_lexer": "ipython3",
   "version": "3.10.5"
  }
 },
 "nbformat": 4,
 "nbformat_minor": 5
}
