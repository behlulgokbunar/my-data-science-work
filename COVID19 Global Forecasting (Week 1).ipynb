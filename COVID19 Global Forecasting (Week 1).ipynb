{
 "cells": [
  {
   "cell_type": "code",
   "execution_count": 1,
   "metadata": {
    "_cell_guid": "b1076dfc-b9ad-4769-8c92-a6c4dae69d19",
    "_uuid": "8f2839f25d086af736a60e9eeb907d3b93b6e0e5"
   },
   "outputs": [],
   "source": [
    "import numpy as np \n",
    "import pandas as pd "
   ]
  },
  {
   "cell_type": "code",
   "execution_count": 2,
   "metadata": {
    "_cell_guid": "79c7e3d0-c299-4dcb-8224-4455121ee9b0",
    "_uuid": "d629ff2d2480ee46fbb7e2d37f6b5fab8052498a"
   },
   "outputs": [],
   "source": [
    "train_ds = pd.read_csv('train.csv')\n",
    "test_ds = pd.read_csv('test.csv')"
   ]
  },
  {
   "cell_type": "code",
   "execution_count": 3,
   "metadata": {},
   "outputs": [
    {
     "data": {
      "text/html": [
       "<div>\n",
       "<style scoped>\n",
       "    .dataframe tbody tr th:only-of-type {\n",
       "        vertical-align: middle;\n",
       "    }\n",
       "\n",
       "    .dataframe tbody tr th {\n",
       "        vertical-align: top;\n",
       "    }\n",
       "\n",
       "    .dataframe thead th {\n",
       "        text-align: right;\n",
       "    }\n",
       "</style>\n",
       "<table border=\"1\" class=\"dataframe\">\n",
       "  <thead>\n",
       "    <tr style=\"text-align: right;\">\n",
       "      <th></th>\n",
       "      <th>Id</th>\n",
       "      <th>ProvinceState</th>\n",
       "      <th>CountryRegion</th>\n",
       "      <th>Lat</th>\n",
       "      <th>Long</th>\n",
       "      <th>Date</th>\n",
       "      <th>ConfirmedCases</th>\n",
       "      <th>Fatalities</th>\n",
       "    </tr>\n",
       "  </thead>\n",
       "  <tbody>\n",
       "    <tr>\n",
       "      <th>0</th>\n",
       "      <td>1</td>\n",
       "      <td>NaN</td>\n",
       "      <td>Afghanistan</td>\n",
       "      <td>33.0</td>\n",
       "      <td>65.0</td>\n",
       "      <td>2020-01-22</td>\n",
       "      <td>0.0</td>\n",
       "      <td>0.0</td>\n",
       "    </tr>\n",
       "    <tr>\n",
       "      <th>1</th>\n",
       "      <td>2</td>\n",
       "      <td>NaN</td>\n",
       "      <td>Afghanistan</td>\n",
       "      <td>33.0</td>\n",
       "      <td>65.0</td>\n",
       "      <td>2020-01-23</td>\n",
       "      <td>0.0</td>\n",
       "      <td>0.0</td>\n",
       "    </tr>\n",
       "    <tr>\n",
       "      <th>2</th>\n",
       "      <td>3</td>\n",
       "      <td>NaN</td>\n",
       "      <td>Afghanistan</td>\n",
       "      <td>33.0</td>\n",
       "      <td>65.0</td>\n",
       "      <td>2020-01-24</td>\n",
       "      <td>0.0</td>\n",
       "      <td>0.0</td>\n",
       "    </tr>\n",
       "    <tr>\n",
       "      <th>3</th>\n",
       "      <td>4</td>\n",
       "      <td>NaN</td>\n",
       "      <td>Afghanistan</td>\n",
       "      <td>33.0</td>\n",
       "      <td>65.0</td>\n",
       "      <td>2020-01-25</td>\n",
       "      <td>0.0</td>\n",
       "      <td>0.0</td>\n",
       "    </tr>\n",
       "    <tr>\n",
       "      <th>4</th>\n",
       "      <td>5</td>\n",
       "      <td>NaN</td>\n",
       "      <td>Afghanistan</td>\n",
       "      <td>33.0</td>\n",
       "      <td>65.0</td>\n",
       "      <td>2020-01-26</td>\n",
       "      <td>0.0</td>\n",
       "      <td>0.0</td>\n",
       "    </tr>\n",
       "  </tbody>\n",
       "</table>\n",
       "</div>"
      ],
      "text/plain": [
       "   Id ProvinceState CountryRegion   Lat  Long        Date  ConfirmedCases  \\\n",
       "0   1           NaN   Afghanistan  33.0  65.0  2020-01-22             0.0   \n",
       "1   2           NaN   Afghanistan  33.0  65.0  2020-01-23             0.0   \n",
       "2   3           NaN   Afghanistan  33.0  65.0  2020-01-24             0.0   \n",
       "3   4           NaN   Afghanistan  33.0  65.0  2020-01-25             0.0   \n",
       "4   5           NaN   Afghanistan  33.0  65.0  2020-01-26             0.0   \n",
       "\n",
       "   Fatalities  \n",
       "0         0.0  \n",
       "1         0.0  \n",
       "2         0.0  \n",
       "3         0.0  \n",
       "4         0.0  "
      ]
     },
     "execution_count": 3,
     "metadata": {},
     "output_type": "execute_result"
    }
   ],
   "source": [
    "train_ds.rename(columns={'Province/State':'ProvinceState', 'Country/Region':'CountryRegion'}, inplace=True)\n",
    "test_ds.rename(columns={'Province/State':'ProvinceState','Country/Region':'CountryRegion'}, inplace=True)\n",
    "train_ds.head()"
   ]
  },
  {
   "cell_type": "code",
   "execution_count": 4,
   "metadata": {
    "_kg_hide-output": false
   },
   "outputs": [],
   "source": [
    "cols_with_missing = [col for col in train_ds.columns if train_ds[col].isnull().any()]\n",
    "countries_with_PSinfo = train_ds[train_ds['ProvinceState'].isna()==False]['CountryRegion'].unique()"
   ]
  },
  {
   "cell_type": "code",
   "execution_count": 5,
   "metadata": {},
   "outputs": [
    {
     "name": "stderr",
     "output_type": "stream",
     "text": [
      "C:\\Users\\behlul\\AppData\\Local\\Temp\\ipykernel_27716\\644597780.py:5: SettingWithCopyWarning: \n",
      "A value is trying to be set on a copy of a slice from a DataFrame\n",
      "\n",
      "See the caveats in the documentation: https://pandas.pydata.org/pandas-docs/stable/user_guide/indexing.html#returning-a-view-versus-a-copy\n",
      "  train_ds.Date[i] = (date(int(train_ds.Date[i].split(\"-\")[0]), int(train_ds.Date[i].split(\"-\")[1]), int(train_ds.Date[i].split(\"-\")[2])) - d0).days\n"
     ]
    }
   ],
   "source": [
    "from datetime import date\n",
    "d0 = [int(ele) for ele in min(train_ds.Date).split(\"-\")]\n",
    "d0 = date(d0[0], d0[1], d0[2])\n",
    "for i in range(0, len(train_ds.Date)):\n",
    "    train_ds.Date[i] = (date(int(train_ds.Date[i].split(\"-\")[0]), int(train_ds.Date[i].split(\"-\")[1]), int(train_ds.Date[i].split(\"-\")[2])) - d0).days"
   ]
  },
  {
   "cell_type": "code",
   "execution_count": 6,
   "metadata": {},
   "outputs": [
    {
     "name": "stderr",
     "output_type": "stream",
     "text": [
      "C:\\Users\\behlul\\AppData\\Local\\Temp\\ipykernel_27716\\1187104029.py:3: SettingWithCopyWarning: \n",
      "A value is trying to be set on a copy of a slice from a DataFrame\n",
      "\n",
      "See the caveats in the documentation: https://pandas.pydata.org/pandas-docs/stable/user_guide/indexing.html#returning-a-view-versus-a-copy\n",
      "  test_ds_cp.Date[i] = (date(int(test_ds.Date[i].split(\"-\")[0]), int(test_ds.Date[i].split(\"-\")[1]), int(test_ds.Date[i].split(\"-\")[2])) - d0).days\n"
     ]
    }
   ],
   "source": [
    "test_ds_cp = test_ds.copy()\n",
    "for i in range(0, len(test_ds.Date)):\n",
    "    test_ds_cp.Date[i] = (date(int(test_ds.Date[i].split(\"-\")[0]), int(test_ds.Date[i].split(\"-\")[1]), int(test_ds.Date[i].split(\"-\")[2])) - d0).days"
   ]
  },
  {
   "cell_type": "code",
   "execution_count": 7,
   "metadata": {},
   "outputs": [],
   "source": [
    "from sklearn.linear_model import LinearRegression\n",
    "from sklearn.preprocessing import PolynomialFeatures\n",
    "models_poly_cc = {}\n",
    "models_lin_cc = {}\n",
    "models_poly_f = {}\n",
    "models_lin_f = {}\n",
    "for country in train_ds.CountryRegion.unique():\n",
    "    if country in countries_with_PSinfo:\n",
    "        for country_with_PSinfo in countries_with_PSinfo:\n",
    "            PSs = train_ds[train_ds['CountryRegion'] == country]['ProvinceState'].unique()\n",
    "            for PS in PSs:\n",
    "                PS_ds_cc = train_ds.loc[(train_ds.CountryRegion == country) & (train_ds.ProvinceState == PS)]\n",
    "                PS_ds_f = train_ds.loc[(train_ds.CountryRegion == country) & (train_ds.ProvinceState == PS)]\n",
    "                PS_X_cc = PS_ds_cc.iloc[:, 5:6].values\n",
    "                PS_X_f = PS_ds_f.iloc[:, 5:6].values\n",
    "                PS_y_cc = PS_ds_cc.iloc[:, 6].values \n",
    "                PS_y_f = PS_ds_f.iloc[:, 7].values\n",
    "                poly_reg = PolynomialFeatures(degree = 7)\n",
    "                X_cc_poly = poly_reg.fit_transform(PS_X_cc)\n",
    "                poly_reg.fit(X_cc_poly, PS_y_cc)\n",
    "                X_f_poly = poly_reg.fit_transform(PS_X_f)\n",
    "                poly_reg_f = PolynomialFeatures(degree = 7)\n",
    "                poly_reg_f.fit(X_f_poly, PS_y_f)\n",
    "                linear_reg = LinearRegression()\n",
    "                linear_reg.fit(X_cc_poly, PS_y_cc.reshape(-1,1))\n",
    "                linear_reg_f = LinearRegression()\n",
    "                linear_reg_f.fit(X_f_poly, PS_y_f.reshape(-1,1))\n",
    "                models_poly_cc[PS] = poly_reg\n",
    "                models_lin_cc[PS] = linear_reg\n",
    "                models_poly_f[PS] =  poly_reg_f\n",
    "                models_lin_f[PS] = linear_reg_f\n",
    "    else:\n",
    "        country_ds_cc = train_ds.loc[(train_ds.CountryRegion == country)]\n",
    "        country_ds_f = train_ds.loc[(train_ds.CountryRegion == country)]\n",
    "        country_X_cc = country_ds_cc.iloc[:, 5:6].values\n",
    "        country_X_f = country_ds_f.iloc[:, 5:6].values\n",
    "        country_y_cc = country_ds_cc.iloc[:, 6].values \n",
    "        country_y_f = country_ds_f.iloc[:, 7].values\n",
    "        poly_reg = PolynomialFeatures(degree = 7)\n",
    "        X_cc_poly = poly_reg.fit_transform(country_X_cc)\n",
    "        poly_reg.fit(X_cc_poly, country_y_cc)\n",
    "        X_f_poly = poly_reg.fit_transform(country_X_f)\n",
    "        poly_reg_f = PolynomialFeatures(degree = 7)\n",
    "        poly_reg_f.fit(X_f_poly, country_y_f)\n",
    "        linear_reg = LinearRegression()\n",
    "        linear_reg.fit(X_cc_poly, country_y_cc.reshape(-1,1))\n",
    "        linear_reg_f = LinearRegression()\n",
    "        linear_reg_f.fit(X_f_poly, country_y_f.reshape(-1,1))\n",
    "        models_poly_cc[country] = poly_reg\n",
    "        models_lin_cc[country] = linear_reg\n",
    "        models_poly_f[country] =  poly_reg_f\n",
    "        models_lin_f[country] = linear_reg_f"
   ]
  },
  {
   "cell_type": "code",
   "execution_count": 8,
   "metadata": {},
   "outputs": [],
   "source": [
    "test_ds_cp['ProvinceCountry'] = np.where(test_ds_cp.ProvinceState.isnull(), test_ds_cp.CountryRegion, test_ds_cp.ProvinceState)\n",
    "test_ds_cp\n",
    "test_preds_cc =  []\n",
    "test_preds_f = []\n",
    "\n",
    "for index, row in test_ds_cp.iterrows():\n",
    "    poly_predict_cc = models_poly_cc[row['ProvinceCountry']].fit_transform([[row['Date']]])\n",
    "    predict_cc = models_lin_cc[row['ProvinceCountry']].predict(poly_predict_cc)\n",
    "    poly_predict_f = models_poly_f[row['ProvinceCountry']].fit_transform([[row['Date']]])\n",
    "    predict_f = models_lin_f[row['ProvinceCountry']].predict(poly_predict_f)\n",
    "    test_preds_cc.append(abs(predict_cc[0,0]))\n",
    "    test_preds_f.append(abs(predict_f[0,0]))"
   ]
  },
  {
   "cell_type": "code",
   "execution_count": 9,
   "metadata": {},
   "outputs": [],
   "source": [
    "test_ds_out = pd.DataFrame({'ForecastId' : test_ds['ForecastId'], 'ConfirmedCases' : test_preds_cc, 'Fatalities' : test_preds_f})\n",
    "test_ds_out.to_csv('submission.csv', index = False)"
   ]
  }
 ],
 "metadata": {
  "kernelspec": {
   "display_name": "Python 3 (ipykernel)",
   "language": "python",
   "name": "python3"
  },
  "language_info": {
   "codemirror_mode": {
    "name": "ipython",
    "version": 3
   },
   "file_extension": ".py",
   "mimetype": "text/x-python",
   "name": "python",
   "nbconvert_exporter": "python",
   "pygments_lexer": "ipython3",
   "version": "3.10.5"
  }
 },
 "nbformat": 4,
 "nbformat_minor": 4
}
