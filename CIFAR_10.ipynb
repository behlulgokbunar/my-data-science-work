{
 "cells": [
  {
   "cell_type": "code",
   "execution_count": 2,
   "id": "ab4086f7",
   "metadata": {
    "scrolled": true
   },
   "outputs": [],
   "source": [
    "import pandas as pd\n",
    "import numpy as np\n",
    "import seaborn as sns\n",
    "import matplotlib.pyplot as plt\n",
    "from sklearn.model_selection import train_test_split\n",
    "from sklearn.linear_model import LogisticRegression\n",
    "from sklearn.neighbors import KNeighborsClassifier\n",
    "from sklearn.metrics import accuracy_score, precision_score, recall_score, f1_score\n",
    "from sklearn.naive_bayes import GaussianNB\n",
    "from sklearn.naive_bayes import BernoulliNB\n",
    "from sklearn.ensemble import GradientBoostingClassifier\n",
    "from sklearn.ensemble import GradientBoostingRegressor\n",
    "from sklearn.tree import DecisionTreeClassifier\n",
    "from sklearn.ensemble import RandomForestRegressor\n",
    "from sklearn.ensemble import RandomForestClassifier\n",
    "from sklearn.svm import SVC, LinearSVC\n",
    "from sklearn.ensemble import ExtraTreesClassifier\n",
    "from sklearn.ensemble import RandomForestClassifier\n",
    "from sklearn.feature_selection import SelectFromModel\n",
    "from sklearn.preprocessing import StandardScaler, LabelEncoder, OneHotEncoder\n",
    "scaler = StandardScaler()\n",
    "import pandas_profiling\n",
    "from datetime import datetime\n",
    "from sklearn.neural_network import MLPClassifier\n",
    "from sklearn.metrics import accuracy_score, confusion_matrix, f1_score, recall_score, precision_score\n",
    "from sklearn.model_selection import StratifiedKFold\n",
    "from imblearn.metrics import geometric_mean_score as geo\n",
    "from imblearn.metrics import make_index_balanced_accuracy as iba\n",
    "from sklearn.metrics import roc_curve, auc\n",
    "from imblearn.metrics import geometric_mean_score, make_index_balanced_accuracy, classification_report_imbalanced\n",
    "#from pycaret.regression import *\n",
    "import sqlite3\n",
    "from sqlite3 import Error\n",
    "import datetime as dt\n",
    "from sklearn.cluster import KMeans\n",
    "from sklearn.metrics import silhouette_score\n",
    "import statsmodels.formula.api as smf\n",
    "from sklearn.linear_model import LinearRegression\n",
    "from sklearn.metrics import r2_score\n",
    "from sklearn.metrics import mean_absolute_error\n",
    "from sklearn.metrics import mean_squared_error\n",
    "from sklearn.model_selection import train_test_split as tts\n",
    "from sklearn.linear_model import LinearRegression\n",
    "from sklearn.linear_model import Ridge,Lasso\n",
    "from sklearn.linear_model import ElasticNet\n",
    "from sklearn.tree import ExtraTreeRegressor\n",
    "from sklearn.ensemble import GradientBoostingRegressor\n",
    "from sklearn.neighbors import KNeighborsRegressor\n",
    "from sklearn.model_selection import train_test_split\n",
    "from sklearn.metrics import mean_squared_error,r2_score,mean_absolute_error\n",
    "from sklearn.naive_bayes import GaussianNB\n",
    "from sklearn.naive_bayes import BernoulliNB\n",
    "from sklearn.svm import SVC\n",
    "from sklearn.neighbors import KNeighborsClassifier\n",
    "from sklearn.tree import DecisionTreeClassifier\n",
    "from sklearn.ensemble import RandomForestClassifier\n",
    "from sklearn.linear_model import LogisticRegression\n",
    "from xgboost import XGBClassifier     \n",
    "from sklearn.metrics import accuracy_score,precision_score,recall_score,f1_score\n",
    "from sklearn.metrics import confusion_matrix,classification_report  \n",
    "import plotly.express as px\n",
    "from sklearn.preprocessing import StandardScaler, RobustScaler,MinMaxScaler\n",
    "import warnings\n",
    "warnings.filterwarnings('ignore')\n",
    "warnings.filterwarnings(\"ignore\", category=DeprecationWarning)\n",
    "warnings.filterwarnings(\"ignore\", category=FutureWarning)\n",
    "from sklearn.cluster import KMeans\n",
    "import keras\n",
    "from keras.models import Sequential\n",
    "from keras.layers import Dense, Conv2D, MaxPooling2D, AveragePooling2D, Flatten, Dropout, BatchNormalization, Activation\n",
    "from keras.optimizers import Adam\n",
    "from keras.callbacks import TensorBoard\n",
    "from keras import regularizers"
   ]
  },
  {
   "cell_type": "code",
   "execution_count": 3,
   "id": "5772e464",
   "metadata": {},
   "outputs": [],
   "source": [
    "from keras.datasets import cifar10\n",
    "(X_train, y_train), (X_test, y_test) = cifar10.load_data()"
   ]
  },
  {
   "cell_type": "code",
   "execution_count": 4,
   "id": "1f1d754a",
   "metadata": {},
   "outputs": [
    {
     "name": "stdout",
     "output_type": "stream",
     "text": [
      "(50000, 32, 32, 3)\n",
      "(10000, 32, 32, 3)\n",
      "(50000, 1)\n",
      "(10000, 1)\n"
     ]
    }
   ],
   "source": [
    "print(X_train.shape)\n",
    "print(X_test.shape)\n",
    "print(y_train.shape)\n",
    "print(y_test.shape)"
   ]
  },
  {
   "cell_type": "code",
   "execution_count": 5,
   "id": "38c6c549",
   "metadata": {},
   "outputs": [],
   "source": [
    "data_dict = {0 : \"Airplane\",\n",
    "             1 : \"Car\",\n",
    "             2 : \"Bird\",\n",
    "             3 : \"Cat\",\n",
    "             4 : \"Deer\",\n",
    "             5 : \"Dog\",\n",
    "             6 : \"Frog\",\n",
    "             7 : \"Horse\",\n",
    "             8 : \"Ship\",\n",
    "             9 : \"Truck\",\n",
    "            }"
   ]
  },
  {
   "cell_type": "code",
   "execution_count": 6,
   "id": "fa817e48",
   "metadata": {},
   "outputs": [],
   "source": [
    "X_train = X_train.astype('float32')\n",
    "X_test = X_test.astype('float32')"
   ]
  },
  {
   "cell_type": "code",
   "execution_count": 7,
   "id": "f95c4df7",
   "metadata": {},
   "outputs": [],
   "source": [
    "mean = np.mean(X_train, axis = (0,1,2,3))\n",
    "std = np.std(X_train, axis = (0,1,2,3))"
   ]
  },
  {
   "cell_type": "code",
   "execution_count": 8,
   "id": "8e5e21dd",
   "metadata": {},
   "outputs": [],
   "source": [
    "X_train = (X_train-mean)/(std + 1e-7)\n",
    "X_test = (X_test-mean)/(std + 1e-7)"
   ]
  },
  {
   "cell_type": "code",
   "execution_count": 9,
   "id": "a7e1613e",
   "metadata": {},
   "outputs": [],
   "source": [
    "y_train_2 = keras.utils.to_categorical(y_train,10)\n",
    "y_test_2 = keras.utils.to_categorical(y_test,10)"
   ]
  },
  {
   "cell_type": "code",
   "execution_count": 16,
   "id": "ef6ab25e",
   "metadata": {},
   "outputs": [],
   "source": [
    "input_shape = X_train.shape[1:]"
   ]
  },
  {
   "cell_type": "code",
   "execution_count": 17,
   "id": "eafea406",
   "metadata": {},
   "outputs": [
    {
     "data": {
      "text/plain": [
       "(32, 32, 3)"
      ]
     },
     "execution_count": 17,
     "metadata": {},
     "output_type": "execute_result"
    }
   ],
   "source": [
    "input_shape"
   ]
  },
  {
   "cell_type": "code",
   "execution_count": null,
   "id": "2de15226",
   "metadata": {},
   "outputs": [],
   "source": []
  },
  {
   "cell_type": "code",
   "execution_count": 18,
   "id": "c311d8d1",
   "metadata": {},
   "outputs": [],
   "source": [
    "weight_decay = 1e-4"
   ]
  },
  {
   "cell_type": "code",
   "execution_count": 19,
   "id": "f8d0ffa6",
   "metadata": {},
   "outputs": [],
   "source": [
    "model = Sequential()\n",
    "model.add(Conv2D(filters = 32, kernel_size = (3,3), padding='same', input_shape = input_shape, kernel_regularizer=regularizers.l2(weight_decay)))\n",
    "model.add(Activation('elu'))\n",
    "model.add(BatchNormalization())\n",
    "model.add(Conv2D(filters = 32, kernel_size = (3,3), padding='same', kernel_regularizer=regularizers.l2(weight_decay)))\n",
    "model.add(Activation('elu'))\n",
    "model.add(BatchNormalization())\n",
    "model.add(MaxPooling2D(2,2))\n",
    "model.add(Dropout(0.2))\n",
    "\n",
    "model.add(Conv2D(filters = 64, kernel_size = (3,3), padding='same', kernel_regularizer=regularizers.l2(weight_decay)))\n",
    "model.add(Activation('elu'))\n",
    "model.add(BatchNormalization())\n",
    "model.add(Conv2D(filters = 64, kernel_size = (3,3), padding='same', kernel_regularizer=regularizers.l2(weight_decay)))\n",
    "model.add(Activation('elu'))\n",
    "model.add(BatchNormalization())\n",
    "model.add(MaxPooling2D(2,2))\n",
    "model.add(Dropout(0.3))\n",
    "\n",
    "model.add(Conv2D(filters = 128, kernel_size = (3,3), padding='same', kernel_regularizer=regularizers.l2(weight_decay)))\n",
    "model.add(Activation('elu'))\n",
    "model.add(BatchNormalization())\n",
    "model.add(Conv2D(filters = 128, kernel_size = (3,3), padding='same', kernel_regularizer=regularizers.l2(weight_decay)))\n",
    "model.add(Activation('elu'))\n",
    "model.add(BatchNormalization())\n",
    "model.add(MaxPooling2D(2,2))\n",
    "model.add(Dropout(0.4))\n",
    "\n",
    "\n",
    "\n",
    "model.add(Flatten())\n",
    "\n",
    "model.add(Dense(units = 10, activation = 'softmax'))"
   ]
  },
  {
   "cell_type": "code",
   "execution_count": 20,
   "id": "f2f55814",
   "metadata": {
    "scrolled": true
   },
   "outputs": [
    {
     "name": "stdout",
     "output_type": "stream",
     "text": [
      "Model: \"sequential\"\n",
      "_________________________________________________________________\n",
      " Layer (type)                Output Shape              Param #   \n",
      "=================================================================\n",
      " conv2d (Conv2D)             (None, 32, 32, 32)        896       \n",
      "                                                                 \n",
      " activation (Activation)     (None, 32, 32, 32)        0         \n",
      "                                                                 \n",
      " batch_normalization (BatchN  (None, 32, 32, 32)       128       \n",
      " ormalization)                                                   \n",
      "                                                                 \n",
      " conv2d_1 (Conv2D)           (None, 32, 32, 32)        9248      \n",
      "                                                                 \n",
      " activation_1 (Activation)   (None, 32, 32, 32)        0         \n",
      "                                                                 \n",
      " batch_normalization_1 (Batc  (None, 32, 32, 32)       128       \n",
      " hNormalization)                                                 \n",
      "                                                                 \n",
      " max_pooling2d (MaxPooling2D  (None, 16, 16, 32)       0         \n",
      " )                                                               \n",
      "                                                                 \n",
      " dropout (Dropout)           (None, 16, 16, 32)        0         \n",
      "                                                                 \n",
      " conv2d_2 (Conv2D)           (None, 16, 16, 64)        18496     \n",
      "                                                                 \n",
      " activation_2 (Activation)   (None, 16, 16, 64)        0         \n",
      "                                                                 \n",
      " batch_normalization_2 (Batc  (None, 16, 16, 64)       256       \n",
      " hNormalization)                                                 \n",
      "                                                                 \n",
      " conv2d_3 (Conv2D)           (None, 16, 16, 64)        36928     \n",
      "                                                                 \n",
      " activation_3 (Activation)   (None, 16, 16, 64)        0         \n",
      "                                                                 \n",
      " batch_normalization_3 (Batc  (None, 16, 16, 64)       256       \n",
      " hNormalization)                                                 \n",
      "                                                                 \n",
      " max_pooling2d_1 (MaxPooling  (None, 8, 8, 64)         0         \n",
      " 2D)                                                             \n",
      "                                                                 \n",
      " dropout_1 (Dropout)         (None, 8, 8, 64)          0         \n",
      "                                                                 \n",
      " conv2d_4 (Conv2D)           (None, 8, 8, 128)         73856     \n",
      "                                                                 \n",
      " activation_4 (Activation)   (None, 8, 8, 128)         0         \n",
      "                                                                 \n",
      " batch_normalization_4 (Batc  (None, 8, 8, 128)        512       \n",
      " hNormalization)                                                 \n",
      "                                                                 \n",
      " conv2d_5 (Conv2D)           (None, 8, 8, 128)         147584    \n",
      "                                                                 \n",
      " activation_5 (Activation)   (None, 8, 8, 128)         0         \n",
      "                                                                 \n",
      " batch_normalization_5 (Batc  (None, 8, 8, 128)        512       \n",
      " hNormalization)                                                 \n",
      "                                                                 \n",
      " max_pooling2d_2 (MaxPooling  (None, 4, 4, 128)        0         \n",
      " 2D)                                                             \n",
      "                                                                 \n",
      " dropout_2 (Dropout)         (None, 4, 4, 128)         0         \n",
      "                                                                 \n",
      " flatten (Flatten)           (None, 2048)              0         \n",
      "                                                                 \n",
      " dense (Dense)               (None, 10)                20490     \n",
      "                                                                 \n",
      "=================================================================\n",
      "Total params: 309,290\n",
      "Trainable params: 308,394\n",
      "Non-trainable params: 896\n",
      "_________________________________________________________________\n"
     ]
    }
   ],
   "source": [
    "model.summary()"
   ]
  },
  {
   "cell_type": "code",
   "execution_count": 21,
   "id": "15726510",
   "metadata": {},
   "outputs": [],
   "source": [
    "model.compile(loss = 'categorical_crossentropy', optimizer= keras.optimizers.RMSprop(lr = 0.001, decay = 1e-6), metrics=['accuracy'])"
   ]
  },
  {
   "cell_type": "code",
   "execution_count": 22,
   "id": "bc1ab4d4",
   "metadata": {
    "scrolled": true
   },
   "outputs": [
    {
     "name": "stdout",
     "output_type": "stream",
     "text": [
      "Epoch 1/50\n",
      "625/625 [==============================] - 103s 160ms/step - loss: 1.8196 - accuracy: 0.4602 - val_loss: 1.1805 - val_accuracy: 0.6183\n",
      "Epoch 2/50\n",
      "625/625 [==============================] - 97s 155ms/step - loss: 1.1540 - accuracy: 0.6357 - val_loss: 1.0261 - val_accuracy: 0.6844\n",
      "Epoch 3/50\n",
      "625/625 [==============================] - 101s 161ms/step - loss: 0.9706 - accuracy: 0.6974 - val_loss: 0.8670 - val_accuracy: 0.7253\n",
      "Epoch 4/50\n",
      "625/625 [==============================] - 116s 185ms/step - loss: 0.8518 - accuracy: 0.7332 - val_loss: 0.7840 - val_accuracy: 0.7581\n",
      "Epoch 5/50\n",
      "625/625 [==============================] - 112s 179ms/step - loss: 0.7826 - accuracy: 0.7578 - val_loss: 0.7609 - val_accuracy: 0.7739\n",
      "Epoch 6/50\n",
      "625/625 [==============================] - 112s 179ms/step - loss: 0.7254 - accuracy: 0.7793 - val_loss: 0.7240 - val_accuracy: 0.7854\n",
      "Epoch 7/50\n",
      "625/625 [==============================] - 122s 195ms/step - loss: 0.6887 - accuracy: 0.7993 - val_loss: 0.6897 - val_accuracy: 0.8002\n",
      "Epoch 8/50\n",
      "625/625 [==============================] - 114s 182ms/step - loss: 0.6511 - accuracy: 0.8118 - val_loss: 0.7032 - val_accuracy: 0.8004\n",
      "Epoch 9/50\n",
      "625/625 [==============================] - 101s 161ms/step - loss: 0.6239 - accuracy: 0.8228 - val_loss: 0.6724 - val_accuracy: 0.8102\n",
      "Epoch 10/50\n",
      "625/625 [==============================] - 96s 153ms/step - loss: 0.5928 - accuracy: 0.8332 - val_loss: 0.6923 - val_accuracy: 0.8076\n",
      "Epoch 11/50\n",
      "625/625 [==============================] - 96s 153ms/step - loss: 0.5738 - accuracy: 0.8439 - val_loss: 0.6996 - val_accuracy: 0.8115\n",
      "Epoch 12/50\n",
      "625/625 [==============================] - 96s 153ms/step - loss: 0.5557 - accuracy: 0.8521 - val_loss: 0.6754 - val_accuracy: 0.8150\n",
      "Epoch 13/50\n",
      "625/625 [==============================] - 96s 154ms/step - loss: 0.5377 - accuracy: 0.8595 - val_loss: 0.6805 - val_accuracy: 0.8263\n",
      "Epoch 14/50\n",
      "625/625 [==============================] - 95s 153ms/step - loss: 0.5237 - accuracy: 0.8660 - val_loss: 0.7021 - val_accuracy: 0.8199\n",
      "Epoch 15/50\n",
      "625/625 [==============================] - 97s 155ms/step - loss: 0.5123 - accuracy: 0.8687 - val_loss: 0.6703 - val_accuracy: 0.8293\n",
      "Epoch 16/50\n",
      "625/625 [==============================] - 97s 155ms/step - loss: 0.5021 - accuracy: 0.8725 - val_loss: 0.6816 - val_accuracy: 0.8254\n",
      "Epoch 17/50\n",
      "625/625 [==============================] - 97s 155ms/step - loss: 0.4899 - accuracy: 0.8817 - val_loss: 0.6604 - val_accuracy: 0.8348\n",
      "Epoch 18/50\n",
      "625/625 [==============================] - 98s 156ms/step - loss: 0.4832 - accuracy: 0.8834 - val_loss: 0.6702 - val_accuracy: 0.8367\n",
      "Epoch 19/50\n",
      "625/625 [==============================] - 101s 162ms/step - loss: 0.4793 - accuracy: 0.8857 - val_loss: 0.6694 - val_accuracy: 0.8360\n",
      "Epoch 20/50\n",
      "625/625 [==============================] - 99s 159ms/step - loss: 0.4717 - accuracy: 0.8898 - val_loss: 0.7260 - val_accuracy: 0.8218\n",
      "Epoch 21/50\n",
      "625/625 [==============================] - 100s 160ms/step - loss: 0.4635 - accuracy: 0.8923 - val_loss: 0.7207 - val_accuracy: 0.8279\n",
      "Epoch 22/50\n",
      "625/625 [==============================] - 99s 159ms/step - loss: 0.4623 - accuracy: 0.8949 - val_loss: 0.7179 - val_accuracy: 0.8302\n",
      "Epoch 23/50\n",
      "625/625 [==============================] - 99s 158ms/step - loss: 0.4588 - accuracy: 0.8988 - val_loss: 0.6712 - val_accuracy: 0.8418\n",
      "Epoch 24/50\n",
      "625/625 [==============================] - 98s 157ms/step - loss: 0.4560 - accuracy: 0.8972 - val_loss: 0.6900 - val_accuracy: 0.8444\n",
      "Epoch 25/50\n",
      "625/625 [==============================] - 98s 157ms/step - loss: 0.4518 - accuracy: 0.9004 - val_loss: 0.6796 - val_accuracy: 0.8400\n",
      "Epoch 26/50\n",
      "625/625 [==============================] - 97s 155ms/step - loss: 0.4438 - accuracy: 0.9033 - val_loss: 0.6955 - val_accuracy: 0.8372\n",
      "Epoch 27/50\n",
      "625/625 [==============================] - 97s 155ms/step - loss: 0.4435 - accuracy: 0.9044 - val_loss: 0.7145 - val_accuracy: 0.8381\n",
      "Epoch 28/50\n",
      "625/625 [==============================] - 99s 158ms/step - loss: 0.4379 - accuracy: 0.9076 - val_loss: 0.6882 - val_accuracy: 0.8466\n",
      "Epoch 29/50\n",
      "625/625 [==============================] - 101s 161ms/step - loss: 0.4454 - accuracy: 0.9058 - val_loss: 0.6869 - val_accuracy: 0.8437\n",
      "Epoch 30/50\n",
      "625/625 [==============================] - 100s 161ms/step - loss: 0.4344 - accuracy: 0.9103 - val_loss: 0.7253 - val_accuracy: 0.8342\n",
      "Epoch 31/50\n",
      "625/625 [==============================] - 99s 159ms/step - loss: 0.4317 - accuracy: 0.9129 - val_loss: 0.7299 - val_accuracy: 0.8360\n",
      "Epoch 32/50\n",
      "625/625 [==============================] - 99s 158ms/step - loss: 0.4314 - accuracy: 0.9100 - val_loss: 0.6888 - val_accuracy: 0.8453\n",
      "Epoch 33/50\n",
      "625/625 [==============================] - 98s 157ms/step - loss: 0.4275 - accuracy: 0.9137 - val_loss: 0.6919 - val_accuracy: 0.8445\n",
      "Epoch 34/50\n",
      "625/625 [==============================] - 98s 157ms/step - loss: 0.4319 - accuracy: 0.9132 - val_loss: 0.6807 - val_accuracy: 0.8492\n",
      "Epoch 35/50\n",
      "625/625 [==============================] - 96s 153ms/step - loss: 0.4251 - accuracy: 0.9151 - val_loss: 0.7291 - val_accuracy: 0.8377\n",
      "Epoch 36/50\n",
      "625/625 [==============================] - 96s 153ms/step - loss: 0.4212 - accuracy: 0.9160 - val_loss: 0.6863 - val_accuracy: 0.8469\n",
      "Epoch 37/50\n",
      "625/625 [==============================] - 97s 155ms/step - loss: 0.4165 - accuracy: 0.9200 - val_loss: 0.6930 - val_accuracy: 0.8484\n",
      "Epoch 38/50\n",
      "625/625 [==============================] - 101s 161ms/step - loss: 0.4218 - accuracy: 0.9169 - val_loss: 0.7346 - val_accuracy: 0.8403\n",
      "Epoch 39/50\n",
      "625/625 [==============================] - 98s 158ms/step - loss: 0.4245 - accuracy: 0.9189 - val_loss: 0.6990 - val_accuracy: 0.8462\n",
      "Epoch 40/50\n",
      "625/625 [==============================] - 96s 154ms/step - loss: 0.4157 - accuracy: 0.9203 - val_loss: 0.6883 - val_accuracy: 0.8510\n",
      "Epoch 41/50\n",
      "625/625 [==============================] - 96s 154ms/step - loss: 0.4107 - accuracy: 0.9223 - val_loss: 0.6955 - val_accuracy: 0.8496\n",
      "Epoch 42/50\n",
      "625/625 [==============================] - 103s 166ms/step - loss: 0.4118 - accuracy: 0.9223 - val_loss: 0.7141 - val_accuracy: 0.8460\n",
      "Epoch 43/50\n",
      "625/625 [==============================] - 101s 161ms/step - loss: 0.4136 - accuracy: 0.9209 - val_loss: 0.7296 - val_accuracy: 0.8408\n",
      "Epoch 44/50\n",
      "625/625 [==============================] - 100s 160ms/step - loss: 0.4141 - accuracy: 0.9224 - val_loss: 0.6842 - val_accuracy: 0.8483\n",
      "Epoch 45/50\n",
      "625/625 [==============================] - 98s 157ms/step - loss: 0.4095 - accuracy: 0.9241 - val_loss: 0.7289 - val_accuracy: 0.8465\n",
      "Epoch 46/50\n",
      "625/625 [==============================] - 100s 159ms/step - loss: 0.4067 - accuracy: 0.9235 - val_loss: 0.7071 - val_accuracy: 0.8532\n",
      "Epoch 47/50\n",
      "625/625 [==============================] - 102s 163ms/step - loss: 0.4049 - accuracy: 0.9250 - val_loss: 0.7189 - val_accuracy: 0.8496\n",
      "Epoch 48/50\n",
      "625/625 [==============================] - 100s 160ms/step - loss: 0.4061 - accuracy: 0.9240 - val_loss: 0.7273 - val_accuracy: 0.8428\n",
      "Epoch 49/50\n",
      "625/625 [==============================] - 106s 169ms/step - loss: 0.4060 - accuracy: 0.9245 - val_loss: 0.6924 - val_accuracy: 0.8496\n",
      "Epoch 50/50\n",
      "625/625 [==============================] - 102s 164ms/step - loss: 0.4048 - accuracy: 0.9262 - val_loss: 0.7243 - val_accuracy: 0.8469\n"
     ]
    }
   ],
   "source": [
    "epochs_hist = model.fit(X_train, y_train_2, batch_size=64, epochs=50, validation_split=0.2, shuffle=True)"
   ]
  },
  {
   "cell_type": "code",
   "execution_count": 27,
   "id": "e3c8c1e6",
   "metadata": {},
   "outputs": [
    {
     "data": {
      "image/png": "[encoded data removed]",
      "text/plain": [
       "<Figure size 1080x360 with 2 Axes>"
      ]
     },
     "metadata": {
      "needs_background": "light"
     },
     "output_type": "display_data"
    }
   ],
   "source": [
    "plt.figure(figsize=(15,5))\n",
    "plt.subplot(1,2,1)\n",
    "plt.plot(epochs_hist.history['val_accuracy'], label = 'CV Acc')\n",
    "plt.plot(epochs_hist.history['accuracy'], label = 'Training Acc')\n",
    "plt.title(\"Model Accuracy\")\n",
    "plt.xlabel('Epochs')\n",
    "plt.ylabel('Accuracy')\n",
    "plt.grid()\n",
    "plt.legend()\n",
    "\n",
    "plt.subplot(1,2,2)\n",
    "plt.plot(epochs_hist.history['val_loss'], label = 'CV Loss')\n",
    "plt.plot(epochs_hist.history['loss'], label = 'Training Loss')\n",
    "plt.title(\"Model Loss\")\n",
    "plt.xlabel('Epochs')\n",
    "plt.ylabel('Loss')\n",
    "plt.grid()\n",
    "plt.legend()\n",
    "plt.show()"
   ]
  },
  {
   "cell_type": "code",
   "execution_count": 24,
   "id": "f7005d48",
   "metadata": {},
   "outputs": [
    {
     "name": "stdout",
     "output_type": "stream",
     "text": [
      "79/79 [==============================] - 5s 68ms/step - loss: 0.7539 - accuracy: 0.8404\n"
     ]
    }
   ],
   "source": [
    "score = model.evaluate(X_test, y_test_2, batch_size=128, verbose=1)"
   ]
  },
  {
   "cell_type": "code",
   "execution_count": 25,
   "id": "e7572f22",
   "metadata": {},
   "outputs": [
    {
     "name": "stdout",
     "output_type": "stream",
     "text": [
      "Accuracy on Test Set : 84.04%\n"
     ]
    }
   ],
   "source": [
    "print(\"Accuracy on Test Set : {:.2f}%\".format(score[1]*100))"
   ]
  },
  {
   "cell_type": "code",
   "execution_count": null,
   "id": "a1253ca5",
   "metadata": {},
   "outputs": [],
   "source": []
  }
 ],
 "metadata": {
  "kernelspec": {
   "display_name": "Python 3 (ipykernel)",
   "language": "python",
   "name": "python3"
  },
  "language_info": {
   "codemirror_mode": {
    "name": "ipython",
    "version": 3
   },
   "file_extension": ".py",
   "mimetype": "text/x-python",
   "name": "python",
   "nbconvert_exporter": "python",
   "pygments_lexer": "ipython3",
   "version": "3.9.12"
  }
 },
 "nbformat": 4,
 "nbformat_minor": 5
}
