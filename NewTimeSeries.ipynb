{
 "cells": [
  {
   "cell_type": "markdown",
   "metadata": {
    "colab_type": "text",
    "id": "aMkp593zI6v8"
   },
   "source": [
    "# Nose to Time Series "
   ]
  },
  {
   "cell_type": "markdown",
   "metadata": {
    "colab_type": "text",
    "id": "fiE6izm4I6wB"
   },
   "source": [
    "## Time Series"
   ]
  },
  {
   "cell_type": "markdown",
   "metadata": {
    "colab_type": "raw",
    "id": "ugSLdVkoI6wF"
   },
   "source": [
    "In most branches of science, engineering, and commerce, there are variables measured sequentially in time. Reserve banks record interest rates and exchange rates each day. \n",
    "The government statistics department will compute the country’s gross domestic product\n",
    "on a yearly basis. Newspapers publish yesterday’s noon temperatures for capital cities \n",
    "from around the world. Meteorological offices record rainfall at many different sites \n",
    "with differing resolutions. When a variable is measured sequentially in time over or at\n",
    "a fixed interval, known as the sampling interval , the resulting data form a time series. Observations that have been collected over fixed sampling intervals form a historical \n",
    "time series. \n",
    "\n",
    "From the book, Introduction to time series with R by Cowpertwait"
   ]
  },
  {
   "cell_type": "markdown",
   "metadata": {
    "colab_type": "text",
    "id": "ful1E_MGI6wJ"
   },
   "source": [
    "## Time Series Analysis"
   ]
  },
  {
   "cell_type": "markdown",
   "metadata": {
    "colab_type": "raw",
    "collapsed": true,
    "id": "83osvgnSI6wN"
   },
   "source": [
    "Meanwhile, the main goal of time series analysis is not only to develop, but to also\n",
    "provide mathematical models that allow to achieve plausible representa- tions for sample data"
   ]
  },
  {
   "cell_type": "markdown",
   "metadata": {
    "colab_type": "text",
    "id": "E9WatTLyI6wQ"
   },
   "source": [
    "## Objectives"
   ]
  },
  {
   "cell_type": "markdown",
   "metadata": {
    "colab_type": "raw",
    "collapsed": true,
    "id": "vUZf60-bI6wS"
   },
   "source": [
    "Various objectives for studying time series are available. Among many others, we can cite\n",
    "the desire to understand and well describe the mechanism that generate  the series, forecast the future values of the series, and be able\n",
    "to optimally control a system."
   ]
  },
  {
   "cell_type": "code",
   "execution_count": null,
   "metadata": {
    "colab": {},
    "colab_type": "code",
    "id": "awtRCdykI6wa"
   },
   "outputs": [],
   "source": [
    "import pandas as pd\n",
    "import numpy as np\n",
    "import matplotlib.pylab as plt\n",
    "%matplotlib inline\n",
    "from matplotlib.pylab import rcParams\n",
    "rcParams['figure.figsize'] = 10, 6"
   ]
  },
  {
   "cell_type": "code",
   "execution_count": null,
   "metadata": {
    "colab": {},
    "colab_type": "code",
    "id": "7VJjHlybI6wr",
    "outputId": "98d2c63f-146e-4ddd-ce51-55e4691046c3"
   },
   "outputs": [
    {
     "data": {
      "text/html": [
       "<div>\n",
       "<style scoped>\n",
       "    .dataframe tbody tr th:only-of-type {\n",
       "        vertical-align: middle;\n",
       "    }\n",
       "\n",
       "    .dataframe tbody tr th {\n",
       "        vertical-align: top;\n",
       "    }\n",
       "\n",
       "    .dataframe thead th {\n",
       "        text-align: right;\n",
       "    }\n",
       "</style>\n",
       "<table border=\"1\" class=\"dataframe\">\n",
       "  <thead>\n",
       "    <tr style=\"text-align: right;\">\n",
       "      <th></th>\n",
       "      <th>ticker</th>\n",
       "      <th>date</th>\n",
       "      <th>open</th>\n",
       "      <th>high</th>\n",
       "      <th>low</th>\n",
       "      <th>close</th>\n",
       "      <th>volume</th>\n",
       "      <th>ex-dividend</th>\n",
       "      <th>split_ratio</th>\n",
       "      <th>adj_open</th>\n",
       "      <th>adj_high</th>\n",
       "      <th>adj_low</th>\n",
       "      <th>adj_close</th>\n",
       "      <th>adj_volume</th>\n",
       "    </tr>\n",
       "  </thead>\n",
       "  <tbody>\n",
       "    <tr>\n",
       "      <th>0</th>\n",
       "      <td>ABBV</td>\n",
       "      <td>1/2/2015</td>\n",
       "      <td>65.62</td>\n",
       "      <td>66.40</td>\n",
       "      <td>65.49</td>\n",
       "      <td>65.89</td>\n",
       "      <td>5087291</td>\n",
       "      <td>0.0</td>\n",
       "      <td>1</td>\n",
       "      <td>59.865188</td>\n",
       "      <td>60.576782</td>\n",
       "      <td>59.746589</td>\n",
       "      <td>60.111509</td>\n",
       "      <td>5087291</td>\n",
       "    </tr>\n",
       "    <tr>\n",
       "      <th>1</th>\n",
       "      <td>ABBV</td>\n",
       "      <td>1/5/2015</td>\n",
       "      <td>65.50</td>\n",
       "      <td>66.10</td>\n",
       "      <td>63.88</td>\n",
       "      <td>64.65</td>\n",
       "      <td>8007433</td>\n",
       "      <td>0.0</td>\n",
       "      <td>1</td>\n",
       "      <td>59.755712</td>\n",
       "      <td>60.303092</td>\n",
       "      <td>58.277784</td>\n",
       "      <td>58.980256</td>\n",
       "      <td>8007433</td>\n",
       "    </tr>\n",
       "    <tr>\n",
       "      <th>2</th>\n",
       "      <td>ABBV</td>\n",
       "      <td>1/6/2015</td>\n",
       "      <td>65.62</td>\n",
       "      <td>65.75</td>\n",
       "      <td>63.70</td>\n",
       "      <td>64.33</td>\n",
       "      <td>5488071</td>\n",
       "      <td>0.0</td>\n",
       "      <td>1</td>\n",
       "      <td>59.865188</td>\n",
       "      <td>59.983787</td>\n",
       "      <td>58.113570</td>\n",
       "      <td>58.688320</td>\n",
       "      <td>5488071</td>\n",
       "    </tr>\n",
       "    <tr>\n",
       "      <th>3</th>\n",
       "      <td>ABBV</td>\n",
       "      <td>1/7/2015</td>\n",
       "      <td>64.57</td>\n",
       "      <td>67.05</td>\n",
       "      <td>64.48</td>\n",
       "      <td>66.93</td>\n",
       "      <td>8283083</td>\n",
       "      <td>0.0</td>\n",
       "      <td>1</td>\n",
       "      <td>58.907272</td>\n",
       "      <td>61.169778</td>\n",
       "      <td>58.825165</td>\n",
       "      <td>61.060302</td>\n",
       "      <td>8283083</td>\n",
       "    </tr>\n",
       "    <tr>\n",
       "      <th>4</th>\n",
       "      <td>ABBV</td>\n",
       "      <td>1/8/2015</td>\n",
       "      <td>68.16</td>\n",
       "      <td>68.29</td>\n",
       "      <td>67.42</td>\n",
       "      <td>67.63</td>\n",
       "      <td>7945920</td>\n",
       "      <td>0.0</td>\n",
       "      <td>1</td>\n",
       "      <td>62.182432</td>\n",
       "      <td>62.301031</td>\n",
       "      <td>61.507329</td>\n",
       "      <td>61.698913</td>\n",
       "      <td>7945920</td>\n",
       "    </tr>\n",
       "  </tbody>\n",
       "</table>\n",
       "</div>"
      ],
      "text/plain": [
       "  ticker      date   open   high    low  close   volume  ex-dividend  \\\n",
       "0   ABBV  1/2/2015  65.62  66.40  65.49  65.89  5087291          0.0   \n",
       "1   ABBV  1/5/2015  65.50  66.10  63.88  64.65  8007433          0.0   \n",
       "2   ABBV  1/6/2015  65.62  65.75  63.70  64.33  5488071          0.0   \n",
       "3   ABBV  1/7/2015  64.57  67.05  64.48  66.93  8283083          0.0   \n",
       "4   ABBV  1/8/2015  68.16  68.29  67.42  67.63  7945920          0.0   \n",
       "\n",
       "   split_ratio   adj_open   adj_high    adj_low  adj_close  adj_volume  \n",
       "0            1  59.865188  60.576782  59.746589  60.111509     5087291  \n",
       "1            1  59.755712  60.303092  58.277784  58.980256     8007433  \n",
       "2            1  59.865188  59.983787  58.113570  58.688320     5488071  \n",
       "3            1  58.907272  61.169778  58.825165  61.060302     8283083  \n",
       "4            1  62.182432  62.301031  61.507329  61.698913     7945920  "
      ]
     },
     "execution_count": 2,
     "metadata": {
      "tags": []
     },
     "output_type": "execute_result"
    }
   ],
   "source": [
    "import pandas as pd\n",
    "dateparse = lambda dates: pd.datetime.strptime(dates, '%m/%d/%y')\n",
    "data = pd.read_csv('StockPrice.csv', header = 0)\n",
    "data.head()"
   ]
  },
  {
   "cell_type": "code",
   "execution_count": null,
   "metadata": {
    "colab": {},
    "colab_type": "code",
    "id": "nupdoMe5I6w4",
    "outputId": "d04e1ebb-f5c6-45d8-8776-d3e0e46afd3a"
   },
   "outputs": [
    {
     "name": "stdout",
     "output_type": "stream",
     "text": [
      "<class 'pandas.core.frame.DataFrame'>\n",
      "RangeIndex: 504 entries, 0 to 503\n",
      "Data columns (total 14 columns):\n",
      "ticker         504 non-null object\n",
      "date           504 non-null object\n",
      "open           504 non-null float64\n",
      "high           504 non-null float64\n",
      "low            504 non-null float64\n",
      "close          504 non-null float64\n",
      "volume         504 non-null int64\n",
      "ex-dividend    504 non-null float64\n",
      "split_ratio    504 non-null int64\n",
      "adj_open       504 non-null float64\n",
      "adj_high       504 non-null float64\n",
      "adj_low        504 non-null float64\n",
      "adj_close      504 non-null float64\n",
      "adj_volume     504 non-null int64\n",
      "dtypes: float64(9), int64(3), object(2)\n",
      "memory usage: 55.2+ KB\n"
     ]
    }
   ],
   "source": [
    "data.info()"
   ]
  },
  {
   "cell_type": "code",
   "execution_count": null,
   "metadata": {
    "colab": {},
    "colab_type": "code",
    "id": "A2fx6cTmI6xE",
    "outputId": "b9a9cdb0-1e68-4632-f78a-039ef96a3609"
   },
   "outputs": [
    {
     "data": {
      "text/plain": [
       "RangeIndex(start=0, stop=504, step=1)"
      ]
     },
     "execution_count": 4,
     "metadata": {
      "tags": []
     },
     "output_type": "execute_result"
    }
   ],
   "source": [
    "# Take a look at the indices\n",
    "data.index"
   ]
  },
  {
   "cell_type": "code",
   "execution_count": null,
   "metadata": {
    "colab": {},
    "colab_type": "code",
    "id": "sAhp9HnCI6xR"
   },
   "outputs": [],
   "source": [
    "reducedData = data.iloc[:,[2,5]]"
   ]
  },
  {
   "cell_type": "code",
   "execution_count": null,
   "metadata": {
    "colab": {},
    "colab_type": "code",
    "id": "mK0orq3II6xd",
    "outputId": "61d2c649-28dc-41de-c6e1-d2aa4e16dfda"
   },
   "outputs": [
    {
     "name": "stderr",
     "output_type": "stream",
     "text": [
      "/Users/Zia/anaconda2/envs/py36/lib/python3.6/site-packages/ipykernel_launcher.py:1: SettingWithCopyWarning: \n",
      "A value is trying to be set on a copy of a slice from a DataFrame.\n",
      "Try using .loc[row_indexer,col_indexer] = value instead\n",
      "\n",
      "See the caveats in the documentation: http://pandas.pydata.org/pandas-docs/stable/indexing.html#indexing-view-versus-copy\n",
      "  \"\"\"Entry point for launching an IPython kernel.\n"
     ]
    }
   ],
   "source": [
    "reducedData['AveragePrice'] = (reducedData['open'] + reducedData['close'])/2"
   ]
  },
  {
   "cell_type": "code",
   "execution_count": null,
   "metadata": {
    "colab": {},
    "colab_type": "code",
    "id": "RtgRFcMGI6xl",
    "outputId": "c5def92f-8bec-4e99-9ddf-9dd0884ce9dc"
   },
   "outputs": [
    {
     "data": {
      "text/html": [
       "<div>\n",
       "<style scoped>\n",
       "    .dataframe tbody tr th:only-of-type {\n",
       "        vertical-align: middle;\n",
       "    }\n",
       "\n",
       "    .dataframe tbody tr th {\n",
       "        vertical-align: top;\n",
       "    }\n",
       "\n",
       "    .dataframe thead th {\n",
       "        text-align: right;\n",
       "    }\n",
       "</style>\n",
       "<table border=\"1\" class=\"dataframe\">\n",
       "  <thead>\n",
       "    <tr style=\"text-align: right;\">\n",
       "      <th></th>\n",
       "      <th>open</th>\n",
       "      <th>close</th>\n",
       "      <th>AveragePrice</th>\n",
       "    </tr>\n",
       "  </thead>\n",
       "  <tbody>\n",
       "    <tr>\n",
       "      <th>0</th>\n",
       "      <td>65.62</td>\n",
       "      <td>65.89</td>\n",
       "      <td>65.755</td>\n",
       "    </tr>\n",
       "    <tr>\n",
       "      <th>1</th>\n",
       "      <td>65.50</td>\n",
       "      <td>64.65</td>\n",
       "      <td>65.075</td>\n",
       "    </tr>\n",
       "    <tr>\n",
       "      <th>2</th>\n",
       "      <td>65.62</td>\n",
       "      <td>64.33</td>\n",
       "      <td>64.975</td>\n",
       "    </tr>\n",
       "    <tr>\n",
       "      <th>3</th>\n",
       "      <td>64.57</td>\n",
       "      <td>66.93</td>\n",
       "      <td>65.750</td>\n",
       "    </tr>\n",
       "    <tr>\n",
       "      <th>4</th>\n",
       "      <td>68.16</td>\n",
       "      <td>67.63</td>\n",
       "      <td>67.895</td>\n",
       "    </tr>\n",
       "  </tbody>\n",
       "</table>\n",
       "</div>"
      ],
      "text/plain": [
       "    open  close  AveragePrice\n",
       "0  65.62  65.89        65.755\n",
       "1  65.50  64.65        65.075\n",
       "2  65.62  64.33        64.975\n",
       "3  64.57  66.93        65.750\n",
       "4  68.16  67.63        67.895"
      ]
     },
     "execution_count": 7,
     "metadata": {
      "tags": []
     },
     "output_type": "execute_result"
    }
   ],
   "source": [
    "reducedData.head()"
   ]
  },
  {
   "cell_type": "code",
   "execution_count": null,
   "metadata": {
    "colab": {},
    "colab_type": "code",
    "id": "r8fPnwS1I6xu",
    "outputId": "30e9463f-360f-40ea-efa3-1cae09b7534e"
   },
   "outputs": [
    {
     "data": {
      "text/plain": [
       "0    65.755\n",
       "1    65.075\n",
       "2    64.975\n",
       "3    65.750\n",
       "4    67.895\n",
       "Name: AveragePrice, dtype: float64"
      ]
     },
     "execution_count": 8,
     "metadata": {
      "tags": []
     },
     "output_type": "execute_result"
    }
   ],
   "source": [
    "myPrice = reducedData.loc[:,'AveragePrice']\n",
    "myPrice.head()"
   ]
  },
  {
   "cell_type": "code",
   "execution_count": null,
   "metadata": {
    "colab": {},
    "colab_type": "code",
    "id": "WPhaExoDI6x3",
    "outputId": "4ff897ca-10a7-4438-991a-cb637952074c"
   },
   "outputs": [
    {
     "data": {
      "text/plain": [
       "[<matplotlib.lines.Line2D at 0x1050e5be0>]"
      ]
     },
     "execution_count": 9,
     "metadata": {
      "tags": []
     },
     "output_type": "execute_result"
    },
    {
     "data": {
      "image/png": "[encoded data removed]",
      "text/plain": [
       "<Figure size 432x288 with 1 Axes>"
      ]
     },
     "metadata": {
      "tags": []
     },
     "output_type": "display_data"
    }
   ],
   "source": [
    "plt.plot(myPrice)"
   ]
  },
  {
   "cell_type": "markdown",
   "metadata": {
    "colab_type": "text",
    "id": "1SpbX4imI6yF"
   },
   "source": [
    "## Components of a Time series"
   ]
  },
  {
   "cell_type": "markdown",
   "metadata": {
    "colab_type": "raw",
    "id": "QCdkvy98I6yI"
   },
   "source": [
    "Time series have very complex structures. Without loss of generality, an ordinary time series\n",
    "is made of:\n",
    "    1- Trend Component\n",
    "    2- Cyclic Component\n",
    "    3- Seasonal Component\n",
    "    4- Irregular Component"
   ]
  },
  {
   "cell_type": "code",
   "execution_count": null,
   "metadata": {
    "colab": {},
    "colab_type": "code",
    "id": "LD3-YL2qI6yJ",
    "outputId": "8bbbf60d-8b80-4057-c9af-230efb2dce20"
   },
   "outputs": [
    {
     "data": {
      "image/png": "[encoded data removed]",
      "text/plain": [
       "<Figure size 432x288 with 4 Axes>"
      ]
     },
     "metadata": {
      "tags": []
     },
     "output_type": "display_data"
    }
   ],
   "source": [
    "from statsmodels.tsa.seasonal import seasonal_decompose\n",
    "decomposition = seasonal_decompose(myPrice, freq = 3)\n",
    "\n",
    "trend = decomposition.trend\n",
    "seasonal = decomposition.seasonal\n",
    "residual = decomposition.resid\n",
    "\n",
    "plt.subplot(411)\n",
    "plt.plot(myPrice, label='Original')\n",
    "plt.legend(loc='best')\n",
    "plt.subplot(412)\n",
    "plt.plot(trend, label='Trend')\n",
    "plt.legend(loc='best')\n",
    "plt.subplot(413)\n",
    "plt.plot(seasonal,label='Seasonality')\n",
    "plt.legend(loc='best')\n",
    "plt.subplot(414)\n",
    "plt.plot(residual, label='Residuals')\n",
    "plt.legend(loc='best')\n",
    "plt.tight_layout()"
   ]
  },
  {
   "cell_type": "markdown",
   "metadata": {
    "colab_type": "text",
    "id": "wSDxdItqI6yR"
   },
   "source": [
    "## Normality test"
   ]
  },
  {
   "cell_type": "markdown",
   "metadata": {
    "colab_type": "raw",
    "id": "R6NSrOvJI6yT"
   },
   "source": [
    "Though, this is a data science bootcamp, which is, in general based on machine learning algroithm,time series analysis falls more in the category of statistical modeling or analysis.\n",
    "\n",
    "As well known, every single model be it from machine learning or statistical analysis, makes some assumptions. In statistical analysis or modeling, one of the key assumptions on which almost all the statistical models stand on is the notion of normality. More often than not, models that rely on normality are called to be parametric models.\n",
    "\n",
    "In the framework of normality, the sample data that are used for a given investigation display a Gaussian normal distribution. One of the main advantages of working in the normality framework is that it allows one have very significant results since non-parametric models or tests have less ability to detect or capture some differences or variabilities in the data.\n",
    "\n",
    "This being said, it comes more than crucial to us to sometimes look at the normality of the data we are working. To do so, many techniques exist. The easiest technique is to conduct a visualisation appoach wich consists at either looking at the histogram or the qq-plot of the data. The second approach is to use some well formed statistical tests such as shapirotest,  Cramér–von Mises criterion test, Pearson's chi-squared test, Kolmogorov–Smirnov test "
   ]
  },
  {
   "cell_type": "code",
   "execution_count": null,
   "metadata": {
    "colab": {},
    "colab_type": "code",
    "id": "EHQjIjyjI6yW",
    "outputId": "e23450fa-c259-4c79-a492-1d530fed0ede"
   },
   "outputs": [
    {
     "data": {
      "image/png": "[encoded data removed]",
      "text/plain": [
       "<Figure size 432x288 with 1 Axes>"
      ]
     },
     "metadata": {
      "tags": []
     },
     "output_type": "display_data"
    }
   ],
   "source": [
    "from pandas import Series\n",
    "from matplotlib import pyplot\n",
    "myPrice.hist()\n",
    "pyplot.show()"
   ]
  },
  {
   "cell_type": "code",
   "execution_count": null,
   "metadata": {
    "colab": {},
    "colab_type": "code",
    "id": "vU8XGYp4I6yg",
    "outputId": "dd2ed1f6-0e41-46ec-9830-ec1ff965b36d"
   },
   "outputs": [
    {
     "data": {
      "image/png": "[encoded data removed]",
      "text/plain": [
       "<Figure size 432x288 with 1 Axes>"
      ]
     },
     "metadata": {
      "tags": []
     },
     "output_type": "display_data"
    }
   ],
   "source": [
    "# q-q plot\n",
    "from statsmodels.graphics.gofplots import qqplot\n",
    "qqplot(myPrice, line='s')\n",
    "pyplot.show()"
   ]
  },
  {
   "cell_type": "markdown",
   "metadata": {
    "colab_type": "text",
    "id": "pRP1MTGkI6yn"
   },
   "source": [
    "## Shapiro Test"
   ]
  },
  {
   "cell_type": "markdown",
   "metadata": {
    "colab_type": "raw",
    "id": "6A1P_Ey3I6yp"
   },
   "source": [
    "H0: The Sample is normally distributed\n",
    "H1: The Sample is not normally distributed"
   ]
  },
  {
   "cell_type": "code",
   "execution_count": null,
   "metadata": {
    "colab": {},
    "colab_type": "code",
    "id": "ZwvKmg7xI6yp"
   },
   "outputs": [],
   "source": [
    "from scipy.stats import shapiro"
   ]
  },
  {
   "cell_type": "code",
   "execution_count": null,
   "metadata": {
    "colab": {},
    "colab_type": "code",
    "id": "ZfbDI9WlI6yz"
   },
   "outputs": [],
   "source": [
    "def shapiroTest(ts):\n",
    "    val = shapiro(ts)\n",
    "    statistic = round(val[0],3)\n",
    "    pval = round(val[1],3)\n",
    "    criticalVal = 0.05\n",
    "    if pval > criticalVal:\n",
    "        print('a Gaussian case')\n",
    "    else:\n",
    "        print('a non Gaussian case')"
   ]
  },
  {
   "cell_type": "code",
   "execution_count": null,
   "metadata": {
    "colab": {},
    "colab_type": "code",
    "id": "eUnOfl58I6y5",
    "outputId": "36393991-2e19-4304-a02c-2419e93d45ee"
   },
   "outputs": [
    {
     "name": "stdout",
     "output_type": "stream",
     "text": [
      "a non Gaussian case\n"
     ]
    }
   ],
   "source": [
    "shapiroTest(myPrice)"
   ]
  },
  {
   "cell_type": "markdown",
   "metadata": {
    "colab_type": "text",
    "id": "wGDXSibSI6y_"
   },
   "source": [
    "## Stationarity"
   ]
  },
  {
   "cell_type": "markdown",
   "metadata": {
    "colab_type": "raw",
    "id": "YFfyZfPYI6zA"
   },
   "source": [
    "A time series is said to be stationary if its statistical properties are not changing \n",
    "through time. By statistical properties, we are talking about the mean, the variance and\n",
    "autocovariance."
   ]
  },
  {
   "cell_type": "markdown",
   "metadata": {
    "colab_type": "raw",
    "id": "1xd4qm6SI6zB"
   },
   "source": [
    "The first and easiest step to check whether or not a time series is stationary is to conduct\n",
    "visual investigation of the mean and the variance. In doing so, we focus on seeing if those\n",
    "moments change through time."
   ]
  },
  {
   "cell_type": "code",
   "execution_count": null,
   "metadata": {
    "colab": {},
    "colab_type": "code",
    "id": "QMj70gF7I6zD"
   },
   "outputs": [],
   "source": [
    "# Let us investigate if the mean and the varianne of the series change through time\n",
    "def rolling_Mean_STD(timeseries):\n",
    "    \n",
    "    #Determing rolling statistics\n",
    "    rolmean = timeseries.rolling(window=12).mean()\n",
    "    \n",
    "    rolstd = timeseries.rolling(window=12).std()\n",
    "    \n",
    "    #Plot rolling statistics:\n",
    "    orig = plt.plot(timeseries, color='blue',label='Original')\n",
    "    mean = plt.plot(rolmean, color='red', label='Rolling Mean')\n",
    "    std = plt.plot(rolstd, color='black', label = 'Rolling Std')\n",
    "    plt.legend(loc='best')\n",
    "    plt.title('Rolling Mean & Standard Deviation')\n",
    "    plt.show(block=False)\n"
   ]
  },
  {
   "cell_type": "code",
   "execution_count": null,
   "metadata": {
    "colab": {},
    "colab_type": "code",
    "id": "iYRMz6JkI6zM",
    "outputId": "eca49c7c-bf0b-49d5-ce84-df3b9236748b"
   },
   "outputs": [
    {
     "data": {
      "image/png": "[encoded data removed]",
      "text/plain": [
       "<Figure size 432x288 with 1 Axes>"
      ]
     },
     "metadata": {
      "tags": []
     },
     "output_type": "display_data"
    }
   ],
   "source": [
    "rolling_Mean_STD(myPrice)"
   ]
  },
  {
   "cell_type": "markdown",
   "metadata": {
    "colab_type": "raw",
    "id": "JFavIweBI6zS"
   },
   "source": [
    "More often than not, visual techniques can lead to erroneous conclusions. Therefore, there\n",
    "is the imperious necessity to have some rigourous approaches. \n",
    "\n",
    "On this ground, the simplest approach will be to take different portions of the data, which will constitue some statistical samples. Then, see if there is a difference between their respective mean."
   ]
  },
  {
   "cell_type": "code",
   "execution_count": null,
   "metadata": {
    "colab": {},
    "colab_type": "code",
    "id": "oRFwqMmOI6zS"
   },
   "outputs": [],
   "source": [
    "ts = myPrice"
   ]
  },
  {
   "cell_type": "code",
   "execution_count": null,
   "metadata": {
    "colab": {},
    "colab_type": "code",
    "id": "MyiFJua1I6zY",
    "outputId": "3b7dde26-49b9-4f15-a68b-71165343042e"
   },
   "outputs": [
    {
     "data": {
      "text/plain": [
       "0      65.7550\n",
       "1      65.0750\n",
       "2      64.9750\n",
       "3      65.7500\n",
       "4      67.8950\n",
       "5      66.2350\n",
       "6      66.0500\n",
       "7      64.5550\n",
       "8      63.1600\n",
       "9      63.4450\n",
       "10     63.7450\n",
       "11     64.2550\n",
       "12     62.9000\n",
       "13     63.0900\n",
       "14     63.0450\n",
       "15     62.5450\n",
       "16     62.7150\n",
       "17     62.6450\n",
       "18     62.6200\n",
       "19     61.2200\n",
       "20     61.0950\n",
       "21     61.6250\n",
       "22     57.9300\n",
       "23     57.7675\n",
       "24     57.3050\n",
       "25     55.5750\n",
       "26     56.4100\n",
       "27     57.0250\n",
       "28     57.2250\n",
       "29     57.7000\n",
       "        ...   \n",
       "474    61.7250\n",
       "475    61.0850\n",
       "476    60.5600\n",
       "477    59.7100\n",
       "478    59.4950\n",
       "479    60.2750\n",
       "480    59.2950\n",
       "481    60.6450\n",
       "482    61.2150\n",
       "483    59.9950\n",
       "484    59.3100\n",
       "485    60.2300\n",
       "486    61.1900\n",
       "487    60.1250\n",
       "488    60.4600\n",
       "489    61.3650\n",
       "490    61.7850\n",
       "491    62.1600\n",
       "492    61.6100\n",
       "493    61.9100\n",
       "494    62.1700\n",
       "495    62.2950\n",
       "496    62.2500\n",
       "497    61.8375\n",
       "498    61.6200\n",
       "499    62.0600\n",
       "500    62.5100\n",
       "501    62.3900\n",
       "502    62.5600\n",
       "503    62.6745\n",
       "Name: AveragePrice, Length: 504, dtype: float64"
      ]
     },
     "execution_count": 19,
     "metadata": {
      "tags": []
     },
     "output_type": "execute_result"
    }
   ],
   "source": [
    "ts.loc[:'AveragePrice']"
   ]
  },
  {
   "cell_type": "code",
   "execution_count": null,
   "metadata": {
    "colab": {},
    "colab_type": "code",
    "id": "EBw6TDtBI6zk"
   },
   "outputs": [],
   "source": [
    "def mean_checker(timeSeries):\n",
    "    thres = int(len(timeSeries)/3)\n",
    "    firstPart = timeSeries[1:thres]\n",
    "    secondPart = timeSeries[(thres+1):(2*thres)]\n",
    "    thirdPart = timeSeries[(2*thres+1):]\n",
    "    \n",
    "    print('the length of the first part is',len(firstPart))\n",
    "    print('the length of the second part is',len(secondPart))\n",
    "    print('the length of the third part is',len(thirdPart))\n",
    "    \n",
    "    print('-------------------------------------------------')\n",
    "    firstMean = firstPart.mean()\n",
    "    secondMean = secondPart.mean()\n",
    "    thirdMean = thirdPart.mean()\n",
    "    \n",
    "    print('--------------------------------------------------')\n",
    "    print('The mean of the first part is',firstMean)\n",
    "    print('The mean of the second part is',secondMean)\n",
    "    print('The mean of the third part is',thirdMean)"
   ]
  },
  {
   "cell_type": "code",
   "execution_count": null,
   "metadata": {
    "colab": {},
    "colab_type": "code",
    "id": "L3EuoodUI6zq",
    "outputId": "76eb646c-7a22-425c-b8eb-ccd05eb32c1a"
   },
   "outputs": [
    {
     "name": "stdout",
     "output_type": "stream",
     "text": [
      "the length of the first part is 167\n",
      "the length of the second part is 167\n",
      "the length of the third part is 167\n",
      "-------------------------------------------------\n",
      "--------------------------------------------------\n",
      "The mean of the first part is 64.27929640718564\n",
      "The mean of the second part is 57.31086826347306\n",
      "The mean of the third part is 62.533215568862275\n"
     ]
    }
   ],
   "source": [
    "mean_checker(ts)"
   ]
  },
  {
   "cell_type": "markdown",
   "metadata": {
    "colab_type": "raw",
    "collapsed": true,
    "id": "bJDAw6c8I6zy"
   },
   "source": [
    "The above output shows that the mean is changing per intervals"
   ]
  },
  {
   "cell_type": "code",
   "execution_count": null,
   "metadata": {
    "colab": {},
    "colab_type": "code",
    "id": "VjIbKfehI6zy"
   },
   "outputs": [],
   "source": [
    "# What other way can you use to see if the series is stationary or not?\n",
    "# write a function called std_checker"
   ]
  },
  {
   "cell_type": "markdown",
   "metadata": {
    "colab_type": "raw",
    "id": "qGL5qyt9I6z3"
   },
   "source": [
    "Duckey Fuller test\n",
    "\n",
    "Dickey-Fuller Test: This is one of the statistical tests for checking stationarity. Here the null hypothesis is that the TS is non-stationary. The test results comprise of a Test Statistic and some Critical Values for difference confidence levels. If the ‘Test Statistic’ is less than the ‘Critical Value’, we can reject the null hypothesis and say that the series is stationary. \n"
   ]
  },
  {
   "cell_type": "code",
   "execution_count": null,
   "metadata": {
    "colab": {},
    "colab_type": "code",
    "id": "2cEIEsrPI6z3"
   },
   "outputs": [],
   "source": [
    "# let us use the Duckey Fuller Test\n",
    "from statsmodels.tsa.stattools import adfuller\n",
    "def stationarity_test(timeseries):\n",
    "    #Perform Dickey-Fuller test:\n",
    "    print('Results of Dickey-Fuller Test:')\n",
    "    dftest = adfuller(timeseries, autolag='AIC')\n",
    "    dfoutput = pd.Series(dftest[0:4], index=['Test Statistic','p-value',\n",
    "                                             '#Lags Used',\n",
    "                                             'Number of Observations Used'])\n",
    "    for key,value in dftest[4].items():\n",
    "        dfoutput['Critical Value (%s)'%key] = value\n",
    "    print (dfoutput)"
   ]
  },
  {
   "cell_type": "code",
   "execution_count": null,
   "metadata": {
    "colab": {},
    "colab_type": "code",
    "id": "iPlu2QbLI60E",
    "outputId": "016a141c-bec3-4c51-898e-dbcaecbce538"
   },
   "outputs": [
    {
     "name": "stdout",
     "output_type": "stream",
     "text": [
      "Results of Dickey-Fuller Test:\n",
      "Test Statistic                  -2.021557\n",
      "p-value                          0.277202\n",
      "#Lags Used                       8.000000\n",
      "Number of Observations Used    495.000000\n",
      "Critical Value (1%)             -3.443630\n",
      "Critical Value (5%)             -2.867397\n",
      "Critical Value (10%)            -2.569889\n",
      "dtype: float64\n"
     ]
    }
   ],
   "source": [
    "stationarity_test(myPrice)"
   ]
  },
  {
   "cell_type": "markdown",
   "metadata": {
    "colab_type": "text",
    "id": "DPPPwri3I60L"
   },
   "source": [
    "## Make The Series Stationary"
   ]
  },
  {
   "cell_type": "code",
   "execution_count": null,
   "metadata": {
    "colab": {},
    "colab_type": "code",
    "id": "aL36J8QeI60L"
   },
   "outputs": [],
   "source": [
    "# Let's us try to make the series stationary. For, we need to applay some transformation"
   ]
  },
  {
   "cell_type": "markdown",
   "metadata": {
    "colab_type": "text",
    "id": "nvkxXk_MI60b"
   },
   "source": [
    "### Log Transformation"
   ]
  },
  {
   "cell_type": "code",
   "execution_count": null,
   "metadata": {
    "colab": {},
    "colab_type": "code",
    "collapsed": true,
    "id": "dtBw4q2JI60e"
   },
   "outputs": [],
   "source": [
    "logTs = np.log(ts)"
   ]
  },
  {
   "cell_type": "code",
   "execution_count": null,
   "metadata": {
    "colab": {},
    "colab_type": "code",
    "id": "31MITZiYI60m",
    "outputId": "7a3955ba-3b70-49e4-ef8e-a9a29cb6c634"
   },
   "outputs": [
    {
     "data": {
      "text/plain": [
       "[<matplotlib.lines.Line2D at 0x113972080>]"
      ]
     },
     "execution_count": 27,
     "metadata": {
      "tags": []
     },
     "output_type": "execute_result"
    },
    {
     "data": {
      "image/png": "[encoded data removed]",
      "text/plain": [
       "<Figure size 432x288 with 1 Axes>"
      ]
     },
     "metadata": {
      "tags": []
     },
     "output_type": "display_data"
    }
   ],
   "source": [
    "plt.plot(logTs)"
   ]
  },
  {
   "cell_type": "code",
   "execution_count": null,
   "metadata": {
    "colab": {},
    "colab_type": "code",
    "collapsed": true,
    "id": "-IwWrr-wI60r"
   },
   "outputs": [],
   "source": [
    "# apply the rolling_Mean_STD to the log"
   ]
  },
  {
   "cell_type": "code",
   "execution_count": null,
   "metadata": {
    "colab": {},
    "colab_type": "code",
    "id": "cRbbPB7sI61J",
    "outputId": "3c5b2c0b-0ed8-45a1-c4e0-6f132b037aec"
   },
   "outputs": [
    {
     "data": {
      "image/png": "[encoded data removed]",
      "text/plain": [
       "<Figure size 432x288 with 1 Axes>"
      ]
     },
     "metadata": {
      "tags": []
     },
     "output_type": "display_data"
    }
   ],
   "source": [
    "rolling_Mean_STD(logTs)"
   ]
  },
  {
   "cell_type": "code",
   "execution_count": null,
   "metadata": {
    "colab": {},
    "colab_type": "code",
    "collapsed": true,
    "id": "VYZMcKNmI61S"
   },
   "outputs": [],
   "source": [
    "# apply the function mean_checker"
   ]
  },
  {
   "cell_type": "code",
   "execution_count": null,
   "metadata": {
    "colab": {},
    "colab_type": "code",
    "id": "YD6bAhyAI61d",
    "outputId": "758172a1-531c-4ed1-f66c-ad200c1cc400"
   },
   "outputs": [
    {
     "name": "stdout",
     "output_type": "stream",
     "text": [
      "the length of the first part is 167\n",
      "the length of the second part is 167\n",
      "the length of the third part is 167\n",
      "-------------------------------------------------\n",
      "--------------------------------------------------\n",
      "The mean of the first part is 4.1609802620079455\n",
      "The mean of the second part is 4.047325940281941\n",
      "The mean of the third part is 4.134980982211961\n"
     ]
    }
   ],
   "source": [
    "mean_checker(logTs)"
   ]
  },
  {
   "cell_type": "code",
   "execution_count": null,
   "metadata": {
    "colab": {},
    "colab_type": "code",
    "collapsed": true,
    "id": "JbgaWY1oI61h"
   },
   "outputs": [],
   "source": [
    "# apply the Duckey Fuller test"
   ]
  },
  {
   "cell_type": "markdown",
   "metadata": {
    "colab_type": "text",
    "id": "7YA8VJhSI61k"
   },
   "source": [
    "### Differencing"
   ]
  },
  {
   "cell_type": "code",
   "execution_count": null,
   "metadata": {
    "colab": {},
    "colab_type": "code",
    "collapsed": true,
    "id": "adMibgi9I61l"
   },
   "outputs": [],
   "source": [
    "# similar thing could be done by differencing the series"
   ]
  },
  {
   "cell_type": "code",
   "execution_count": null,
   "metadata": {
    "colab": {},
    "colab_type": "code",
    "id": "w51UwZxBI61p",
    "outputId": "3636ba66-c50f-4fee-b099-5b355f8bbe70"
   },
   "outputs": [
    {
     "data": {
      "text/plain": [
       "0         NaN\n",
       "1     -0.6800\n",
       "2     -0.1000\n",
       "3      0.7750\n",
       "4      2.1450\n",
       "5     -1.6600\n",
       "6     -0.1850\n",
       "7     -1.4950\n",
       "8     -1.3950\n",
       "9      0.2850\n",
       "10     0.3000\n",
       "11     0.5100\n",
       "12    -1.3550\n",
       "13     0.1900\n",
       "14    -0.0450\n",
       "15    -0.5000\n",
       "16     0.1700\n",
       "17    -0.0700\n",
       "18    -0.0250\n",
       "19    -1.4000\n",
       "20    -0.1250\n",
       "21     0.5300\n",
       "22    -3.6950\n",
       "23    -0.1625\n",
       "24    -0.4625\n",
       "25    -1.7300\n",
       "26     0.8350\n",
       "27     0.6150\n",
       "28     0.2000\n",
       "29     0.4750\n",
       "        ...  \n",
       "474   -0.3800\n",
       "475   -0.6400\n",
       "476   -0.5250\n",
       "477   -0.8500\n",
       "478   -0.2150\n",
       "479    0.7800\n",
       "480   -0.9800\n",
       "481    1.3500\n",
       "482    0.5700\n",
       "483   -1.2200\n",
       "484   -0.6850\n",
       "485    0.9200\n",
       "486    0.9600\n",
       "487   -1.0650\n",
       "488    0.3350\n",
       "489    0.9050\n",
       "490    0.4200\n",
       "491    0.3750\n",
       "492   -0.5500\n",
       "493    0.3000\n",
       "494    0.2600\n",
       "495    0.1250\n",
       "496   -0.0450\n",
       "497   -0.4125\n",
       "498   -0.2175\n",
       "499    0.4400\n",
       "500    0.4500\n",
       "501   -0.1200\n",
       "502    0.1700\n",
       "503    0.1145\n",
       "Name: AveragePrice, Length: 504, dtype: float64"
      ]
     },
     "execution_count": 34,
     "metadata": {
      "tags": []
     },
     "output_type": "execute_result"
    }
   ],
   "source": [
    "#Take first difference:\n",
    "differencedSeries = ts - ts.shift()\n",
    "differencedSeries"
   ]
  },
  {
   "cell_type": "code",
   "execution_count": null,
   "metadata": {
    "colab": {},
    "colab_type": "code",
    "id": "_XvFA846I61v",
    "outputId": "3bd4f201-75e4-449e-82bd-2292b766f74a"
   },
   "outputs": [
    {
     "data": {
      "text/plain": [
       "[<matplotlib.lines.Line2D at 0x11386c160>]"
      ]
     },
     "execution_count": 35,
     "metadata": {
      "tags": []
     },
     "output_type": "execute_result"
    },
    {
     "data": {
      "image/png": "[encoded data removed]",
      "text/plain": [
       "<Figure size 432x288 with 1 Axes>"
      ]
     },
     "metadata": {
      "tags": []
     },
     "output_type": "display_data"
    }
   ],
   "source": [
    "differencedSeries.dropna(inplace = True)\n",
    "plt.plot(differencedSeries)"
   ]
  },
  {
   "cell_type": "code",
   "execution_count": null,
   "metadata": {
    "colab": {},
    "colab_type": "code",
    "id": "fS3DvysuI61y",
    "outputId": "60d9c07d-a48d-4659-f7ee-819517858d53"
   },
   "outputs": [
    {
     "data": {
      "image/png": "[encoded data removed]",
      "text/plain": [
       "<Figure size 432x288 with 1 Axes>"
      ]
     },
     "metadata": {
      "tags": []
     },
     "output_type": "display_data"
    }
   ],
   "source": [
    "# Let us apply our rolling_Mean_STD(logTs)\n",
    "rolling_Mean_STD(differencedSeries)"
   ]
  },
  {
   "cell_type": "code",
   "execution_count": null,
   "metadata": {
    "colab": {},
    "colab_type": "code",
    "id": "KD8Pa8IgI613",
    "outputId": "4997999a-63bb-417a-b931-d47610747dbf"
   },
   "outputs": [
    {
     "name": "stdout",
     "output_type": "stream",
     "text": [
      "the length of the first part is 166\n",
      "the length of the second part is 166\n",
      "the length of the third part is 168\n",
      "-------------------------------------------------\n",
      "--------------------------------------------------\n",
      "The mean of the first part is -0.025060240963855444\n",
      "The mean of the second part is 0.00021084337349395535\n",
      "The mean of the third part is 0.007705357142857096\n"
     ]
    }
   ],
   "source": [
    "mean_checker(differencedSeries)"
   ]
  },
  {
   "cell_type": "code",
   "execution_count": null,
   "metadata": {
    "colab": {},
    "colab_type": "code",
    "collapsed": true,
    "id": "3m2vRBnhI617"
   },
   "outputs": [],
   "source": [
    "# Duckey fuller test"
   ]
  },
  {
   "cell_type": "markdown",
   "metadata": {
    "colab_type": "text",
    "id": "vtq2AHs3I61_"
   },
   "source": [
    "## Time Series forecasting"
   ]
  },
  {
   "cell_type": "markdown",
   "metadata": {
    "colab_type": "raw",
    "collapsed": true,
    "id": "1yf14-ioI62A"
   },
   "source": [
    "Time series forecasting remains the most important part of time series analysis. Based on some\n",
    "past or historical values, we try to predict or at least to have some ideas about the dynamics\n",
    "of the series in the future by computing some future values it might achieve.\n",
    "\n",
    "Among many other advantages, the main ones might be that it allows one in making decisions about how to invest, how to minimize risk, and how to behave face some phenomena."
   ]
  },
  {
   "cell_type": "markdown",
   "metadata": {
    "colab_type": "text",
    "id": "b1zU1kF3I62B"
   },
   "source": [
    "### ARIMA, benchmark model in time Series"
   ]
  },
  {
   "cell_type": "markdown",
   "metadata": {
    "colab_type": "raw",
    "id": "942fvydVI62B"
   },
   "source": [
    "Let me give you a brief introduction to ARIMA. I won’t go into the technical details but you should understand these concepts in detail if you wish to apply them more effectively.\n",
    "\n",
    "ARIMA stands for Auto-Regressive Integrated Moving Averages.\n",
    "\n",
    "The ARIMA forecasting for a stationary time series is nothing but a linear (like a linear regression) equation.\n",
    "\n",
    "The predictors depend on the parameters (p,d,q) of the ARIMA model:\n",
    "\n",
    "Number of AR (Auto-Regressive) terms (p): \n",
    "AR terms are just lags of dependent variable. \n",
    "For instance if p is 5, the predictors for x(t) will be x(t-1)….x(t-5).\n",
    "\n",
    "Number of MA (Moving Average) terms (q):\n",
    "MA terms are lagged forecast errors in prediction equation.\n",
    "For instance if q is 5, the predictors for x(t) will be e(t-1)….e(t-5) \n",
    "where e(i) is the difference between the moving average at ith instant and actual value.\n",
    "\n",
    "Number of Differences (d):\n",
    "These are the number of nonseasonal differences, i.e. in this case we took the first order difference.\n",
    "So either we can pass that variable and put d=0 or pass the original variable and put d=1. \n",
    "Both will generate same results."
   ]
  },
  {
   "cell_type": "markdown",
   "metadata": {
    "colab_type": "text",
    "id": "MjXv-AX7I62C"
   },
   "source": [
    "### Introduction to autocorrelation function(ACF)"
   ]
  },
  {
   "cell_type": "markdown",
   "metadata": {
    "colab_type": "raw",
    "id": "XcjbXBR7I62D"
   },
   "source": [
    "Autocorrelation Function (ACF): It is a measure of the correlation between the the TS with a lagged version of itself. For instance at lag 5, ACF would compare series at time instant ‘t1’…’t2’ with series at instant ‘t1-5’…’t2-5’ (t1-5 and t2 being end points).\n"
   ]
  },
  {
   "cell_type": "code",
   "execution_count": null,
   "metadata": {
    "colab": {},
    "colab_type": "code",
    "collapsed": true,
    "id": "puwCWOmLI62D"
   },
   "outputs": [],
   "source": [
    "from statsmodels.tsa.stattools import acf, pacf  "
   ]
  },
  {
   "cell_type": "code",
   "execution_count": null,
   "metadata": {
    "colab": {},
    "colab_type": "code",
    "id": "lI-FEj29I62J",
    "outputId": "f90dfdf3-fe82-4f7c-c090-0d1b7418c7f3"
   },
   "outputs": [
    {
     "data": {
      "text/plain": [
       "Text(0.5,1,'Autocorrelation Function')"
      ]
     },
     "execution_count": 40,
     "metadata": {
      "tags": []
     },
     "output_type": "execute_result"
    },
    {
     "data": {
      "image/png": "[encoded data removed]",
      "text/plain": [
       "<Figure size 432x288 with 1 Axes>"
      ]
     },
     "metadata": {
      "tags": []
     },
     "output_type": "display_data"
    }
   ],
   "source": [
    "acValues = acf(differencedSeries, nlags=20)\n",
    "#Plot ACF:    \n",
    "plt.subplot(121)    \n",
    "plt.plot(acValues)\n",
    "plt.axhline(y=0,linestyle='--',color='gray')\n",
    "plt.axhline(y=-1.96/np.sqrt(len(differencedSeries)),linestyle='--',color='gray')\n",
    "plt.axhline(y=1.96/np.sqrt(len(differencedSeries)),linestyle='--',color='gray')\n",
    "plt.title('Autocorrelation Function')\n"
   ]
  },
  {
   "cell_type": "markdown",
   "metadata": {
    "colab_type": "text",
    "id": "IxMhPpuBI62M"
   },
   "source": [
    "### Introduction to Partial autocrrelation function(PACF)"
   ]
  },
  {
   "cell_type": "markdown",
   "metadata": {
    "colab_type": "raw",
    "collapsed": true,
    "id": "_HDo7BnVI62O"
   },
   "source": [
    "Partial Autocorrelation Function (PACF): This measures the correlation between the TS with a lagged version of itself but after eliminating the variations already explained by the intervening comparisons."
   ]
  },
  {
   "cell_type": "code",
   "execution_count": null,
   "metadata": {
    "colab": {},
    "colab_type": "code",
    "id": "5d9FeijWI62P",
    "outputId": "80f32349-8a0f-447f-c2e9-524e23c8cf57"
   },
   "outputs": [
    {
     "data": {
      "image/png": "[encoded data removed]",
      "text/plain": [
       "<Figure size 432x288 with 1 Axes>"
      ]
     },
     "metadata": {
      "tags": []
     },
     "output_type": "display_data"
    }
   ],
   "source": [
    "pacValues = pacf(differencedSeries, nlags=20, method='ols')\n",
    "plt.subplot(122)\n",
    "plt.plot(pacValues)\n",
    "plt.axhline(y=0,linestyle='--',color='gray')\n",
    "plt.axhline(y=-1.96/np.sqrt(len(differencedSeries)),linestyle='--',color='gray')\n",
    "plt.axhline(y=1.96/np.sqrt(len(differencedSeries)),linestyle='--',color='gray')\n",
    "plt.title('Partial Autocorrelation Function')\n",
    "plt.tight_layout()"
   ]
  },
  {
   "cell_type": "markdown",
   "metadata": {
    "colab_type": "text",
    "id": "SjibOJMwI62S"
   },
   "source": [
    "### Use of ACF and PACF"
   ]
  },
  {
   "cell_type": "markdown",
   "metadata": {
    "colab_type": "raw",
    "collapsed": true,
    "id": "fec32VP2I62U"
   },
   "source": [
    "In general, we use the plots for the acf and pacf to determine the value of p and q. \n",
    "In this case, please refer to the above plots to see how to find the values of p and q"
   ]
  },
  {
   "cell_type": "markdown",
   "metadata": {
    "colab_type": "text",
    "id": "VafAENXeI62V"
   },
   "source": [
    "### A More rigourous way of selecting the best Models"
   ]
  },
  {
   "cell_type": "code",
   "execution_count": null,
   "metadata": {
    "colab": {},
    "colab_type": "code",
    "collapsed": true,
    "id": "Mn1WE_YyI62W"
   },
   "outputs": [],
   "source": [
    "# As mentioned earlier, an arima model is defined by p,d, and q; which constitue the order \n",
    "# of any given arima model. In order to avoid a tiresome trials and errors attempts, let us\n",
    "# do a grid search work. This aims at giving a range of values to p, a range of values to d\n",
    "# and a range of values to d. Once those values are defined, we can construct different (p,d,q)"
   ]
  },
  {
   "cell_type": "code",
   "execution_count": null,
   "metadata": {
    "colab": {},
    "colab_type": "code",
    "collapsed": true,
    "id": "DfSvjHVbI62c"
   },
   "outputs": [],
   "source": [
    "# This function takes three lists and create a bigger list that will contain all the \n",
    "# possible three combinations we can create from those three lists.\n",
    "def comb_p_d_q(pVals,dVals,qVals):\n",
    "    return [(p,d,q) for p in pVals for d in dVals for q in qVals]\n",
    "    "
   ]
  },
  {
   "cell_type": "code",
   "execution_count": null,
   "metadata": {
    "colab": {},
    "colab_type": "code",
    "id": "nUiAmA2wI62i",
    "outputId": "5d00996b-36a6-4a45-8913-e1abf6239e98"
   },
   "outputs": [
    {
     "data": {
      "text/plain": [
       "[(0, 0, 0),\n",
       " (0, 0, 1),\n",
       " (0, 0, 2),\n",
       " (0, 1, 0),\n",
       " (0, 1, 1),\n",
       " (0, 1, 2),\n",
       " (0, 2, 0),\n",
       " (0, 2, 1),\n",
       " (0, 2, 2),\n",
       " (1, 0, 0),\n",
       " (1, 0, 1),\n",
       " (1, 0, 2),\n",
       " (1, 1, 0),\n",
       " (1, 1, 1),\n",
       " (1, 1, 2),\n",
       " (1, 2, 0),\n",
       " (1, 2, 1),\n",
       " (1, 2, 2),\n",
       " (2, 0, 0),\n",
       " (2, 0, 1),\n",
       " (2, 0, 2),\n",
       " (2, 1, 0),\n",
       " (2, 1, 1),\n",
       " (2, 1, 2),\n",
       " (2, 2, 0),\n",
       " (2, 2, 1),\n",
       " (2, 2, 2)]"
      ]
     },
     "execution_count": 44,
     "metadata": {
      "tags": []
     },
     "output_type": "execute_result"
    }
   ],
   "source": [
    "comb_p_d_q([0,1,2],[0,1,2],[0,1,2])"
   ]
  },
  {
   "cell_type": "code",
   "execution_count": null,
   "metadata": {
    "colab": {},
    "colab_type": "code",
    "collapsed": true,
    "id": "vflY_Z2NI62o"
   },
   "outputs": [],
   "source": [
    "from statsmodels.tsa.arima_model import ARIMA"
   ]
  },
  {
   "cell_type": "code",
   "execution_count": null,
   "metadata": {
    "colab": {},
    "colab_type": "code",
    "collapsed": true,
    "id": "-dH47X7pI62r"
   },
   "outputs": [],
   "source": [
    "def aic_finder(ts, model_order):\n",
    "    model = ARIMA(ts, order= model_order)\n",
    "    model_fit = model.fit(disp=0)\n",
    "    aicval = model_fit.aic\n",
    "    if np.isfinite(aicval):\n",
    "        return aicval\n",
    "    else:\n",
    "        return 9999"
   ]
  },
  {
   "cell_type": "code",
   "execution_count": null,
   "metadata": {
    "colab": {},
    "colab_type": "code",
    "id": "x2R6M9P-I62x",
    "outputId": "acbef17e-92ec-4941-e6ca-6667cb38b7aa"
   },
   "outputs": [
    {
     "data": {
      "text/plain": [
       "1272.155507894635"
      ]
     },
     "execution_count": 47,
     "metadata": {
      "tags": []
     },
     "output_type": "execute_result"
    }
   ],
   "source": [
    "aic_finder(myPrice.values,(2,0,1))"
   ]
  },
  {
   "cell_type": "code",
   "execution_count": null,
   "metadata": {
    "colab": {},
    "colab_type": "code",
    "collapsed": true,
    "id": "-lJ6dy5KI620"
   },
   "outputs": [],
   "source": [
    "# Suppose that we have a given list of orders. Our task is to find the order that fit the \n",
    "# best our data. For each of the order in our list, we will fit the model, extract the aics.\n",
    "# then, find the model that give us the smallest aic. The found model will be  considered \n",
    "# to be the best model."
   ]
  },
  {
   "cell_type": "code",
   "execution_count": null,
   "metadata": {
    "colab": {},
    "colab_type": "code",
    "collapsed": true,
    "id": "2lrsC-5YI625"
   },
   "outputs": [],
   "source": [
    "def bestModel(timeseries,pVals,dVals,qVals):\n",
    "    all_models = comb_p_d_q(pVals,dVals,qVals)\n",
    "    \n",
    "    # Let us work on  the partition of the series\n",
    "    l = len(timeseries)\n",
    "    trainSize = int(l*0.75)\n",
    "    trainSet = timeseries[0:trainSize]\n",
    "    testSet = timeseries[(trainSize+1):]\n",
    "    aicVals = []\n",
    "    \n",
    "    for elem in all_models:\n",
    "        mm = aic_finder(trainSet,elem)\n",
    "        aicVals.append(mm)\n",
    "    print('The list of aic is:', aicVals)\n",
    "    print(' ')\n",
    "    minVals = min(aicVals)\n",
    "    print('The smallest aic value is ', minVals)\n",
    "    locMin = aicVals.index(minVals)\n",
    "    print('The location of the smallest value of aicVals is', locMin)\n",
    "    print('The corresponding model is : ', all_models[locMin])\n",
    "\n",
    "    "
   ]
  },
  {
   "cell_type": "code",
   "execution_count": null,
   "metadata": {
    "colab": {},
    "colab_type": "code",
    "id": "sbsqBCiEI629",
    "outputId": "ecb22754-8612-4393-c8c2-528fbf276998"
   },
   "outputs": [
    {
     "name": "stdout",
     "output_type": "stream",
     "text": [
      "The list of aic is: [984.6287765903489, 985.1931439071891, 990.6932644216788, 990.23080828658, 986.2648882615125, 988.1317569111344, 991.3111166550933, 991.8240673821718]\n",
      " \n",
      "The smallest aic value is  984.6287765903489\n",
      "The location of the smallest value of aicVals is 0\n",
      "The corresponding model is :  (1, 1, 1)\n"
     ]
    }
   ],
   "source": [
    "bestModel(myPrice.values,[1,2],[1,2],[1,2])"
   ]
  },
  {
   "cell_type": "code",
   "execution_count": null,
   "metadata": {
    "colab": {},
    "colab_type": "code",
    "collapsed": true,
    "id": "cSuTjgvMI63C"
   },
   "outputs": [],
   "source": []
  },
  {
   "cell_type": "code",
   "execution_count": null,
   "metadata": {
    "colab": {},
    "colab_type": "code",
    "collapsed": true,
    "id": "iF2AyVXUI63F"
   },
   "outputs": [],
   "source": [
    "# As mentioned earlier, forecasting is a key step of time series analysis. Thus, let us\n",
    "# try to do some forecasting. This will be done by using the best model, we found.\n",
    "from sklearn.metrics import mean_squared_error\n",
    "def prediction(timeseries, order):\n",
    "    from sklearn.metrics import mean_squared_error\n",
    "    # Let us work on  the partition of the series\n",
    "    l = len(timeseries)\n",
    "    trainSize = int(l*0.75)\n",
    "    trainSet = timeseries[0:trainSize]\n",
    "    testSet = timeseries[(trainSize+1):]\n",
    "    \n",
    "    print('The length of the train set is',len(trainSet))\n",
    "    print('The length of the test set is',len(testSet))\n",
    "    \n",
    "    trainSet = list(trainSet)\n",
    "    predictedValues = list()\n",
    "    g = lambda x: x[0]\n",
    "    for i in range(len(testSet)):\n",
    "        model = ARIMA(trainSet, order=order)\n",
    "        model_fit = model.fit(disp=0)\n",
    "        predictedVal = list(model_fit.forecast()[0])\n",
    "        predictedVal = g(predictedVal)\n",
    "        predictedValues.append(predictedVal)\n",
    "        trainSet.append(predictedVal)\n",
    "\n",
    "    print('The predicted values are:')\n",
    "    print(' ')\n",
    "    print(predictedValues)\n",
    "    \n",
    "    print('----------------------------------------------------------------------------')\n",
    "    print('The length of the list that contains the predicted values is',len(predictedValues))\n",
    "    print('----------------------------------------------------------------------------')\n",
    "    \n",
    "    print('How much error we have made')\n",
    "    error = mean_squared_error(testSet, predictedValues)\n",
    "    print('The  forecat erros is ', error)\n",
    "\n",
    "    return(predictedValues)"
   ]
  },
  {
   "cell_type": "code",
   "execution_count": null,
   "metadata": {
    "colab": {},
    "colab_type": "code",
    "id": "sJ_acuf1I63I",
    "outputId": "c41dfabb-ae61-45f2-c8a0-f9c56e884310"
   },
   "outputs": [
    {
     "name": "stdout",
     "output_type": "stream",
     "text": [
      "The length of the train set is 378\n",
      "The length of the test set is 125\n",
      "The predicted values are:\n",
      " \n",
      "[62.45838027436054, 62.43817977624329, 62.429971404220304, 62.420686205524284, 62.41149778409309, 62.40230062487488, 62.39310426103694, 62.38390782580668, 62.37471138413752, 62.3655149431134, 62.356318510922456, 62.34712206870961, 62.337925611019735, 62.32872916226968, 62.319532703182276, 62.310336241181965, 62.301139766206425, 62.291943294984755, 62.28274682172409, 62.2735503323951, 62.26435386067531, 62.25515738412853, 62.245960902964406, 62.23676442355392, 62.22756792883677, 62.21837143333941, 62.209174943620496, 62.199978443541845, 62.19078194160654, 62.181585422438516, 62.17238890473687, 62.16319237251567, 62.15399584753846, 62.14479930999349, 62.13560276989062, 62.12640624897326, 62.11720972292481, 62.10801320180262, 62.098816666688556, 62.089620134697995, 62.08042358656997, 62.0712270371654, 62.062030484630334, 62.05283393975678, 62.04363739012958, 62.034440841161405, 62.0252442877852, 62.01604773588584, 62.006851166460386, 61.997654606186856, 61.98845806406719, 61.97926150223772, 61.97006491540454, 61.96086833994875, 61.95167175808689, 61.9424751846275, 61.933278598115514, 61.924082007289165, 61.914885403071, 61.905688810648016, 61.89649222177896, 61.88729561740846, 61.878099011976865, 61.86890241160928, 61.85970582190927, 61.85050919757714, 61.841312586069215, 61.83211598500588, 61.82291938738879, 61.813722790799794, 61.804526189356224, 61.79532957847672, 61.7861329499138, 61.7769363139242, 61.76773969478217, 61.75854306522775, 61.74934646298668, 61.74014982521604, 61.73095318071917, 61.7217565357408, 61.712559900183734, 61.70336324875077, 61.6941665960387, 61.684969940650845, 61.67577330329311, 61.66657664747501, 61.657379984408855, 61.648183333822146, 61.63898668494493, 61.629790027316, 61.620593368420955, 61.611396710132574, 61.60220003029741, 61.59300336700708, 61.58380671173313, 61.5746100276217, 61.56541335381265, 61.556216674879416, 61.54701998413061, 61.53782331016202, 61.52862662659863, 61.51942994534004, 61.51023328584129, 61.501036611560984, 61.491839933862586, 61.48264325091127, 61.47344656908013, 61.46424988446312, 61.455053183749754, 61.445856480457486, 61.43665978611593, 61.42746309587132, 61.418266384210376, 61.40906967190132, 61.399872952370146, 61.390676271157226, 61.38147958714312, 61.37228288440784, 61.363086178795186, 61.3538894974723, 61.3446928259106, 61.33549611122454, 61.32629938297917, 61.31710266256185, 61.30790594382757]\n",
      "----------------------------------------------------------------------------\n",
      "The length of the list that contains the predicted values is 125\n",
      "----------------------------------------------------------------------------\n",
      "How much error we have made\n",
      "The  forecat erros is  6.3060399152540185\n"
     ]
    }
   ],
   "source": [
    "testVal = prediction(myPrice.values,(1,1,1))"
   ]
  },
  {
   "cell_type": "code",
   "execution_count": null,
   "metadata": {
    "colab": {},
    "colab_type": "code",
    "collapsed": true,
    "id": "re1oZr6oI63M"
   },
   "outputs": [],
   "source": []
  },
  {
   "cell_type": "code",
   "execution_count": null,
   "metadata": {
    "colab": {},
    "colab_type": "code",
    "collapsed": true,
    "id": "cBVGrQctI63R"
   },
   "outputs": [],
   "source": []
  }
 ],
 "metadata": {
  "anaconda-cloud": {},
  "colab": {
   "name": "NewTimeSeries.ipynb",
   "provenance": []
  },
  "kernelspec": {
   "display_name": "Python 3 (ipykernel)",
   "language": "python",
   "name": "python3"
  },
  "language_info": {
   "codemirror_mode": {
    "name": "ipython",
    "version": 3
   },
   "file_extension": ".py",
   "mimetype": "text/x-python",
   "name": "python",
   "nbconvert_exporter": "python",
   "pygments_lexer": "ipython3",
   "version": "3.9.12"
  }
 },
 "nbformat": 4,
 "nbformat_minor": 1
}
