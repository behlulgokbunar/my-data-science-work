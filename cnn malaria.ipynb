{
 "cells": [
  {
   "cell_type": "markdown",
   "id": "b967a8e5",
   "metadata": {},
   "source": [
    "#Importing Packages\n",
    "import numpy as np\n",
    "from keras.models import Sequential\n",
    "from keras.layers import Convolution2D\n",
    "from keras.layers import MaxPooling2D\n",
    "from keras.layers import Flatten\n",
    "from keras.layers import Dense\n",
    "from keras.preprocessing import image\n",
    "from keras.preprocessing.image import ImageDataGenerator\n",
    "import warnings\n",
    "warnings.filterwarnings('ignore')\n",
    "import matplotlib.pyplot as plt\n",
    "%matplotlib inline"
   ]
  },
  {
   "cell_type": "code",
   "execution_count": 4,
   "id": "19ddf6dc",
   "metadata": {},
   "outputs": [],
   "source": [
    "import tensorflow as tf\n",
    "import numpy as np\n",
    "#import cv2\n",
    "import matplotlib.pyplot as plt\n",
    "from tensorflow import keras\n",
    "from keras.applications.xception import Xception, preprocess_input\n",
    "from keras.layers import Dense, MaxPool2D, Conv2D, Dropout, Flatten, GlobalAveragePooling2D, BatchNormalization, Activation, MaxPooling2D\n",
    "from keras.models import Sequential\n",
    "from keras.utils import np_utils\n",
    "from keras.preprocessing.image import ImageDataGenerator\n",
    "from tensorflow.keras.callbacks import EarlyStopping"
   ]
  },
  {
   "cell_type": "code",
   "execution_count": 2,
   "id": "e2d9c846",
   "metadata": {},
   "outputs": [
    {
     "name": "stdout",
     "output_type": "stream",
     "text": [
      "Note: you may need to restart the kernel to use updated packages.\n"
     ]
    },
    {
     "name": "stderr",
     "output_type": "stream",
     "text": [
      "ERROR: Could not find a version that satisfies the requirement cv2 (from versions: none)\n",
      "ERROR: No matching distribution found for cv2\n"
     ]
    }
   ],
   "source": [
    "pip install cv2"
   ]
  },
  {
   "cell_type": "markdown",
   "id": "71e67993",
   "metadata": {},
   "source": [
    "classifier = Sequential()"
   ]
  },
  {
   "cell_type": "markdown",
   "id": "4e0495a8",
   "metadata": {
    "scrolled": true
   },
   "source": [
    "classifier.add(Convolution2D(32,3,3, \n",
    "                             input_shape = (32,32,1), \n",
    "                             activation = 'relu'))\n",
    "\n",
    "classifier.add(MaxPooling2D(pool_size = (2,2)))\n",
    "\n",
    "classifier.add(Convolution2D(32,3,3, \n",
    "                             activation = 'relu'))\n",
    "\n",
    "classifier.add(MaxPooling2D(pool_size = (2,2)))\n",
    "\n",
    "classifier.add(Flatten())\n",
    "\n",
    "classifier.add(Dense(128, activation='relu'))\n",
    "classifier.add(Dense(output_dim = 1, activation='sigmoid'))"
   ]
  },
  {
   "cell_type": "markdown",
   "id": "583481be",
   "metadata": {},
   "source": [
    "classifier.compile(optimizer = 'adam', loss='binary_crossentropy', metrics=['accuracy'])"
   ]
  },
  {
   "cell_type": "code",
   "execution_count": null,
   "id": "a2f54bc5",
   "metadata": {},
   "outputs": [],
   "source": [
    "train_datagen = ImageDataGenerator(rescale = 1./255, \n",
    "                                   shear_range = 0.2, \n",
    "                                   zoom_range = 0.2, \n",
    "                                   horizontal_flip = True)\n",
    "test_datagen = ImageDataGenerator(rescale = 1./255)"
   ]
  },
  {
   "cell_type": "markdown",
   "id": "2665f55b",
   "metadata": {},
   "source": [
    "train_set = train_datagen.flow_from_directory('cell_images/cell_images/', \n",
    "                                              target_size = (64, 64), \n",
    "                                              batch_size = 32, \n",
    "                                              class_mode = 'binary')\n",
    "\n",
    "test_set = test_datagen.flow_from_directory('cell_images/cell_images/', \n",
    "                                            target_size = (64, 64), \n",
    "                                            batch_size = 32, \n",
    "                                            class_mode = 'binary')"
   ]
  },
  {
   "cell_type": "code",
   "execution_count": null,
   "id": "9d74c83d",
   "metadata": {},
   "outputs": [],
   "source": []
  },
  {
   "cell_type": "code",
   "execution_count": null,
   "id": "fad76320",
   "metadata": {},
   "outputs": [],
   "source": [
    "xception_wo_top = Xception(include_top=False, weights='imagenet', input_tensor=None, input_shape=(71,71,3), pooling=None)"
   ]
  },
  {
   "cell_type": "code",
   "execution_count": null,
   "id": "0a1fcd3a",
   "metadata": {},
   "outputs": [],
   "source": [
    "datagen = ImageDataGenerator(featurewise_center=False,\n",
    "                             samplewise_center=False,\n",
    "                             featurewise_std_normalization=False,\n",
    "                             samplewise_std_normalization=False,\n",
    "                             zca_whitening=False,\n",
    "                             rotation_range=10,\n",
    "                             zoom_range=0.1,\n",
    "                             width_shift_range=0.1,\n",
    "                             height_shift_range=0.1,\n",
    "                             horizontal_flip=False,\n",
    "                             vertical_flip=False,\n",
    "                             rescale=1/255.0, \n",
    "                             validation_split=0.2)"
   ]
  },
  {
   "cell_type": "code",
   "execution_count": 8,
   "id": "c9368841",
   "metadata": {},
   "outputs": [
    {
     "name": "stdout",
     "output_type": "stream",
     "text": [
      "Found 22048 images belonging to 2 classes.\n"
     ]
    }
   ],
   "source": [
    "trainDatagen = datagen.flow_from_directory(directory='cell_images/cell_images/',\n",
    "                                           target_size=(71,71),\n",
    "                                           class_mode = 'binary',\n",
    "                                           batch_size = 16,\n",
    "                                           subset='training')"
   ]
  },
  {
   "cell_type": "code",
   "execution_count": 9,
   "id": "3245d964",
   "metadata": {},
   "outputs": [
    {
     "name": "stdout",
     "output_type": "stream",
     "text": [
      "Found 5510 images belonging to 2 classes.\n"
     ]
    }
   ],
   "source": [
    "valDatagen = datagen.flow_from_directory(directory='cell_images/cell_images/',\n",
    "                                           target_size=(71,71),\n",
    "                                           class_mode = 'binary',\n",
    "                                           batch_size = 16,\n",
    "                                           subset='validation')"
   ]
  },
  {
   "cell_type": "code",
   "execution_count": 10,
   "id": "c7637db5",
   "metadata": {},
   "outputs": [],
   "source": [
    "early_stop = EarlyStopping(monitor='val_loss',patience=5)"
   ]
  },
  {
   "cell_type": "code",
   "execution_count": 11,
   "id": "595e73c0",
   "metadata": {},
   "outputs": [],
   "source": [
    "model = Sequential()\n",
    "model.add(xception_wo_top)\n",
    "model.add(GlobalAveragePooling2D(input_shape=(7,7,2048)))\n",
    "model.add(Dropout(0.3))\n",
    "model.add(Dense(64,activation='relu'))\n",
    "model.add(Dense(units=1))\n",
    "model.add(Activation('sigmoid'))\n",
    "model.compile(loss='categorical_crossentropy', optimizer='adam', metrics=['accuracy'])"
   ]
  },
  {
   "cell_type": "code",
   "execution_count": 12,
   "id": "e636398d",
   "metadata": {},
   "outputs": [
    {
     "name": "stdout",
     "output_type": "stream",
     "text": [
      "Model: \"sequential\"\n",
      "_________________________________________________________________\n",
      " Layer (type)                Output Shape              Param #   \n",
      "=================================================================\n",
      " xception (Functional)       (None, 3, 3, 2048)        20861480  \n",
      "                                                                 \n",
      " global_average_pooling2d (G  (None, 2048)             0         \n",
      " lobalAveragePooling2D)                                          \n",
      "                                                                 \n",
      " dropout (Dropout)           (None, 2048)              0         \n",
      "                                                                 \n",
      " dense (Dense)               (None, 64)                131136    \n",
      "                                                                 \n",
      " dense_1 (Dense)             (None, 1)                 65        \n",
      "                                                                 \n",
      " activation (Activation)     (None, 1)                 0         \n",
      "                                                                 \n",
      "=================================================================\n",
      "Total params: 20,992,681\n",
      "Trainable params: 20,938,153\n",
      "Non-trainable params: 54,528\n",
      "_________________________________________________________________\n"
     ]
    }
   ],
   "source": [
    "model.summary()"
   ]
  },
  {
   "cell_type": "code",
   "execution_count": 13,
   "id": "a08ae10a",
   "metadata": {},
   "outputs": [],
   "source": [
    "model.compile(optimizer='adam',loss='binary_crossentropy',metrics=['accuracy'])"
   ]
  },
  {
   "cell_type": "code",
   "execution_count": 14,
   "id": "de81e3bf",
   "metadata": {},
   "outputs": [
    {
     "name": "stdout",
     "output_type": "stream",
     "text": [
      "Epoch 1/20\n",
      "1378/1378 [==============================] - 831s 600ms/step - loss: 0.1904 - accuracy: 0.9408 - val_loss: 0.1630 - val_accuracy: 0.9465\n",
      "Epoch 2/20\n",
      "1378/1378 [==============================] - 847s 615ms/step - loss: 0.1300 - accuracy: 0.9581 - val_loss: 0.1565 - val_accuracy: 0.9526\n",
      "Epoch 3/20\n",
      "1378/1378 [==============================] - 835s 606ms/step - loss: 0.1179 - accuracy: 0.9619 - val_loss: 0.1493 - val_accuracy: 0.9535\n",
      "Epoch 4/20\n",
      "1378/1378 [==============================] - 811s 588ms/step - loss: 0.1093 - accuracy: 0.9619 - val_loss: 0.1328 - val_accuracy: 0.9523\n",
      "Epoch 5/20\n",
      "1378/1378 [==============================] - 843s 612ms/step - loss: 0.1089 - accuracy: 0.9640 - val_loss: 0.1524 - val_accuracy: 0.9466\n",
      "Epoch 6/20\n",
      "1378/1378 [==============================] - 840s 609ms/step - loss: 0.1036 - accuracy: 0.9652 - val_loss: 0.1325 - val_accuracy: 0.9544\n",
      "Epoch 7/20\n",
      "1378/1378 [==============================] - 798s 579ms/step - loss: 0.0971 - accuracy: 0.9676 - val_loss: 0.1538 - val_accuracy: 0.9457\n",
      "Epoch 8/20\n",
      "1378/1378 [==============================] - 794s 576ms/step - loss: 0.0920 - accuracy: 0.9692 - val_loss: 0.1319 - val_accuracy: 0.9564\n",
      "Epoch 9/20\n",
      "1378/1378 [==============================] - 803s 583ms/step - loss: 0.0870 - accuracy: 0.9701 - val_loss: 0.1685 - val_accuracy: 0.9432\n",
      "Epoch 10/20\n",
      "1378/1378 [==============================] - 811s 588ms/step - loss: 0.0865 - accuracy: 0.9698 - val_loss: 0.1457 - val_accuracy: 0.9544\n",
      "Epoch 11/20\n",
      "1378/1378 [==============================] - 807s 585ms/step - loss: 0.0796 - accuracy: 0.9716 - val_loss: 0.1401 - val_accuracy: 0.9557\n",
      "Epoch 12/20\n",
      "1378/1378 [==============================] - 824s 598ms/step - loss: 0.0816 - accuracy: 0.9725 - val_loss: 0.2119 - val_accuracy: 0.9316\n",
      "Epoch 13/20\n",
      "1378/1378 [==============================] - 857s 622ms/step - loss: 0.0773 - accuracy: 0.9741 - val_loss: 0.1440 - val_accuracy: 0.9564\n"
     ]
    }
   ],
   "source": [
    "history = model.fit(trainDatagen,\n",
    "                   epochs =20,\n",
    "                   validation_data = valDatagen,\n",
    "                   callbacks=[early_stop])"
   ]
  },
  {
   "cell_type": "code",
   "execution_count": null,
   "id": "5a2a3be0",
   "metadata": {},
   "outputs": [],
   "source": [
    "#accuracy=model.evaluate()"
   ]
  }
 ],
 "metadata": {
  "kernelspec": {
   "display_name": "Python 3 (ipykernel)",
   "language": "python",
   "name": "python3"
  },
  "language_info": {
   "codemirror_mode": {
    "name": "ipython",
    "version": 3
   },
   "file_extension": ".py",
   "mimetype": "text/x-python",
   "name": "python",
   "nbconvert_exporter": "python",
   "pygments_lexer": "ipython3",
   "version": "3.10.5"
  }
 },
 "nbformat": 4,
 "nbformat_minor": 5
}
