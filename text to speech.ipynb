{
 "cells": [
  {
   "cell_type": "code",
   "execution_count": 1,
   "id": "357ff533",
   "metadata": {},
   "outputs": [
    {
     "name": "stdout",
     "output_type": "stream",
     "text": [
      "Defaulting to user installation because normal site-packages is not writeable\n",
      "Requirement already satisfied: gtts in c:\\users\\behlul\\appdata\\roaming\\python\\python39\\site-packages (2.2.4)\n",
      "Requirement already satisfied: six in c:\\programdata\\anaconda3\\lib\\site-packages (from gtts) (1.16.0)\n",
      "Requirement already satisfied: requests in c:\\programdata\\anaconda3\\lib\\site-packages (from gtts) (2.27.1)\n",
      "Requirement already satisfied: click in c:\\programdata\\anaconda3\\lib\\site-packages (from gtts) (8.0.4)\n",
      "Requirement already satisfied: colorama in c:\\programdata\\anaconda3\\lib\\site-packages (from click->gtts) (0.4.4)\n",
      "Requirement already satisfied: idna<4,>=2.5 in c:\\programdata\\anaconda3\\lib\\site-packages (from requests->gtts) (3.3)\n",
      "Requirement already satisfied: certifi>=2017.4.17 in c:\\programdata\\anaconda3\\lib\\site-packages (from requests->gtts) (2021.10.8)\n",
      "Requirement already satisfied: urllib3<1.27,>=1.21.1 in c:\\programdata\\anaconda3\\lib\\site-packages (from requests->gtts) (1.26.9)\n",
      "Requirement already satisfied: charset-normalizer~=2.0.0 in c:\\programdata\\anaconda3\\lib\\site-packages (from requests->gtts) (2.0.4)\n"
     ]
    }
   ],
   "source": [
    "!pip install gtts"
   ]
  },
  {
   "cell_type": "code",
   "execution_count": 2,
   "id": "5917dccd",
   "metadata": {},
   "outputs": [],
   "source": [
    "from gtts import gTTS\n",
    "mytext='''iyi günler behlül'''\n",
    "\n",
    "output=gTTS(text=mytext,lang='tr',slow=False)\n",
    "output.save('outputtr.mp3')"
   ]
  },
  {
   "cell_type": "code",
   "execution_count": 3,
   "id": "30190cec",
   "metadata": {},
   "outputs": [
    {
     "data": {
      "text/html": [
       "\n",
       "                <audio  controls=\"controls\" >\n",
       "                    <source src=\"data:audio/mpeg;base64,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\" type=\"audio/mpeg\" />\n",
       "                    Your browser does not support the audio element.\n",
       "                </audio>\n",
       "              "
      ],
      "text/plain": [
       "<IPython.lib.display.Audio object>"
      ]
     },
     "execution_count": 3,
     "metadata": {},
     "output_type": "execute_result"
    }
   ],
   "source": [
    "from IPython.display import Audio\n",
    "audio=Audio(filename='outputtr.mp3')\n",
    "audio"
   ]
  },
  {
   "cell_type": "code",
   "execution_count": 6,
   "id": "5304c0fd",
   "metadata": {},
   "outputs": [],
   "source": [
    "from gtts import gTTS\n",
    "fh=open('test.txt','r')\n",
    "mytext=fh.read().replace('\\n','')\n",
    "output=gTTS(text=mytext,lang='tr',slow=False)\n",
    "output.save('output.mp3')\n",
    "fh.close()"
   ]
  },
  {
   "cell_type": "code",
   "execution_count": 9,
   "id": "a5eb7328",
   "metadata": {},
   "outputs": [
    {
     "data": {
      "text/html": [
       "\n",
       "                <audio  controls=\"controls\" >\n",
       "                    <source src=\"data:audio/mpeg;base64,//NExAAAAANIAAAAABehvuDptu0gvYAiK4dyNw/T3+diCCdkyYDJ2fEAYIEyR+D7Qf1vEHB+CAYBw5P/4fiCFwffrnNGGPUGMo5xQEOUdnNMPyjonD4EhJhwQZKXmhbx//NExFMSOGYIAMYMKPceHg/5xpsb0UCQ0ba+mojadSxTCQMEFBnBUDhhxGz4DgkIBPJZbMFdzsS35qSz+pXEeNhR9Vb9IHL7aK0fXymx02lJpQjroX3dzd3NCp/XFomd//NExF0hgp48ANsGuUfL9JCfQiroheHZEOJ6WE5/xCpQnFolf+CM/r9DpLh/5rH4bsIz+BGYYHDsDmDggY9jpowihgkGAGw4uEHEJmgjYKgFM3rG36pUEWBD3m+4FKao//NExCobKSp0AOPGcV6Qn6ZI7gYtCc9CDizrgb4QAL94OI3xl/+Aef8dr5Pw+A4zoYAAHwA8PH/4e2Hv4y07MPD3///JDD5Pdh0tbgAACN2OZ6jTGRBGGmEgp4HUBM+h//NExBAWob6kANGMlAEXX/YLOCAHv9ggQrYPpB2doe9+xEfLYhEkygAPmiBZOOzRbg+yTWx9REZe+P3vfH//z//73vf+yBAncD5R3///qezDMu9QqHy49e9/7KDQCHR8//NExAgT4c64AMFWlLk+jKC4OdeeYVA/QwEJyinQoo/RSP8oHGwSR2h+BwW201NEDj5aoYm75g8sbr3Ox8/dwy452VX2xjN1PNHTxSd95T///+7+lfpAJUa0kS4A+gb+//NExAsUKdq4AJnemK8QN0FQx6F26Dx/qPFuhwsu9iLNph6hMKlPyJD3bauVdtUhKZTx8b3a0Sn/tD+f/nf1u24m8Vny9j59PiA4sRcn/////1q1ah8hP5P0E0g5IKvN//NExA0UUba0AJnelNn1DvQXneaW9B4/5X/++V+sezaMEptwotYqR3r61VTRd3iUgKvOaV1Lr/+smf/WM936wn0NWaCp0OHWCRsd////0+1yKt4/+cqNCZa0UrcnUObE//NExA4SCbKoAMnQlKXkOKx1OgLX+/0JfHW/QkQh3F2AqMZtcOR0yqnApEzK3AtX/Nf/NftB18Qw01oSAp32f///9LqzhUlVjUCa5sLAUyHOwgVvpB0TY8BhFICwwUqV//NExBgSAPqAAOUKcKfNQx4cfqTQ3MSZB33QSbmKjJFR1ZTDSGFUAxGKnVFD3d6PSgNkGf////t6rBTNDe/zthTMolA9couOnStjBg7NyBZ4rArJ7UUWG6mnv5hn2Izo//NExCMQWcKcAMqKlNcBBRqnU7cgcFKHkAQCEISQhP25Cf85zhwOBwmp0ur1sIyBd5u5igsvgsMxeIRe+kqQ+VJ/X6DBE/UoBwEHf5UPP+xDPuYpgPHprxP/zaT/y/3E//NExDQPica0AJnQlBZcVcWNPVHvWgjVduoT2CMjdzFBISsHke3EIOPwQ+VGn4s+gkulY+AyXJmNdRLPdawaEkBhpULxszJX6Sv5jLZjSw7dWyeEjAnsv////+1Lll1f//NExEgRsc64AJHUlKgmg61soMlE3Iq8PLb1Em/x2srqJf6hDHkHRLC8BTf09ZQQbndQCwwhJzrJR2/qIL7n97GfegWLP3LlBDNfxekyvtqiktD7H/qhEd1JXaSrOZJ///NExFQRuea0AINWmYc0fnXi4OkjdQ8f4VjDJ5xAF7sehoCeOHxcOJSvLWWUBsyTrXGw8utruDbdVfV/Eaq31D7bV/ouyvJVqXcN3m6mSvifdB5+W7yiNFiZMSRSm9q5//NExGAR2a6sAMKWlAZGZb+v+vAlNf5nyAq2+rdhhMW8WlmYoc0L496WvTWoMKDFyWDQUfK+E49Nf/zSoK93GurYFXMJcmn5rZbw2BAUC+DRSSo/FF/ODtNFJTIdobhm//NExGsRqQ6MANYecGq3TQLv6r7zHRu51Tf6HxYEjc9/9n/////SkUPkqtau6lr3GDppYx2KSCBZdAARgMH+px2H8eTLBePKb83XFkGiG8s340gNB/ODzfKgHFGfSElm//NExHcQUQKEANzacHMzjBgTFB2vuvaJ7TkzTX5vM5RZx8LFwfBwAAM/WGMQOQ3/////6NX+fy64pORbSUWvrTY9Gb3Le8NYDygvnXkKJn/9aK4jo2dRtwSQ6ewYtG4D//NExIgXAWKcAMMYlHC3rCPs8gjtOJvfUjtSeDn3BN6UBwkXXYwWOgv02XODwi7npsMsUTUwKaJVGVGnNDc1WUiQTc8kkcKh0yRRdNzjpuuv//////tXo76b7LQdWpFN//NExH8gUxacANPguTPj6ud/8sWZGGMW+RX8MQOFI91moi27FQcb9SxK0/jsST1MHYbjBFI1KjAKgbM6SbB+iVNI4Q8MmHkyOJLNDIaa1LskQOnUk41a0kDx2JMYm6aK//NExFAaafKkAMNkmGsgaR5mTLxNGzIIKcxGiKn//9331qJkhyB9t0BTwC8V1lw8iXAbWLfGAnbZUbfYQn0GTU2GQRupdiWCvs7H3YliigyTJiAC1OGllJks+9RonXzq//NExDkUyfq0AIqamHdOpNBZ9dFY+H0qrE8/fUs0VSj///o7rVvJqvWcFCguCNqRAAuZFvoChf4Xb1Ec/44VbRjwoLlVSgQARADHmqwuH4Lam3FwBw7E1xwQTV/vHt6T//NExDgTeda4AJHQmB/Th0DUdzy403qkGDVY82E7/////9f+/9eABVoKbLu2pXAasVYf754LfqkHHeksKrcTalHXdjhYSEotrFAIBAJc+QZGcoo8Jovc+d/v//fP/VVv//NExD0R6ZasAMIMlPJyUogJ6Wu1yzyyYeul0FZR0ZGpuQatJhMEnVkgUAxkIVH20i2v2Rv42F+oPiMsqPvAtLLqSzXlt6evXLIBT98qXx+/eabc+Th1uVsnWAv+E6Kk//NExEgSCRZwAOZMcNVYVdUOu+FSJPHw/EgocuVwUDI59Ucn/f4lATHxBj1NLpUnIHUqo8jfuEzS4ap7brNsobXNIosF4WBMyhrkK9jNzv1roqV+36nVqn3a+/8nJCou//NExFISSJ5gAO7eTNQMGMcGWo68BQ+AECwTkIoQ88zoxv/aL3xH93ERGPd655NNgQIw8gQAAw9M+/emKkX8M68MM+PASGWtn+f/Hwdg7dWAd2YZhwGghwKQDk1kMPtw//NExFsSiS6QANKMcXQWsDiSQW60QoHxa9zw8H/6V3/FrVVbppjv0kkTpxcuLRfMTmN4Xj6UK9A1epRHVMX24yWemzsMB6uZgai9YvtYyZODaKf6OKbvx0PH42I4qoLF//NExGMeKfqUANrYmCkx1JAmgUczyvXuvba3SK1KCYmIJJrLv/k3UwEUHOJXm+lnkfWo3QJk+JL5WO3MpPsd/MAjH6vFwBhLLiSrZexpZCb3oBTB5ASec6yaPf7hNipx//NExD0U0e6oANFSmEl1hQxSypzM8ppqWjX7kGP////4YHKq9jcP1BFQIghWpEV0H9Q6L/Em+gcb7f8JX9l2Xanh0AMJmr4EISCI4+iQaixl6xaj/6qJvibohNWckaeP//NExDwQyb64AKFQlYgVHtFyQO1V+sfQG9ltZPPmAH/qNvoTN9Bp9Hf5EIRqNiiCQWUy8lE4fPc7HkEAsVa1FE2ZERzV//Fs/hyppVVnaXOcVwmQKBI2z////9TGDlez//NExEsSQd64AJKWmIAEKydZrg/v6x6m/1ln1OafRKf+MFwgaOFEoBT/riQCGfkuDp/XwyfHyyfxqkR28iC9fqpkrIgULG53////9oqqv0iiB+JCIEWQxfghP6BUJvnE//NExFUQic64AJtQlP+VHPxpfIzwXwOqZW3Cpfi2uIAdqHLfND1/8nv4/OsfSF5ndXHqnf4c9J13P52kVeYfreUyEgb7Id46dlW8gal9A4LeiACVOEA6eSmEEfwASz/z//NExGUQSe60AJKWmAMet6zcTR4TnqPT69Iu+exvZ2d6nc65XtmGh6tpvtS6Z/XX//aQlYcgs1wh7nYyrE1+4dg8I3/LL/MIHNfftVopYhAWHO9xIwPmqnvFQ9URJHQU//NExHYRMYasAMlYlQ2mZ6mKlnWin2p0465+EMidL6KdbfxXX8XtnKrDQAeORFilHXjjSEAAkFAxVPFXLqLgCZ21KXl7KYScSMY0zr0mN3lboYzsu3bNtLzGfroYxSgL//NExIQSYaakAMIQlQKgqG1Sz51vWp+v64HizKUjgASzktsCFaJA6keMqhzwjkCkVoLaQmwpdZiVe2EA0fIYTQ1LfTUfktvKmmDQ4CPE0NU8JBQ85gz//1/7/+z/7f1I//NExI0RgcKcAMlElGmpUK5BoFGHguHqx/gI9UzmaCo8xeAzYJnbLlgx1BDUByCRu2zUYtxyP1r+esjUfGdagACTna70ucRo6Nf/1ou//spukLULV5NwlIP27pg1Buqx//NExJoRwLZsAOaSTNhoTCGUOi2gXJmfLkwKBXZiNAE9mViwkEzaL2HE8dM58zecmixyZk4cOOSKLCAH+Hcc6d5QzPzM/gFNCwUAsEMPz0yFr0V9Pd2r4/f3F7mrQUp9//NExKYSQLZgAO6MTN0SbgUHX+8T+9bwmWyaJ6TcC7GS5FF3MJL3Vpz/y+LulOlPFpRZ/CChnfxkhhYxhjMHccFnJik5wLhMQg+kZPDAaI/xGKNbxmsr1V2+4WlHb4w9//NExLAhOw6IANMQuGCmdaWVwrHyuwZhO2IdHEpYAoARp1tCTEg1hPS0XRDEJI/e54qzf2lNm89lOmdpakRm2s2P1iYubz7kE0pV6jDigGf///Ug/chzweCoAB8HFg+T//NExH4fgfacANPYmP7+VVQ4bHkXPrQ8Yf97XC3/NCn8p+shfLu+P9KkXQgT8SVX3UhSaxN3iA9pHOh9RvLNiH/X/dMWtjET7r/NTGt5cr4kv3+t/GGulsb8lCCUf//9//NExFMWgfawAMtemCiusZPDQ0jX/uom+HRS/DnWxkFEv+sKQu2gVCb1HfUWPj5vYuzVB0nGqGiMKAcqS3B2TZSRwCmNPkROYzqst6Ffl1fhCMnXNE9zsqQbaXNFRU9///NExEwUifq0AMqOmP//TamxFNXDPV2aGBTeGkPd5uaZnMIvstYdj7cfhlr8w9Z091olnUkPJa1OVhuoVZqgqYWZSRs60uUR61ewSeuV8att1//qLv4xa1f7VgxrVtJt//NExEwYceKoAMtemJ/bUPMD1xXUFIGCVn///QnElKnVvFWm/W6zCh9gnTNXMWzgacMHONXQcc9JfSJo/Zbo+eaR/1cdB6W4jABCVQ80VCSz0Uam2lBGGz+Eg7hruUee//NExD0R+TqgANUOcEWs9Tf////3OlQkm6anfRc5hA4HTASho1t944BA6cJohbPWdToqEg7Dn6q5a/6r6z/+B+j2VgoBvmakKM14idPM/zz6VrCYOJxT/////9+X/CzL//NExEgRQPqAAOaEcJ+TDtjs5RI1FcIYbuCaJnQcaewng2Yt/6IsuarzamXed/7YFZT4rGeW1SF4AQBh5N14oAIgP0qvoxFLdiQTIioijCQDiL85ilOnfpSnTM06aZzc//NExFYdGc6QANPYlHjb7b9llOlhYAyYIOg5//qJ60OlJATgdTlAgB2iAZXPnP03MGxu4crTJVOlHOWOtMoAqX4sBJLTzpOa8ZdPyPNl7GQfGamDnjUetAvomKtyF63X//NExDQaSe6gANQemBBH3uBDiSpgbU/tPlR3/3przr19oe8X1c+HVn8ajcr77/7XH1u2vEAMB///6h5PIRoGcTrMqvWgAtJad1k8DYAD+NXnCYF6dAOM9Bj40fxO/wiC//NExB0QKbq4AJHWlFJw+2g+d6jVJ3NvsdDpe/aW8z7P/m+P3RVPeb7q7z1amUAAZd//aqAsBfT3Pj77mDETDU/5oDqP8bzKL5Sb8mhoZ8vsoHmJbZQLwcsVc5cdtXMy//NExC8SSZ6wAMrWlGJbTdpQTnbunV/EO/9v7YVNYdUSdDVep9r0qsJHhTywkgwFXK+d5+YbRNIxrMnvorsZW/M3sv+SV4z3HTo0v+Vn0DV6mFTyKCKcVmo/3mffaJDt//NExDgRgQKQAN6ScKEj0O/WdIu////////qfelpoZUyMOwzpmYIAYe+nFAwy/1JS38cEhLGv/UT5/6wbpP1+WAaAT7yTI59v+yX+nFT4BL/zrjoRo/1yVv/////QFWB//NExEURYQKAAN5QcOrdjerpYDnCYiQutPRiXgFwx7x9P9l/Qu3vpDGSP92fOCNuDeEkUaPYZaNGjbnpACBPP0oKCT1BQUCgkyF7SB0u/B+kXB8oND6jn8pV5zG5JVHA//NExFISySqgANPScLbg41Gaelgxp4PPTmtQbFWDWv81ajSK/efSEaTjWWsCMV2aze7aa+Yc0zcCnEaVT6yoVQuquzWr8jQoOyMjm8IWIw/dR6zJhygw81YYVfqtUTHm//NExFkgkgaYANPemPPisqWnfaeQSFuDzcCGuIuYcfc0JkyyQ8bf1Lmv//077JAQNE4nIAuF1fkqFGHiZpEoQEGcY9BHT4zJvj1uYVboeYdnkZEAqLSETAShAjGc6PFY//NExCkZYfq0AJKemPVVDtIwIYri2rN6w0+5Nu8v48DMX3gavFx6QM1hXr38Jc4hs7O2QWK+tsEORhljw5KhCz//+5Wm25UsgVXOv8kjLzFpeEBUAgk1xgEL0IXhXk/I//NExBYQgdK8AHhQlUfzS1HDedYkDsIijs0WbscPFUEYPhZ1NHV8rH/Hr88MdrDIs45YKCEpvzehpN41m6oBVixWAWtMrMiVW37lqU0vf/H///////0KyGEhZWQBRwiA//NExCcRYcKYAVgoASHRwBCwiZSlKKsoqVtHKX9DGMUuVpUYyh03WTzgUFW31MNuTRgUnHBSwBTPrTejnrXnya7Tuy0yQTf/MkTMx/83QuZfnSTKZoJOJWZiSBJgE6BT//NExDQd4yaIAZhoAIQ380Y3EwHIaEuJIXyXGUfOjz/6abJm4mBQY3NjYLwMKC3jaHPUFv//en/sRxkDcPAeCC76////9nvuyzyzR0nLiB5l3j3Sf50owfDD7oTgNG/U//NExA8Vwd6oAdlAALqsM0m///w/8eZ+tde3N///3/cp8cVjZDgIDywbCMEbKdR1awKmRJSi2cpIhDropYqYGkDuBg2SjyiSjYUbAwWCRVR7///t6fy+tDpyKSul5ExR//NExAsRudasAMiSmHbPZ/ww7926j/+/m9fVfzOwrUiwCtSphhu89nt9QPu2PKoP5avW/V0GV0l1mqmtGWVOL+1EGf//++3/0vv4QGFwGAr2Wa7kppOdZysgMLVlLopX//NExBcSUW6kAMFElP+n//L6OyKYMKUYCe8pWM70BjAysdnijQlYCgiLAzBkyGSrDsqAwwBBMGw2aFhZ1H/lai8cIiAWWcmswZvKINkVXGls5a7swlCG///y//6JnNCf//NExCASWjJwAMBKuFQScrG0ESGaqHAU4rlL1LWZZVajlzVR7GOUxUHlSZVIcVKEgaBVmCz9dTOUDWk2Kio8OGGhND8F4NUMSSSJChUUTbi1S6zovpogqoqgkFSMAmGq//NExCkRAE4wANMGJCzEtrsevR9L2clW65Nbj8XYKrFC6LaBb07HkT+vM/oSQTMQnMvXpLqWerWgE42lwHDqYwjbc5qNSGthVumlj1VDka6U3rp2scSfFUt92vEjK7kK//NExDgPWDIoAVkAAB3JaV0SylnTJMPp3/RXm8pf0+zsqK5onHCUDf01M5eJxmPb6DMm81OmpJfl8vplwuMXaRsTQqP8YQRgeBLkweASMcRSC2htAjxaHb/jncRsc5uS//NExE0h0yKEAY9oAYaRyA9Bah6kcjjjHiMKX//yUNHLhpTTN003JceIRAXAT8eBKD4QwqY3Ds/////yikeNhyEufrMkS6kqDjfe1P///2//q/9v5zrX2ZnSqnO7quHI//NExBgQulqsAcIoANREGDzozTizM3mY9JaaoJCAO6nQpoodB5jMdDxo8KmhjgnqI0HQOl9jOxE3koPAfC4pUIf1f///P/yy/ymZPmYXZ0JpOQh3CA1jscY4kaKixkUg//NExCgQqkKwAEBKuN6iDndF/TM6WMyCKB2WIirFex2i0NCxLq+TQssM9EIASQklEGuqUmaGphbs6OndOgj0906Np/9sd+QghdhCBOJ2rhtT+x3zM92v6709Npes9lTV//NExDgSKaKsAMiMlCAIvayIqXPGKLLSyp////9F//zHCG/tTM2IBD6LcWx8ABxcYDXkY3bn89OeX5hc0xKIbgFYsSaouCgXNos5fIFD4ktjVrSPVJXq6hutdhktEFO7//NExEIRIa60AMqQlQV11f/dQklKs4MiwBYoxCjMkxSIzzMdWzMmPmZeS9Zj7X/80UfaYbMueXCbdwIEyVmos3CAobixBHguFm3+zgNIu8QmFIe8qlTu+3gcJKCfqQOc//NExFAReSq0AMNScDrQaa+z9GEWqwQl+BEjqUfKkayxJcSTcViMPx4RCyA0TGqPpxU0VquREJh5UZCJNzf9/+3Pd7EDg2DoaenbXeW78Bjm6hGHU0TPOe6zt3VS2M+f//NExF0SKaaoAMHUlGv1qtf/5Ff5X8q+4bpiR1KMB4/1NTa/dUiySTeiZ6////4v+OfixqsPEgKip08N9SoRmJ7kMYIJlUe1s10+NADjO0SM68LkCDkSVu/wwWNECQFd//NExGcRCaqcAVlAAA+UkeOSbDGkRMkkleTw4icGKB9LLpNFYhvwudA3BB4lEV4R+TR9SRsv8XCGoikB4FbF8mTI2pJGX+LJHUOULmH2M0sUCWa+iipf/I0aA5pEjA3Z//NExHUheqJYAZuIAWunRUpaOv//zVBFFkbpLNIXAMB05DoHSA/G45elmYIcyK9L81uYg8cEKOCocoI6RszGGeZeVdHmTFqAKGgmdMlXCWeU8A+ddI0W7rMjv+R/7PJK//NExEIQWMn8AcwYAAJ0XQf5WF6NE5kSkFItsqy7iYhGjiM81GtQrJLsPjKkzWOTLLSaoasDoZCSAZEhoekJipl2LGgKKGqQkRdQKN/+tvF6OiSMgMAmNBJNjwEEhwAL//NExFMQ4N24AHpGcEkCdDiA4ISLCAxxYQNgmQB8gFg2EQGETQWAAWAYqaCIEaNSNYBCYOExrB7ByegWMCyaP6iY7/9FPKgPUNEhDF2dKlYlLYk6LpR2rHoLlF8CBwAm//NExGIAAANIAAAAAGkAsNUDw1WocjCKSPoidkmnO5R5ns8hfhNW6kjvllOBgsll5HKOh1CPIyMyI4rKcBhWQOEBxAMOijiBaUUKGcEFFDOEBKYgOEpiBAtFFDC0USKJ//NExLURqHW8AGGESMEFYnDkUgZOs+ML5V8N21fCVQhpAC5ngllCAgUCMTRDA0MSGEYCCRoKTTNhm0BNNBUkaFUi9P/+gUv7DILC5kJEgZEhoCsjyJkJCMBCyAo1DxUk//NExMEf0o3YAMGGufpF1aQJlIhYAFFgYYQBghIsIoAHYQBghgsBBMCZAkBCbpoLGWLKNAZAIgQmEQOwCEznp8yx+lg4mFks/////jiYWMsHKm5PoAlw+TYQtGvnp/He//NExJQQ0EnAAHmGJHAXonKKfvbk0JhNEgbk1dZhWOolEE4VxalOFZqfM5zy5Ksjdm0Ljq6GJ7Yl0N3WrugQMZowUELEir5CgoJyOILEgSzNQoQWJa2OKAQTiWNQSDiQ//NExKMQSGXUADCGKE6s5LDWOTVymrVDa/k1iGR+RqsqGX0yZYaw2qClhrCYKg5JagsXYbhODSEhOLw5RpR9qqakkCigImhuaTBQoJ0ssdyP9lBQHH/rZWKknwZCgk0a//NExLQhIwncAHsGuYWFwziwr/8WF2ahVkVZxUWqTEFNRTMuMTAwqqqqqqqqqqqqqqqqqqqqqqqqqqqqqqqqqqqqqqqqqqqqqqqqqqqqqqqqqqqqqqqqqqqqqqqqqqqq//NExIIP0N2MAEmGcKqqqqqqqqqqqqqqqqqqqqqqqqqqqqqqqqqqqqqqqqqqqqqqqqqqqqqqqqqqqqqqqqqqqqqqqqqqqqqqqqqqqqqqqqqqqqqqqqqqqqqqqqqqqqqq\" type=\"audio/mpeg\" />\n",
       "                    Your browser does not support the audio element.\n",
       "                </audio>\n",
       "              "
      ],
      "text/plain": [
       "<IPython.lib.display.Audio object>"
      ]
     },
     "execution_count": 9,
     "metadata": {},
     "output_type": "execute_result"
    }
   ],
   "source": [
    "from IPython.display import Audio\n",
    "audio=Audio(filename='output.mp3')\n",
    "audio"
   ]
  },
  {
   "cell_type": "code",
   "execution_count": null,
   "id": "553d7188",
   "metadata": {},
   "outputs": [],
   "source": []
  }
 ],
 "metadata": {
  "kernelspec": {
   "display_name": "Python 3 (ipykernel)",
   "language": "python",
   "name": "python3"
  },
  "language_info": {
   "codemirror_mode": {
    "name": "ipython",
    "version": 3
   },
   "file_extension": ".py",
   "mimetype": "text/x-python",
   "name": "python",
   "nbconvert_exporter": "python",
   "pygments_lexer": "ipython3",
   "version": "3.9.12"
  }
 },
 "nbformat": 4,
 "nbformat_minor": 5
}
