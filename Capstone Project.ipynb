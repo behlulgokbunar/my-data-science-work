{
 "cells": [
  {
   "cell_type": "code",
   "execution_count": 11,
   "id": "26806071",
   "metadata": {},
   "outputs": [],
   "source": [
    "import numpy as np\n",
    "import pandas as pd\n",
    "import os\n",
    "import matplotlib.pyplot as plt\n",
    "import seaborn as sns\n",
    "import tensorflow as tf\n",
    "from PIL import Image\n",
    "from tensorflow.keras import models, layers\n",
    "from tensorflow.keras.utils import to_categorical\n",
    "from sklearn.model_selection import train_test_split\n",
    "from sklearn.metrics import confusion_matrix, accuracy_score"
   ]
  },
  {
   "cell_type": "code",
   "execution_count": 2,
   "id": "b7f8eaa3",
   "metadata": {},
   "outputs": [],
   "source": [
    "imgs_path = \"Train\"\n",
    "data_list = []\n",
    "labels_list = []\n",
    "classes_list = 43 \n",
    "for i in range(classes_list):\n",
    "    i_path = os.path.join(imgs_path, str(i)) \n",
    "    for img in os.listdir(i_path):\n",
    "        im = Image.open(i_path +'/'+ img)\n",
    "        im = im.resize((32,32))\n",
    "        im = np.array(im)\n",
    "        data_list.append(im)\n",
    "        labels_list.append(i)\n",
    "data = np.array(data_list)\n",
    "labels = np.array(labels_list)"
   ]
  },
  {
   "cell_type": "code",
   "execution_count": 3,
   "id": "56ad464b",
   "metadata": {},
   "outputs": [],
   "source": [
    "def prep_dataset(X,y):\n",
    "    X_prep = X.astype('float32')\n",
    "    y_prep = to_categorical(np.array(y))\n",
    "    return (X_prep, y_prep)\n",
    "X, y = prep_dataset(data,labels)"
   ]
  },
  {
   "cell_type": "code",
   "execution_count": 4,
   "id": "ff36fe82",
   "metadata": {},
   "outputs": [],
   "source": [
    "X_train, X_val, y_train, y_val = train_test_split(X,y, test_size=0.2, shuffle=True,stratify=y)\n",
    "X_val, X_test, y_val, y_test = train_test_split(X_val,y_val, test_size=0.5, shuffle=True)"
   ]
  },
  {
   "cell_type": "code",
   "execution_count": 5,
   "id": "afd91f60",
   "metadata": {},
   "outputs": [
    {
     "name": "stdout",
     "output_type": "stream",
     "text": [
      "Model: \"sequential\"\n",
      "_________________________________________________________________\n",
      " Layer (type)                Output Shape              Param #   \n",
      "=================================================================\n",
      " conv2d (Conv2D)             (None, 32, 32, 32)        896       \n",
      "                                                                 \n",
      " max_pooling2d (MaxPooling2D  (None, 16, 16, 32)       0         \n",
      " )                                                               \n",
      "                                                                 \n",
      " batch_normalization (BatchN  (None, 16, 16, 32)       128       \n",
      " ormalization)                                                   \n",
      "                                                                 \n",
      " dropout (Dropout)           (None, 16, 16, 32)        0         \n",
      "                                                                 \n",
      " conv2d_1 (Conv2D)           (None, 16, 16, 128)       36992     \n",
      "                                                                 \n",
      " max_pooling2d_1 (MaxPooling  (None, 8, 8, 128)        0         \n",
      " 2D)                                                             \n",
      "                                                                 \n",
      " batch_normalization_1 (Batc  (None, 8, 8, 128)        512       \n",
      " hNormalization)                                                 \n",
      "                                                                 \n",
      " dropout_1 (Dropout)         (None, 8, 8, 128)         0         \n",
      "                                                                 \n",
      " conv2d_2 (Conv2D)           (None, 8, 8, 512)         590336    \n",
      "                                                                 \n",
      " dropout_2 (Dropout)         (None, 8, 8, 512)         0         \n",
      "                                                                 \n",
      " conv2d_3 (Conv2D)           (None, 8, 8, 512)         2359808   \n",
      "                                                                 \n",
      " max_pooling2d_2 (MaxPooling  (None, 4, 4, 512)        0         \n",
      " 2D)                                                             \n",
      "                                                                 \n",
      " batch_normalization_2 (Batc  (None, 4, 4, 512)        2048      \n",
      " hNormalization)                                                 \n",
      "                                                                 \n",
      " flatten (Flatten)           (None, 8192)              0         \n",
      "                                                                 \n",
      " dense (Dense)               (None, 4000)              32772000  \n",
      "                                                                 \n",
      " dense_1 (Dense)             (None, 4000)              16004000  \n",
      "                                                                 \n",
      " dense_2 (Dense)             (None, 1000)              4001000   \n",
      "                                                                 \n",
      " dense_3 (Dense)             (None, 43)                43043     \n",
      "                                                                 \n",
      "=================================================================\n",
      "Total params: 55,810,763\n",
      "Trainable params: 55,809,419\n",
      "Non-trainable params: 1,344\n",
      "_________________________________________________________________\n"
     ]
    }
   ],
   "source": [
    "model = models.Sequential()\n",
    "\n",
    "model.add(layers.Conv2D(filters=32,kernel_size=3,activation='relu',padding='same',input_shape=X.shape[1:]))\n",
    "model.add(layers.MaxPool2D(strides=2))\n",
    "model.add(layers.BatchNormalization())\n",
    "model.add(layers.Dropout(0.3))\n",
    "\n",
    "model.add(layers.Conv2D(filters=128,kernel_size=3,activation='relu',padding='same'))\n",
    "model.add(layers.MaxPool2D(strides=2))\n",
    "model.add(layers.BatchNormalization())\n",
    "model.add(layers.Dropout(0.3))\n",
    "\n",
    "model.add(layers.Conv2D(filters=512,kernel_size=3,activation='relu',padding='same'))\n",
    "model.add(layers.Dropout(0.3))\n",
    "model.add(layers.Conv2D(filters=512,kernel_size=3,activation='relu',padding='same'))\n",
    "model.add(layers.MaxPool2D(strides=2))\n",
    "model.add(layers.BatchNormalization())\n",
    "\n",
    "model.add(layers.Flatten())\n",
    "\n",
    "model.add(layers.Dense(4000,activation='relu'))\n",
    "model.add(layers.Dense(4000,activation='relu'))\n",
    "model.add(layers.Dense(1000,activation='relu'))\n",
    "model.add(layers.Dense(43,activation='softmax'))\n",
    "\n",
    "model.summary()"
   ]
  },
  {
   "cell_type": "code",
   "execution_count": 6,
   "id": "7a371fea",
   "metadata": {},
   "outputs": [
    {
     "name": "stdout",
     "output_type": "stream",
     "text": [
      "Epoch 1/10\n",
      "491/491 [==============================] - 297s 602ms/step - loss: 1.7172 - accuracy: 0.5119 - val_loss: 0.3964 - val_accuracy: 0.8567\n",
      "Epoch 2/10\n",
      "491/491 [==============================] - 304s 620ms/step - loss: 0.2363 - accuracy: 0.9247 - val_loss: 0.1436 - val_accuracy: 0.9490\n",
      "Epoch 3/10\n",
      "491/491 [==============================] - 306s 624ms/step - loss: 0.1137 - accuracy: 0.9640 - val_loss: 0.0503 - val_accuracy: 0.9867\n",
      "Epoch 4/10\n",
      "491/491 [==============================] - 307s 626ms/step - loss: 0.0977 - accuracy: 0.9714 - val_loss: 0.0546 - val_accuracy: 0.9842\n",
      "Epoch 5/10\n",
      "491/491 [==============================] - 289s 589ms/step - loss: 0.0805 - accuracy: 0.9763 - val_loss: 0.0837 - val_accuracy: 0.9750\n",
      "Epoch 6/10\n",
      "491/491 [==============================] - 282s 575ms/step - loss: 0.0677 - accuracy: 0.9827 - val_loss: 0.0527 - val_accuracy: 0.9883\n",
      "Epoch 7/10\n",
      "491/491 [==============================] - 279s 568ms/step - loss: 0.0612 - accuracy: 0.9832 - val_loss: 0.0556 - val_accuracy: 0.9893\n",
      "Epoch 8/10\n",
      "491/491 [==============================] - 282s 574ms/step - loss: 0.0832 - accuracy: 0.9799 - val_loss: 0.1061 - val_accuracy: 0.9712\n",
      "Epoch 9/10\n",
      "491/491 [==============================] - 280s 570ms/step - loss: 0.1187 - accuracy: 0.9726 - val_loss: 0.0290 - val_accuracy: 0.9911\n",
      "Epoch 10/10\n",
      "491/491 [==============================] - 282s 574ms/step - loss: 0.0388 - accuracy: 0.9894 - val_loss: 0.0185 - val_accuracy: 0.9936\n"
     ]
    }
   ],
   "source": [
    "model.compile(optimizer='adam',loss='categorical_crossentropy',metrics=['accuracy'])\n",
    "history= model.fit(X_train,y_train,epochs=10,batch_size=64,validation_data=(X_val,y_val))"
   ]
  },
  {
   "cell_type": "code",
   "execution_count": 7,
   "id": "f5646438",
   "metadata": {},
   "outputs": [
    {
     "name": "stdout",
     "output_type": "stream",
     "text": [
      "123/123 [==============================] - 8s 66ms/step\n"
     ]
    }
   ],
   "source": [
    "y_test = np.argmax(y_test,axis=1)\n",
    "y_pred= model.predict(X_test)\n",
    "y_pred = np.argmax(y_pred, axis=1)"
   ]
  },
  {
   "cell_type": "code",
   "execution_count": 9,
   "id": "ff02e84e",
   "metadata": {},
   "outputs": [
    {
     "name": "stdout",
     "output_type": "stream",
     "text": [
      "-train acuracy: 99.26%\n",
      "-accuracy: 98.94%\n",
      "-val_accuracy: 99.36%\n"
     ]
    }
   ],
   "source": [
    "print('-train acuracy: {:.2f}%\\n-accuracy: {:.2f}%\\n-val_accuracy: {:.2f}%'.format(accuracy_score(y_test,y_pred)*100,(history.history['accuracy'][-1])*100,(history.history['val_accuracy'][-1])*100))"
   ]
  },
  {
   "cell_type": "code",
   "execution_count": null,
   "id": "bccebcfc",
   "metadata": {},
   "outputs": [],
   "source": []
  },
  {
   "cell_type": "code",
   "execution_count": 14,
   "id": "a24180ff",
   "metadata": {},
   "outputs": [
    {
     "name": "stdout",
     "output_type": "stream",
     "text": [
      "395/395 [==============================] - 26s 64ms/step\n",
      "0.9539192399049882\n"
     ]
    }
   ],
   "source": [
    "y_test = pd.read_csv('Test.csv')\n",
    "\n",
    "labels = y_test[\"ClassId\"].values\n",
    "imgs = y_test[\"Path\"].values\n",
    "\n",
    "data=[]\n",
    "\n",
    "with tf.device('/GPU:0'):\n",
    "    for img in imgs:\n",
    "        image = Image.open('../Capstone Project/'+img)\n",
    "        image = image.resize([32, 32])\n",
    "        data.append(np.array(image))\n",
    "\n",
    "X_test=np.array(data)\n",
    "\n",
    "with tf.device('/GPU:0'):\n",
    "    pred = np.argmax(model.predict(X_test), axis=-1)\n",
    "\n",
    "from sklearn.metrics import accuracy_score\n",
    "print(accuracy_score(labels, pred))"
   ]
  },
  {
   "cell_type": "code",
   "execution_count": null,
   "id": "9d57bf94",
   "metadata": {},
   "outputs": [],
   "source": []
  }
 ],
 "metadata": {
  "kernelspec": {
   "display_name": "Python 3 (ipykernel)",
   "language": "python",
   "name": "python3"
  },
  "language_info": {
   "codemirror_mode": {
    "name": "ipython",
    "version": 3
   },
   "file_extension": ".py",
   "mimetype": "text/x-python",
   "name": "python",
   "nbconvert_exporter": "python",
   "pygments_lexer": "ipython3",
   "version": "3.10.5"
  }
 },
 "nbformat": 4,
 "nbformat_minor": 5
}
