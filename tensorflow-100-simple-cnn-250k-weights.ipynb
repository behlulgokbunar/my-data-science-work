{
 "cells": [
  {
   "cell_type": "markdown",
   "metadata": {},
   "source": [
    "## CNN with <250k parameters\n",
    "### Imports\n",
    "#### I'm only using basic libraries"
   ]
  },
  {
   "cell_type": "code",
   "execution_count": 1,
   "metadata": {
    "_cell_guid": "b1076dfc-b9ad-4769-8c92-a6c4dae69d19",
    "_uuid": "8f2839f25d086af736a60e9eeb907d3b93b6e0e5",
    "execution": {
     "iopub.execute_input": "2022-08-01T19:07:09.766177Z",
     "iopub.status.busy": "2022-08-01T19:07:09.765815Z",
     "iopub.status.idle": "2022-08-01T19:07:09.771463Z",
     "shell.execute_reply": "2022-08-01T19:07:09.770211Z",
     "shell.execute_reply.started": "2022-08-01T19:07:09.766132Z"
    }
   },
   "outputs": [],
   "source": [
    "import numpy as np \n",
    "import pandas as pd\n",
    "import tensorflow as tf\n",
    "import matplotlib.pyplot as plt"
   ]
  },
  {
   "cell_type": "markdown",
   "metadata": {},
   "source": [
    "### Setting the seed\n",
    "#### This ensures reproducible results"
   ]
  },
  {
   "cell_type": "code",
   "execution_count": 2,
   "metadata": {
    "execution": {
     "iopub.execute_input": "2022-08-01T19:07:09.887136Z",
     "iopub.status.busy": "2022-08-01T19:07:09.886864Z",
     "iopub.status.idle": "2022-08-01T19:07:09.900193Z",
     "shell.execute_reply": "2022-08-01T19:07:09.899072Z",
     "shell.execute_reply.started": "2022-08-01T19:07:09.887111Z"
    }
   },
   "outputs": [],
   "source": [
    "tf.random.set_seed(13)"
   ]
  },
  {
   "cell_type": "markdown",
   "metadata": {},
   "source": [
    "## Get the Kaggle provided data"
   ]
  },
  {
   "cell_type": "code",
   "execution_count": 3,
   "metadata": {
    "execution": {
     "iopub.execute_input": "2022-08-01T19:07:10.015Z",
     "iopub.status.busy": "2022-08-01T19:07:10.014745Z",
     "iopub.status.idle": "2022-08-01T19:07:13.531418Z",
     "shell.execute_reply": "2022-08-01T19:07:13.530336Z",
     "shell.execute_reply.started": "2022-08-01T19:07:10.014976Z"
    }
   },
   "outputs": [
    {
     "name": "stdout",
     "output_type": "stream",
     "text": [
      "(42000, 784)\n",
      "(28000, 28, 28, 1)\n"
     ]
    }
   ],
   "source": [
    "train_df = pd.read_csv('train.csv')\n",
    "test_df = pd.read_csv('test.csv')\n",
    "Y = train_df['label']\n",
    "X = train_df.drop('label', axis = 1)\n",
    "del train_df\n",
    "test = np.array(test_df).reshape(-1, 28, 28, 1) / 255.0\n",
    "del test_df\n",
    "print(np.shape(X))\n",
    "print(np.shape(test))"
   ]
  },
  {
   "cell_type": "markdown",
   "metadata": {},
   "source": [
    "### Get more data from the MNIST database\n",
    "#### MNIST stands for 'Modified National Institute of Standards and Technology', and the MNIST database is a large, public, database of handwritten digits"
   ]
  },
  {
   "cell_type": "code",
   "execution_count": 4,
   "metadata": {
    "execution": {
     "iopub.execute_input": "2022-08-01T19:07:13.534273Z",
     "iopub.status.busy": "2022-08-01T19:07:13.533313Z",
     "iopub.status.idle": "2022-08-01T19:07:13.818383Z",
     "shell.execute_reply": "2022-08-01T19:07:13.817281Z",
     "shell.execute_reply.started": "2022-08-01T19:07:13.534232Z"
    }
   },
   "outputs": [
    {
     "name": "stdout",
     "output_type": "stream",
     "text": [
      "(70000, 784) (70000,)\n"
     ]
    }
   ],
   "source": [
    "(x_train_more, y_train_more), (x_test_more, y_test_more) = tf.keras.datasets.mnist.load_data()\n",
    "\n",
    "train_more = np.concatenate([x_train_more, x_test_more], axis=0)\n",
    "y_train_more = np.concatenate([y_train_more, y_test_more], axis=0)\n",
    "\n",
    "Y_train_tf = y_train_more\n",
    "X_train_tf = train_more.reshape(-1, 28*28)\n",
    "print(X_train_tf.shape, Y_train_tf.shape)"
   ]
  },
  {
   "cell_type": "markdown",
   "metadata": {},
   "source": [
    "### Merge the Kaggle and MNIST data and then scale it down by 255\n",
    "#### This normalizes the values to the range [0,1] and makes training faster and easier"
   ]
  },
  {
   "cell_type": "code",
   "execution_count": 5,
   "metadata": {
    "execution": {
     "iopub.execute_input": "2022-08-01T19:07:13.8203Z",
     "iopub.status.busy": "2022-08-01T19:07:13.819924Z",
     "iopub.status.idle": "2022-08-01T19:07:14.314063Z",
     "shell.execute_reply": "2022-08-01T19:07:14.312971Z",
     "shell.execute_reply.started": "2022-08-01T19:07:13.820265Z"
    }
   },
   "outputs": [
    {
     "name": "stdout",
     "output_type": "stream",
     "text": [
      "(112000, 28, 28, 1) (112000,)\n"
     ]
    }
   ],
   "source": [
    "X = np.concatenate((X, X_train_tf)).reshape(-1,28,28,1) / 255.0\n",
    "Y = np.concatenate((Y, Y_train_tf))\n",
    "print(X.shape, Y.shape)"
   ]
  },
  {
   "cell_type": "markdown",
   "metadata": {},
   "source": [
    "#### I am using ImageDataGenerator because I was messing around with data augmentation. This proved to be unnecessary."
   ]
  },
  {
   "cell_type": "code",
   "execution_count": 6,
   "metadata": {
    "execution": {
     "iopub.execute_input": "2022-08-01T19:07:14.317246Z",
     "iopub.status.busy": "2022-08-01T19:07:14.316675Z",
     "iopub.status.idle": "2022-08-01T19:07:14.322504Z",
     "shell.execute_reply": "2022-08-01T19:07:14.321202Z",
     "shell.execute_reply.started": "2022-08-01T19:07:14.317209Z"
    }
   },
   "outputs": [],
   "source": [
    "from tensorflow.keras.preprocessing.image import ImageDataGenerator\n",
    "gen = ImageDataGenerator(validation_split = 0.2)"
   ]
  },
  {
   "cell_type": "markdown",
   "metadata": {},
   "source": [
    "#### Helper function prints the graphs of training\\val loss and accuracy so I can more easily discern whether there was any point in training the model for more epochs"
   ]
  },
  {
   "cell_type": "code",
   "execution_count": 7,
   "metadata": {
    "execution": {
     "iopub.execute_input": "2022-08-01T19:07:14.324854Z",
     "iopub.status.busy": "2022-08-01T19:07:14.324166Z",
     "iopub.status.idle": "2022-08-01T19:07:14.333719Z",
     "shell.execute_reply": "2022-08-01T19:07:14.332771Z",
     "shell.execute_reply.started": "2022-08-01T19:07:14.324816Z"
    }
   },
   "outputs": [],
   "source": [
    "def Charts(history):\n",
    "    plt.plot(history.history['loss'])\n",
    "    plt.plot(history.history['val_loss'])\n",
    "    plt.title('model loss')\n",
    "    plt.ylabel('loss')\n",
    "    plt.xlabel('epoch')\n",
    "    plt.legend(['train', 'val'], loc='upper left')\n",
    "    plt.show()\n",
    "    \n",
    "    plt.plot(history.history['accuracy'])\n",
    "    plt.plot(history.history['val_accuracy'])\n",
    "    plt.title('model accuracy')\n",
    "    plt.ylabel('accuracy')\n",
    "    plt.xlabel('epoch')\n",
    "    plt.legend(['train', 'val'], loc='upper left')\n",
    "    plt.show()"
   ]
  },
  {
   "cell_type": "markdown",
   "metadata": {},
   "source": [
    "## Creating the model\n",
    "#### We use 3 sets of Conv2D with kernel size 3, MaxPool2D with pool size 2, and BatchNormalization, then we flatten the last BatchNormalizations output and add one more hidden dense layer.\n",
    "#### We apply dropout after the flattening, and after the hidden dense layer to further reduce variance.\n",
    "#### The setup of multiple Conv layers, then a Pool layer followed by a BatchNorm layer is somewhat of a standard practice (at least thats my impression after spending some time googling about the subject)"
   ]
  },
  {
   "cell_type": "code",
   "execution_count": 8,
   "metadata": {
    "execution": {
     "iopub.execute_input": "2022-08-01T19:10:52.749732Z",
     "iopub.status.busy": "2022-08-01T19:10:52.749054Z",
     "iopub.status.idle": "2022-08-01T19:10:52.845301Z",
     "shell.execute_reply": "2022-08-01T19:10:52.844198Z",
     "shell.execute_reply.started": "2022-08-01T19:10:52.749695Z"
    }
   },
   "outputs": [
    {
     "name": "stdout",
     "output_type": "stream",
     "text": [
      "Model: \"sequential\"\n",
      "_________________________________________________________________\n",
      " Layer (type)                Output Shape              Param #   \n",
      "=================================================================\n",
      " conv2d (Conv2D)             (None, 28, 28, 32)        320       \n",
      "                                                                 \n",
      " max_pooling2d (MaxPooling2D  (None, 14, 14, 32)       0         \n",
      " )                                                               \n",
      "                                                                 \n",
      " batch_normalization (BatchN  (None, 14, 14, 32)       128       \n",
      " ormalization)                                                   \n",
      "                                                                 \n",
      " conv2d_1 (Conv2D)           (None, 14, 14, 64)        18496     \n",
      "                                                                 \n",
      " max_pooling2d_1 (MaxPooling  (None, 7, 7, 64)         0         \n",
      " 2D)                                                             \n",
      "                                                                 \n",
      " batch_normalization_1 (Batc  (None, 7, 7, 64)         256       \n",
      " hNormalization)                                                 \n",
      "                                                                 \n",
      " conv2d_2 (Conv2D)           (None, 7, 7, 128)         73856     \n",
      "                                                                 \n",
      " max_pooling2d_2 (MaxPooling  (None, 3, 3, 128)        0         \n",
      " 2D)                                                             \n",
      "                                                                 \n",
      " batch_normalization_2 (Batc  (None, 3, 3, 128)        512       \n",
      " hNormalization)                                                 \n",
      "                                                                 \n",
      " flatten (Flatten)           (None, 1152)              0         \n",
      "                                                                 \n",
      " dropout (Dropout)           (None, 1152)              0         \n",
      "                                                                 \n",
      " dense (Dense)               (None, 128)               147584    \n",
      "                                                                 \n",
      " dropout_1 (Dropout)         (None, 128)               0         \n",
      "                                                                 \n",
      " dense_1 (Dense)             (None, 10)                1290      \n",
      "                                                                 \n",
      "=================================================================\n",
      "Total params: 242,442\n",
      "Trainable params: 241,994\n",
      "Non-trainable params: 448\n",
      "_________________________________________________________________\n"
     ]
    }
   ],
   "source": [
    "from tensorflow.keras import Sequential\n",
    "from tensorflow.keras.layers import Conv2D, MaxPool2D, BatchNormalization, Dense, Dropout, Flatten\n",
    "from tensorflow.keras.optimizers import Adam\n",
    "model = Sequential()\n",
    "\n",
    "model.add(Conv2D(32, 3, padding = 'same', kernel_initializer = 'he_normal', activation = 'relu', input_shape = (28,28,1)))\n",
    "model.add(MaxPool2D(2))\n",
    "model.add(BatchNormalization())\n",
    "\n",
    "model.add(Conv2D(64, 3, padding = 'same', kernel_initializer = 'he_normal', activation = 'relu'))\n",
    "model.add(MaxPool2D(2))\n",
    "model.add(BatchNormalization())\n",
    "\n",
    "model.add(Conv2D(128, 3, padding = 'same', kernel_initializer = 'he_normal', activation = 'relu'))\n",
    "model.add(MaxPool2D(2))\n",
    "model.add(BatchNormalization())\n",
    "\n",
    "model.add(Flatten())\n",
    "model.add(Dropout(0.3))\n",
    "\n",
    "model.add(Dense(128, kernel_initializer = 'he_normal', activation = 'relu'))\n",
    "model.add(Dropout(0.2))\n",
    "model.add(Dense(10, activation = 'softmax'))\n",
    "\n",
    "model.summary()\n",
    "model.compile(optimizer = Adam(learning_rate = 3e-4), loss = 'sparse_categorical_crossentropy' , metrics = ['accuracy'])"
   ]
  },
  {
   "cell_type": "markdown",
   "metadata": {},
   "source": [
    "### Train the model\n",
    "#### We are adding an on_epoch_end callback, so that when we reach a high enough accuracy on the validation set, we stop training"
   ]
  },
  {
   "cell_type": "code",
   "execution_count": 9,
   "metadata": {
    "execution": {
     "iopub.execute_input": "2022-08-01T19:10:54.257459Z",
     "iopub.status.busy": "2022-08-01T19:10:54.256585Z",
     "iopub.status.idle": "2022-08-01T19:10:54.263373Z",
     "shell.execute_reply": "2022-08-01T19:10:54.262423Z",
     "shell.execute_reply.started": "2022-08-01T19:10:54.257416Z"
    }
   },
   "outputs": [],
   "source": [
    "class CustomCallbacks(tf.keras.callbacks.Callback):\n",
    "    def on_epoch_end(self, epoch, logs = None):\n",
    "        acc = logs['accuracy']\n",
    "        val_acc = logs['val_accuracy']\n",
    "        if acc >= 0.999 and val_acc >= 0.99995:\n",
    "            self.model.stop_training = True"
   ]
  },
  {
   "cell_type": "markdown",
   "metadata": {},
   "source": [
    "#### We train the model for 200 epochs with batch size 3200, which is the highest divisor of the number of samples that fits into memory"
   ]
  },
  {
   "cell_type": "code",
   "execution_count": 10,
   "metadata": {
    "execution": {
     "iopub.execute_input": "2022-08-01T19:10:55.468546Z",
     "iopub.status.busy": "2022-08-01T19:10:55.467535Z",
     "iopub.status.idle": "2022-08-01T19:13:07.598633Z",
     "shell.execute_reply": "2022-08-01T19:13:07.597186Z",
     "shell.execute_reply.started": "2022-08-01T19:10:55.468489Z"
    }
   },
   "outputs": [
    {
     "name": "stdout",
     "output_type": "stream",
     "text": [
      "Epoch 1/200\n",
      "56/56 [==============================] - 38s 661ms/step - loss: 0.8246 - accuracy: 0.7423 - val_loss: 0.6740 - val_accuracy: 0.8252\n",
      "Epoch 2/200\n",
      "56/56 [==============================] - 37s 663ms/step - loss: 0.1896 - accuracy: 0.9407 - val_loss: 0.3293 - val_accuracy: 0.9191\n",
      "Epoch 3/200\n",
      "56/56 [==============================] - 37s 663ms/step - loss: 0.1268 - accuracy: 0.9608 - val_loss: 0.2198 - val_accuracy: 0.9400\n",
      "Epoch 4/200\n",
      "56/56 [==============================] - 38s 677ms/step - loss: 0.0937 - accuracy: 0.9708 - val_loss: 0.1554 - val_accuracy: 0.9540\n",
      "Epoch 5/200\n",
      "56/56 [==============================] - 37s 663ms/step - loss: 0.0775 - accuracy: 0.9759 - val_loss: 0.1072 - val_accuracy: 0.9673\n",
      "Epoch 6/200\n",
      "56/56 [==============================] - 38s 677ms/step - loss: 0.0665 - accuracy: 0.9791 - val_loss: 0.0738 - val_accuracy: 0.9775\n",
      "Epoch 7/200\n",
      "56/56 [==============================] - 38s 678ms/step - loss: 0.0556 - accuracy: 0.9828 - val_loss: 0.0497 - val_accuracy: 0.9850\n",
      "Epoch 8/200\n",
      "56/56 [==============================] - 38s 671ms/step - loss: 0.0504 - accuracy: 0.9839 - val_loss: 0.0391 - val_accuracy: 0.9883\n",
      "Epoch 9/200\n",
      "56/56 [==============================] - 37s 665ms/step - loss: 0.0439 - accuracy: 0.9864 - val_loss: 0.0287 - val_accuracy: 0.9915\n",
      "Epoch 10/200\n",
      "56/56 [==============================] - 39s 688ms/step - loss: 0.0406 - accuracy: 0.9874 - val_loss: 0.0242 - val_accuracy: 0.9929\n",
      "Epoch 11/200\n",
      "56/56 [==============================] - 39s 690ms/step - loss: 0.0353 - accuracy: 0.9885 - val_loss: 0.0205 - val_accuracy: 0.9938\n",
      "Epoch 12/200\n",
      "56/56 [==============================] - 38s 684ms/step - loss: 0.0318 - accuracy: 0.9899 - val_loss: 0.0163 - val_accuracy: 0.9955\n",
      "Epoch 13/200\n",
      "56/56 [==============================] - 38s 684ms/step - loss: 0.0293 - accuracy: 0.9904 - val_loss: 0.0153 - val_accuracy: 0.9957\n",
      "Epoch 14/200\n",
      "56/56 [==============================] - 37s 661ms/step - loss: 0.0278 - accuracy: 0.9909 - val_loss: 0.0128 - val_accuracy: 0.9963\n",
      "Epoch 15/200\n",
      "56/56 [==============================] - 37s 666ms/step - loss: 0.0247 - accuracy: 0.9922 - val_loss: 0.0111 - val_accuracy: 0.9967\n",
      "Epoch 16/200\n",
      "56/56 [==============================] - 37s 665ms/step - loss: 0.0223 - accuracy: 0.9926 - val_loss: 0.0104 - val_accuracy: 0.9968\n",
      "Epoch 17/200\n",
      "56/56 [==============================] - 37s 669ms/step - loss: 0.0207 - accuracy: 0.9932 - val_loss: 0.0090 - val_accuracy: 0.9978\n",
      "Epoch 18/200\n",
      "56/56 [==============================] - 39s 691ms/step - loss: 0.0193 - accuracy: 0.9936 - val_loss: 0.0082 - val_accuracy: 0.9980\n",
      "Epoch 19/200\n",
      "56/56 [==============================] - 38s 685ms/step - loss: 0.0175 - accuracy: 0.9942 - val_loss: 0.0069 - val_accuracy: 0.9983\n",
      "Epoch 20/200\n",
      "56/56 [==============================] - 37s 662ms/step - loss: 0.0164 - accuracy: 0.9945 - val_loss: 0.0063 - val_accuracy: 0.9984\n",
      "Epoch 21/200\n",
      "56/56 [==============================] - 37s 668ms/step - loss: 0.0143 - accuracy: 0.9956 - val_loss: 0.0056 - val_accuracy: 0.9988\n",
      "Epoch 22/200\n",
      "56/56 [==============================] - 37s 658ms/step - loss: 0.0134 - accuracy: 0.9957 - val_loss: 0.0051 - val_accuracy: 0.9989\n",
      "Epoch 23/200\n",
      "56/56 [==============================] - 36s 644ms/step - loss: 0.0136 - accuracy: 0.9956 - val_loss: 0.0045 - val_accuracy: 0.9990\n",
      "Epoch 24/200\n",
      "56/56 [==============================] - 36s 646ms/step - loss: 0.0125 - accuracy: 0.9961 - val_loss: 0.0040 - val_accuracy: 0.9992\n",
      "Epoch 25/200\n",
      "56/56 [==============================] - 36s 651ms/step - loss: 0.0108 - accuracy: 0.9966 - val_loss: 0.0034 - val_accuracy: 0.9995\n",
      "Epoch 26/200\n",
      "56/56 [==============================] - 36s 649ms/step - loss: 0.0101 - accuracy: 0.9969 - val_loss: 0.0030 - val_accuracy: 0.9995\n",
      "Epoch 27/200\n",
      "56/56 [==============================] - 36s 648ms/step - loss: 0.0095 - accuracy: 0.9970 - val_loss: 0.0027 - val_accuracy: 0.9995\n",
      "Epoch 28/200\n",
      "56/56 [==============================] - 36s 649ms/step - loss: 0.0089 - accuracy: 0.9971 - val_loss: 0.0024 - val_accuracy: 0.9996\n",
      "Epoch 29/200\n",
      "56/56 [==============================] - 37s 653ms/step - loss: 0.0083 - accuracy: 0.9975 - val_loss: 0.0021 - val_accuracy: 0.9997\n",
      "Epoch 30/200\n",
      "56/56 [==============================] - 37s 654ms/step - loss: 0.0086 - accuracy: 0.9972 - val_loss: 0.0022 - val_accuracy: 0.9996\n",
      "Epoch 31/200\n",
      "56/56 [==============================] - 36s 646ms/step - loss: 0.0079 - accuracy: 0.9977 - val_loss: 0.0020 - val_accuracy: 0.9996\n",
      "Epoch 32/200\n",
      "56/56 [==============================] - 36s 646ms/step - loss: 0.0073 - accuracy: 0.9977 - val_loss: 0.0016 - val_accuracy: 0.9999\n",
      "Epoch 33/200\n",
      "56/56 [==============================] - 36s 645ms/step - loss: 0.0067 - accuracy: 0.9980 - val_loss: 0.0014 - val_accuracy: 0.9999\n",
      "Epoch 34/200\n",
      "56/56 [==============================] - 36s 643ms/step - loss: 0.0062 - accuracy: 0.9981 - val_loss: 0.0012 - val_accuracy: 0.9999\n",
      "Epoch 35/200\n",
      "56/56 [==============================] - 36s 645ms/step - loss: 0.0060 - accuracy: 0.9983 - val_loss: 0.0013 - val_accuracy: 0.9999\n",
      "Epoch 36/200\n",
      "56/56 [==============================] - 36s 643ms/step - loss: 0.0057 - accuracy: 0.9984 - val_loss: 0.0011 - val_accuracy: 1.0000\n",
      "Epoch 37/200\n",
      "56/56 [==============================] - 36s 646ms/step - loss: 0.0059 - accuracy: 0.9981 - val_loss: 0.0011 - val_accuracy: 0.9999\n",
      "Epoch 38/200\n",
      "56/56 [==============================] - 36s 646ms/step - loss: 0.0052 - accuracy: 0.9984 - val_loss: 7.9970e-04 - val_accuracy: 1.0000\n",
      "Epoch 39/200\n",
      "56/56 [==============================] - 36s 646ms/step - loss: 0.0054 - accuracy: 0.9983 - val_loss: 0.0012 - val_accuracy: 0.9998\n",
      "Epoch 40/200\n",
      "56/56 [==============================] - 36s 648ms/step - loss: 0.0048 - accuracy: 0.9985 - val_loss: 7.9225e-04 - val_accuracy: 0.9999\n",
      "Epoch 41/200\n",
      "56/56 [==============================] - 37s 653ms/step - loss: 0.0041 - accuracy: 0.9987 - val_loss: 6.6169e-04 - val_accuracy: 1.0000\n",
      "Epoch 42/200\n",
      "56/56 [==============================] - 37s 660ms/step - loss: 0.0043 - accuracy: 0.9987 - val_loss: 5.9169e-04 - val_accuracy: 1.0000\n",
      "Epoch 43/200\n",
      "56/56 [==============================] - 36s 646ms/step - loss: 0.0042 - accuracy: 0.9988 - val_loss: 5.3811e-04 - val_accuracy: 1.0000\n",
      "Epoch 44/200\n",
      "56/56 [==============================] - 36s 648ms/step - loss: 0.0039 - accuracy: 0.9989 - val_loss: 5.6818e-04 - val_accuracy: 0.9999\n",
      "Epoch 45/200\n",
      "56/56 [==============================] - 36s 646ms/step - loss: 0.0037 - accuracy: 0.9988 - val_loss: 3.2723e-04 - val_accuracy: 1.0000\n",
      "Epoch 46/200\n",
      "56/56 [==============================] - 36s 647ms/step - loss: 0.0039 - accuracy: 0.9988 - val_loss: 5.2077e-04 - val_accuracy: 0.9999\n",
      "Epoch 47/200\n",
      "56/56 [==============================] - 36s 646ms/step - loss: 0.0036 - accuracy: 0.9988 - val_loss: 3.2163e-04 - val_accuracy: 1.0000\n",
      "Epoch 48/200\n",
      "56/56 [==============================] - 36s 647ms/step - loss: 0.0034 - accuracy: 0.9990 - val_loss: 2.6622e-04 - val_accuracy: 1.0000\n",
      "Epoch 49/200\n",
      "56/56 [==============================] - 36s 646ms/step - loss: 0.0028 - accuracy: 0.9992 - val_loss: 3.3540e-04 - val_accuracy: 0.9999\n",
      "Epoch 50/200\n",
      "56/56 [==============================] - 36s 646ms/step - loss: 0.0030 - accuracy: 0.9991 - val_loss: 2.8774e-04 - val_accuracy: 1.0000\n"
     ]
    },
    {
     "data": {
      "image/png": "[encoded data removed]",
      "text/plain": [
       "<Figure size 432x288 with 1 Axes>"
      ]
     },
     "metadata": {
      "needs_background": "light"
     },
     "output_type": "display_data"
    },
    {
     "data": {
      "image/png": "[encoded data removed]",
      "text/plain": [
       "<Figure size 432x288 with 1 Axes>"
      ]
     },
     "metadata": {
      "needs_background": "light"
     },
     "output_type": "display_data"
    }
   ],
   "source": [
    "history = model.fit(gen.flow(X, y = Y, subset = 'training', batch_size = 1600), validation_data=gen.flow(X, y = Y, subset = 'validation', batch_size = 1600),\n",
    "                    epochs = 200, verbose = 1, callbacks = [CustomCallbacks()])\n",
    "Charts(history)"
   ]
  },
  {
   "cell_type": "markdown",
   "metadata": {},
   "source": [
    "### We make the final submission"
   ]
  },
  {
   "cell_type": "code",
   "execution_count": 11,
   "metadata": {
    "execution": {
     "iopub.status.busy": "2022-08-01T19:07:52.304437Z",
     "iopub.status.idle": "2022-08-01T19:07:52.305339Z",
     "shell.execute_reply": "2022-08-01T19:07:52.305036Z",
     "shell.execute_reply.started": "2022-08-01T19:07:52.304997Z"
    }
   },
   "outputs": [
    {
     "name": "stdout",
     "output_type": "stream",
     "text": [
      "875/875 [==============================] - 4s 5ms/step\n",
      "(28000, 10)\n",
      "(28000,)\n"
     ]
    }
   ],
   "source": [
    "pred = model.predict(test)\n",
    "print(pred.shape)\n",
    "pred = tf.math.argmax(pred, axis = -1)\n",
    "print(pred.shape)\n",
    "pred = pd.Series(pred, name='Label')\n",
    "pred.head()\n",
    "\n",
    "image_id = pd.Series(range(1,28001),name='ImageId')\n",
    "image_id.isnull().sum()\n",
    "image_id.shape\n",
    "\n",
    "pred = pd.concat([image_id,pred],axis=1)\n",
    "pred.head()\n",
    "pred.to_csv('submission.csv',index=False)"
   ]
  },
  {
   "cell_type": "code",
   "execution_count": null,
   "metadata": {},
   "outputs": [],
   "source": []
  }
 ],
 "metadata": {
  "kernelspec": {
   "display_name": "Python 3 (ipykernel)",
   "language": "python",
   "name": "python3"
  },
  "language_info": {
   "codemirror_mode": {
    "name": "ipython",
    "version": 3
   },
   "file_extension": ".py",
   "mimetype": "text/x-python",
   "name": "python",
   "nbconvert_exporter": "python",
   "pygments_lexer": "ipython3",
   "version": "3.10.5"
  }
 },
 "nbformat": 4,
 "nbformat_minor": 4
}
