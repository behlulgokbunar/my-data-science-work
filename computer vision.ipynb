{
 "cells": [
  {
   "cell_type": "code",
   "execution_count": 2,
   "id": "6c5b7dfa",
   "metadata": {},
   "outputs": [
    {
     "name": "stdout",
     "output_type": "stream",
     "text": [
      "Defaulting to user installation because normal site-packages is not writeable\n",
      "Requirement already satisfied: opencv-python in c:\\users\\behlul\\appdata\\roaming\\python\\python39\\site-packages (4.6.0.66)\n",
      "Requirement already satisfied: numpy>=1.17.3 in c:\\programdata\\anaconda3\\lib\\site-packages (from opencv-python) (1.21.5)\n"
     ]
    }
   ],
   "source": [
    "!pip install opencv-python"
   ]
  },
  {
   "cell_type": "code",
   "execution_count": null,
   "id": "4b0a9ac7",
   "metadata": {},
   "outputs": [],
   "source": []
  },
  {
   "cell_type": "code",
   "execution_count": null,
   "id": "28d65a13",
   "metadata": {},
   "outputs": [],
   "source": []
  },
  {
   "cell_type": "code",
   "execution_count": 3,
   "id": "2b4d5968",
   "metadata": {},
   "outputs": [],
   "source": [
    "import cv2\n",
    "import numpy as np\n",
    "\n",
    "input=cv2.imread('input.jpg')\n",
    "cv2.imshow('hello world',input)\n",
    "cv2.waitKey()\n",
    "cv2.destroyAllWindows()"
   ]
  },
  {
   "cell_type": "code",
   "execution_count": 4,
   "id": "47ec7a4c",
   "metadata": {},
   "outputs": [],
   "source": [
    "import numpy as np"
   ]
  },
  {
   "cell_type": "code",
   "execution_count": 5,
   "id": "e5249451",
   "metadata": {},
   "outputs": [
    {
     "name": "stdout",
     "output_type": "stream",
     "text": [
      "(830, 1245, 3)\n"
     ]
    }
   ],
   "source": [
    "input.shape \n",
    "print(input.shape)"
   ]
  },
  {
   "cell_type": "code",
   "execution_count": 6,
   "id": "c3ca01a0",
   "metadata": {},
   "outputs": [
    {
     "name": "stdout",
     "output_type": "stream",
     "text": [
      "heiht of image 830 pixels\n",
      "width of image 1245 pixels\n"
     ]
    }
   ],
   "source": [
    "print('heiht of image',int(input.shape[0]),'pixels')\n",
    "print('width of image',int(input.shape[1]),'pixels')"
   ]
  },
  {
   "cell_type": "code",
   "execution_count": 7,
   "id": "123229ed",
   "metadata": {},
   "outputs": [
    {
     "name": "stdout",
     "output_type": "stream",
     "text": [
      "[[0. 1. 0. 1. 0. 1. 0. 1. 0.]\n",
      " [1. 0. 1. 0. 1. 0. 1. 0. 1.]\n",
      " [0. 1. 0. 1. 0. 1. 0. 1. 0.]\n",
      " [1. 0. 1. 0. 1. 0. 1. 0. 1.]\n",
      " [0. 1. 0. 1. 0. 1. 0. 1. 0.]\n",
      " [1. 0. 1. 0. 1. 0. 1. 0. 1.]\n",
      " [0. 1. 0. 1. 0. 1. 0. 1. 0.]\n",
      " [1. 0. 1. 0. 1. 0. 1. 0. 1.]\n",
      " [0. 1. 0. 1. 0. 1. 0. 1. 0.]]\n"
     ]
    }
   ],
   "source": [
    "%matplotlib inline\n",
    "%load_ext autoreload\n",
    "%autoreload\n",
    "import numpy as np\n",
    "\n",
    "checkBoard=np.zeros((9,9))\n",
    "checkBoard[0::2,1::2]=1\n",
    "checkBoard[1::2,0::2]=1\n",
    "\n",
    "print(checkBoard)"
   ]
  },
  {
   "cell_type": "code",
   "execution_count": 8,
   "id": "342a60b0",
   "metadata": {},
   "outputs": [
    {
     "data": {
      "image/png": "[encoded data removed]",
      "text/plain": [
       "<Figure size 432x288 with 1 Axes>"
      ]
     },
     "metadata": {
      "needs_background": "light"
     },
     "output_type": "display_data"
    }
   ],
   "source": [
    "import matplotlib.pyplot as plt\n",
    "import matplotlib.image as mpimg\n",
    "plt.imshow(checkBoard,cmap='gray',interpolation='nearest')\n",
    "plt.show()"
   ]
  },
  {
   "cell_type": "code",
   "execution_count": 9,
   "id": "1a9dbd06",
   "metadata": {},
   "outputs": [
    {
     "name": "stdout",
     "output_type": "stream",
     "text": [
      "[[0.28888887 0.32941177 0.38039216 0.50326794 0.47973856 0.50457519\n",
      "  0.55947715 0.54901963 0.56732029 0.57516342 0.59738559 0.61307186\n",
      "  0.59607846 0.56078434 0.54248363 0.49281046 0.45359477 0.44183007\n",
      "  0.2522876  0.23529412 0.4261438  0.49673203 0.72418302 0.69934636\n",
      "  0.43529412]\n",
      " [0.29411766 0.33333334 0.44052288 0.52026147 0.49934641 0.53464049\n",
      "  0.55424833 0.59869283 0.6156863  0.61960787 0.620915   0.63660127\n",
      "  0.62875813 0.6326797  0.59215689 0.52418303 0.47581699 0.44705883\n",
      "  0.34640524 0.32287583 0.33202612 0.59738559 0.81830066 0.77777773\n",
      "  0.27843139]\n",
      " [0.35294119 0.41568628 0.42745098 0.48104575 0.50457519 0.52287579\n",
      "  0.53594774 0.63529414 0.65359479 0.620915   0.61830068 0.64444441\n",
      "  0.61830068 0.61830068 0.60000002 0.53856206 0.46405229 0.43137255\n",
      "  0.37254903 0.37908494 0.29411766 0.50065356 0.60915029 0.53856206\n",
      "  0.36732024]\n",
      " [0.41176471 0.43006536 0.49542484 0.48627451 0.50980395 0.52679735\n",
      "  0.53071892 0.60915029 0.57516342 0.59869283 0.63006538 0.64705884\n",
      "  0.63921571 0.63398695 0.59738559 0.54248363 0.46013072 0.41699347\n",
      "  0.39607844 0.30718955 0.26274511 0.48627451 0.26143789 0.1856209\n",
      "  0.19477125]\n",
      " [0.43137255 0.49673203 0.47712418 0.46797386 0.48627451 0.53071892\n",
      "  0.5411765  0.60130715 0.63660127 0.61830068 0.59869283 0.61437911\n",
      "  0.63006538 0.61699343 0.5581699  0.5281046  0.47973856 0.45228758\n",
      "  0.4130719  0.3594771  0.23921569 0.36993465 0.1856209  0.16732027\n",
      "  0.19084968]\n",
      " [0.48104575 0.47320262 0.39869279 0.43921569 0.47973856 0.54248363\n",
      "  0.55032676 0.58954245 0.62614381 0.61960787 0.61960787 0.62222224\n",
      "  0.63137257 0.620915   0.57908499 0.54771245 0.49542484 0.43137255\n",
      "  0.44052288 0.27712417 0.22222222 0.41437906 0.1751634  0.1751634\n",
      "  0.19084968]\n",
      " [0.42483661 0.42222223 0.35816994 0.46797386 0.50326794 0.51503265\n",
      "  0.43529412 0.49019608 0.53725493 0.49803922 0.47189543 0.55947715\n",
      "  0.56209147 0.55424833 0.42091504 0.36862746 0.28627452 0.29934642\n",
      "  0.34640524 0.28627452 0.32549021 0.31895426 0.18431373 0.18431373\n",
      "  0.20261438]\n",
      " [0.36862746 0.31764707 0.4627451  0.49803922 0.48235294 0.4379085\n",
      "  0.43921569 0.38039216 0.3019608  0.31111112 0.40915033 0.44836602\n",
      "  0.49542484 0.47189543 0.33725491 0.28104573 0.41437906 0.41437906\n",
      "  0.35032681 0.43267974 0.37385622 0.31764707 0.17908497 0.19869281\n",
      "  0.19869281]\n",
      " [0.20784314 0.29411766 0.50718951 0.48104575 0.47450981 0.45228758\n",
      "  0.47189543 0.42745098 0.28235295 0.27189544 0.28888887 0.45751634\n",
      "  0.61045754 0.34509805 0.25098041 0.17908497 0.16078432 0.2\n",
      "  0.43006536 0.47712418 0.29934642 0.59346402 0.41568628 0.31503269\n",
      "  0.1738562 ]\n",
      " [0.26274511 0.27973858 0.46928105 0.50718951 0.56601304 0.49803922\n",
      "  0.4509804  0.55163401 0.31111112 0.52287579 0.52549022 0.52026147\n",
      "  0.59346402 0.42091504 0.43921569 0.50065356 0.46535948 0.5281046\n",
      "  0.47320262 0.45228758 0.21699347 0.81045753 0.74640518 0.35424837\n",
      "  0.15294118]\n",
      " [0.30326799 0.4130719  0.45882353 0.50588238 0.58562088 0.57124186\n",
      "  0.57516342 0.59607846 0.53986931 0.5411765  0.58300656 0.48366013\n",
      "  0.55555558 0.44444445 0.47320262 0.52026147 0.52026147 0.49019608\n",
      "  0.53856206 0.47058824 0.41045749 0.80130714 0.71241832 0.33464053\n",
      "  0.1633987 ]\n",
      " [0.42091504 0.40522876 0.43529412 0.49150327 0.55555558 0.60130715\n",
      "  0.61045754 0.63006538 0.61176473 0.65620911 0.5281046  0.53333336\n",
      "  0.56601304 0.48496732 0.46143791 0.5281046  0.56601304 0.55555558\n",
      "  0.48235294 0.43921569 0.47581699 0.50326794 0.35555553 0.28888887\n",
      "  0.20130718]\n",
      " [0.53725493 0.43137255 0.4627451  0.47843137 0.50065356 0.57124186\n",
      "  0.64444441 0.627451   0.64836597 0.64052284 0.50457519 0.5411765\n",
      "  0.63660127 0.55555558 0.44967321 0.48496732 0.61437911 0.55686277\n",
      "  0.44183007 0.42091504 0.42483661 0.19738561 0.21568628 0.22875817\n",
      "  0.22875817]\n",
      " [0.42483661 0.44313726 0.44444445 0.45620915 0.49019608 0.50588238\n",
      "  0.57908499 0.60130715 0.6026144  0.53071892 0.54509807 0.55163401\n",
      "  0.56078434 0.61176473 0.43398693 0.41437906 0.48235294 0.49803922\n",
      "  0.42091504 0.41045749 0.38954249 0.19084968 0.21960784 0.22614379\n",
      "  0.23529412]\n",
      " [0.46797386 0.43529412 0.45228758 0.46797386 0.50457519 0.4875817\n",
      "  0.52026147 0.53594774 0.50196081 0.47320262 0.39477122 0.29803923\n",
      "  0.49411765 0.49281046 0.26797387 0.40784314 0.38039216 0.44705883\n",
      "  0.38954249 0.39869279 0.20261438 0.18300654 0.20915033 0.22875817\n",
      "  0.23529412]\n",
      " [0.4261438  0.39607844 0.44575164 0.46143791 0.51241833 0.47450981\n",
      "  0.49019608 0.49673203 0.4509804  0.5581699  0.58039218 0.54901963\n",
      "  0.40653592 0.40261436 0.41960785 0.4261438  0.35686275 0.3764706\n",
      "  0.37516338 0.4130719  0.1751634  0.17777777 0.2130719  0.21699347\n",
      "  0.23137255]\n",
      " [0.37124181 0.37516338 0.41437906 0.44705883 0.49673203 0.49019608\n",
      "  0.50326794 0.51503265 0.50718951 0.50980395 0.58562088 0.60392159\n",
      "  0.55032676 0.55163401 0.47320262 0.41045749 0.37254903 0.4013072\n",
      "  0.4130719  0.36732024 0.4130719  0.30718955 0.18692811 0.30849671\n",
      "  0.22614379]\n",
      " [0.13986929 0.08888888 0.38562092 0.44183007 0.46535948 0.52287579\n",
      "  0.53594774 0.50588238 0.48104575 0.46928105 0.49019608 0.54771245\n",
      "  0.53725493 0.54901963 0.46666667 0.39084965 0.3764706  0.4261438\n",
      "  0.37908494 0.20392157 0.08627451 0.09019608 0.1124183  0.0627451\n",
      "  0.22745098]\n",
      " [0.10980392 0.09934641 0.32810456 0.41960785 0.4627451  0.50065356\n",
      "  0.5464052  0.50326794 0.48104575 0.36601308 0.16470589 0.09019608\n",
      "  0.11503268 0.10980392 0.06535947 0.2496732  0.41960785 0.43398693\n",
      "  0.37908494 0.08627451 0.09281045 0.06797386 0.075817   0.03660131\n",
      "  0.06797386]\n",
      " [0.09673202 0.44313726 0.49934641 0.40000001 0.46535948 0.47581699\n",
      "  0.51111108 0.53333336 0.4875817  0.15163399 0.13202615 0.16732027\n",
      "  0.21437909 0.21176471 0.16601306 0.32287583 0.39477122 0.43529412\n",
      "  0.37777779 0.09019608 0.07843138 0.0875817  0.06797386 0.04836601\n",
      "  0.075817  ]\n",
      " [0.10588235 0.44967321 0.67843139 0.35686275 0.41437906 0.42745098\n",
      "  0.49542484 0.49542484 0.52026147 0.56862748 0.56862748 0.44967321\n",
      "  0.44183007 0.52418303 0.43137255 0.40784314 0.49934641 0.40522876\n",
      "  0.15163399 0.10196079 0.07189543 0.06797386 0.07189543 0.06013072\n",
      "  0.07189543]\n",
      " [0.10326798 0.26013073 0.84444445 0.37385622 0.37124181 0.41176471\n",
      "  0.46797386 0.5411765  0.54509807 0.51895422 0.5281046  0.55163401\n",
      "  0.53986931 0.55163401 0.41176471 0.41437906 0.47712418 0.35816994\n",
      "  0.07712418 0.0875817  0.07843138 0.06013072 0.07189543 0.07189543\n",
      "  0.06797386]\n",
      " [0.10980392 0.10588235 0.80653596 0.77516341 0.36732024 0.39346406\n",
      "  0.42222223 0.53202617 0.57908499 0.52156866 0.47973856 0.44444445\n",
      "  0.39477122 0.38954249 0.35816994 0.42745098 0.43137255 0.14509805\n",
      "  0.08366013 0.08627451 0.075817   0.06013072 0.05620915 0.07189543\n",
      "  0.075817  ]\n",
      " [0.10588235 0.11372549 0.81307185 0.80000001 0.7647059  0.38039216\n",
      "  0.39215687 0.46405229 0.58300656 0.56732029 0.53986931 0.50849676\n",
      "  0.49673203 0.46143791 0.42745098 0.48235294 0.30980393 0.0875817\n",
      "  0.07320261 0.08366013 0.0875817  0.06405229 0.04444444 0.06013072\n",
      "  0.07189543]\n",
      " [0.09150327 0.0875817  0.66405225 0.84052289 0.8143791  0.82222223\n",
      "  0.37777779 0.36862746 0.52679735 0.60130715 0.59477127 0.57385617\n",
      "  0.55686277 0.54248363 0.51764709 0.45620915 0.16732027 0.08235294\n",
      "  0.07058824 0.06797386 0.07450981 0.06013072 0.05620915 0.06405229\n",
      "  0.06797386]]\n"
     ]
    }
   ],
   "source": [
    "from skimage import data\n",
    "image_of_a_bush=data.lfw_subset()\n",
    "image_of_a_bush=image_of_a_bush[0,:,:]\n",
    "print(image_of_a_bush)"
   ]
  },
  {
   "cell_type": "code",
   "execution_count": 10,
   "id": "fb5334c7",
   "metadata": {},
   "outputs": [
    {
     "data": {
      "image/png": "[encoded data removed]",
      "text/plain": [
       "<Figure size 72x72 with 1 Axes>"
      ]
     },
     "metadata": {
      "needs_background": "light"
     },
     "output_type": "display_data"
    }
   ],
   "source": [
    "plt.figure(figsize=(1,1))\n",
    "plt.imshow(image_of_a_bush,cmap='gray',interpolation='nearest')\n",
    "plt.show()"
   ]
  },
  {
   "cell_type": "code",
   "execution_count": 11,
   "id": "063bddbc",
   "metadata": {},
   "outputs": [],
   "source": [
    "import cv2\n",
    "image=cv2.imread('input.jpg')\n",
    "cv2.imshow('Orginal',image)\n",
    "cv2.waitKey()\n",
    "\n",
    "gray_image=cv2.cvtColor(image,cv2.COLOR_BGR2GRAY)\n",
    "\n",
    "cv2.imshow('Grayscale',gray_image)\n",
    "cv2.waitKey()\n",
    "cv2.destroyAllWindows()"
   ]
  },
  {
   "cell_type": "code",
   "execution_count": null,
   "id": "b43f0760",
   "metadata": {},
   "outputs": [],
   "source": []
  },
  {
   "cell_type": "code",
   "execution_count": 12,
   "id": "e87893f8",
   "metadata": {},
   "outputs": [],
   "source": [
    "img=cv2.imread('input.jpg',0)\n",
    "cv2.imshow('Grayscale',img)\n",
    "cv2.waitKey()\n",
    "cv2.destroyAllWindows()"
   ]
  },
  {
   "cell_type": "code",
   "execution_count": 13,
   "id": "0588d716",
   "metadata": {},
   "outputs": [
    {
     "name": "stdout",
     "output_type": "stream",
     "text": [
      "13 19 32\n",
      "(830, 1245, 3)\n"
     ]
    }
   ],
   "source": [
    "import cv2\n",
    "import numpy as np\n",
    "\n",
    "image=cv2.imread('input.jpg')\n",
    "\n",
    "B,G,R=image[0,0]\n",
    "B,G,R=image[10,50]\n",
    "\n",
    "print(B,G,R)\n",
    "print(image.shape)"
   ]
  },
  {
   "cell_type": "code",
   "execution_count": 14,
   "id": "c348dfb8",
   "metadata": {},
   "outputs": [
    {
     "name": "stdout",
     "output_type": "stream",
     "text": [
      "(830, 1245)\n",
      "22\n"
     ]
    }
   ],
   "source": [
    "gray_img=cv2.cvtColor(image,cv2.COLOR_BGR2GRAY)\n",
    "print(gray_img.shape)\n",
    "print(gray_img[10,50])"
   ]
  },
  {
   "cell_type": "code",
   "execution_count": 15,
   "id": "ffdaabc1",
   "metadata": {},
   "outputs": [
    {
     "data": {
      "text/plain": [
       "21"
      ]
     },
     "execution_count": 15,
     "metadata": {},
     "output_type": "execute_result"
    }
   ],
   "source": [
    "gray_img[0,0]"
   ]
  },
  {
   "cell_type": "code",
   "execution_count": 16,
   "id": "c6a24d49",
   "metadata": {},
   "outputs": [],
   "source": [
    "image=cv2.imread('input.jpg')\n",
    "hsv_image=cv2.cvtColor(image,cv2.COLOR_BGR2HSV)\n",
    "\n",
    "cv2.imshow('HSV image',hsv_image)\n",
    "cv2.imshow('HUE channel',hsv_image[:,:,0])\n",
    "cv2.imshow('Saturation channel',hsv_image[:,:,1])\n",
    "cv2.imshow('Calue channel',hsv_image[:,:,2])\n",
    "\n",
    "cv2.waitKey()\n",
    "cv2.destroyAllWindows()"
   ]
  },
  {
   "cell_type": "code",
   "execution_count": 17,
   "id": "23ed6bc3",
   "metadata": {},
   "outputs": [
    {
     "name": "stdout",
     "output_type": "stream",
     "text": [
      "(830, 1245)\n"
     ]
    }
   ],
   "source": [
    "image=cv2.imread('input.jpg')\n",
    "\n",
    "B,G,R=cv2.split(image)\n",
    "print(B.shape)\n",
    "cv2.imshow('Red',R)\n",
    "cv2.imshow('Green',G)\n",
    "cv2.imshow('Blue',B)\n",
    "\n",
    "cv2.waitKey(0)\n",
    "cv2.destroyAllWindows()\n",
    "\n",
    "merged=cv2.merge([B,G,R])\n",
    "cv2.imshow('Merged',merged)\n",
    "\n",
    "merged=cv2.merge([B+100,G,R+100])\n",
    "cv2.imshow('Merged with blue amplified',merged)\n",
    "\n",
    "cv2.waitKey(0)\n",
    "cv2.destroyAllWindows()"
   ]
  },
  {
   "cell_type": "code",
   "execution_count": 18,
   "id": "7e20ae39",
   "metadata": {},
   "outputs": [],
   "source": [
    "import cv2\n",
    "import numpy as np\n",
    "\n",
    "image=cv2.imread('input.jpg')\n",
    "\n",
    "height,width=image.shape[:2]\n",
    "\n",
    "quareter_height,quareter_width=height/4,width/4\n",
    "\n",
    "T=np.float32([[1,0,quareter_width],[0,1,quareter_height]])\n",
    "\n",
    "img_translation=cv2.warpAffine(image,T,(width,height))\n",
    "cv2.imshow('Translation',img_translation)\n",
    "cv2.waitKey()\n",
    "cv2.destroyAllWindows()"
   ]
  },
  {
   "cell_type": "code",
   "execution_count": 19,
   "id": "5b890981",
   "metadata": {},
   "outputs": [
    {
     "name": "stdout",
     "output_type": "stream",
     "text": [
      "[[  1.     0.   311.25]\n",
      " [  0.     1.   207.5 ]]\n"
     ]
    }
   ],
   "source": [
    "print(T)"
   ]
  },
  {
   "cell_type": "code",
   "execution_count": 20,
   "id": "1291e7be",
   "metadata": {},
   "outputs": [],
   "source": [
    "import cv2\n",
    "import numpy as np\n",
    "\n",
    "image=cv2.imread('input.jpg')\n",
    "\n",
    "height,width=image.shape[:2]\n",
    "\n",
    "rotation_matrix=cv2.getRotationMatrix2D((width/2,height/2),45,.5)\n",
    "\n",
    "rotated_image=cv2.warpAffine(image,rotation_matrix,(width,height))\n",
    "\n",
    "cv2.imshow('Rotated Image',rotated_image)\n",
    "cv2.waitKey()\n",
    "cv2.destroyAllWindows()"
   ]
  },
  {
   "cell_type": "code",
   "execution_count": 21,
   "id": "f2c24968",
   "metadata": {},
   "outputs": [],
   "source": [
    "import cv2\n",
    "import numpy as np\n",
    "image=cv2.imread('input.jpg',0)\n",
    "\n",
    "height,width=image.shape[:2]\n",
    "\n",
    "sobel_x=cv2.Sobel(image,cv2.CV_64F,0,1,ksize=5)\n",
    "sobel_y=cv2.Sobel(image,cv2.CV_64F,1,0,ksize=5)\n",
    "\n",
    "cv2.imshow('Rotated Image',image)\n",
    "cv2.waitKey(0)\n",
    "cv2.imshow('Sobel X',sobel_x)\n",
    "cv2.waitKey(0)\n",
    "cv2.imshow('Sobel Y',sobel_y)\n",
    "cv2.waitKey(0)\n",
    "\n",
    "sobel_OR=cv2.bitwise_or(sobel_x,sobel_y)\n",
    "cv2.imshow('sobel_OR',sobel_OR)\n",
    "cv2.waitKey(0)\n",
    "\n",
    "laplacian=cv2.Laplacian(image,cv2.CV_64F)\n",
    "cv2.imshow('Laplacian',laplacian)\n",
    "cv2.waitKey(0)\n",
    "\n",
    "canny=cv2.Canny(image,50,120)\n",
    "cv2.imshow('Canny',canny)\n",
    "cv2.waitKey(0)\n",
    "\n",
    "cv2.destroyAllWindows()"
   ]
  },
  {
   "cell_type": "markdown",
   "id": "082d38b5",
   "metadata": {},
   "source": [
    "import cv2\n",
    "import numpy as np\n",
    "\n",
    "def sketch(image):\n",
    "    img_gray=cv2.cvtColor(image,cv2.COLOR_BGR2GRAY)\n",
    "    \n",
    "    img_gray_blur=cv2.GaussianBlur(img_gray,(5,5),0)\n",
    "    canny_edges=cv2.Canny(img_gray_blur,10,70)\n",
    "    ret,mask=cv2.threshold(canny_edges,70,255,cv2.THRESH_BINARY_INV)\n",
    "    return mask\n",
    "cap=cv2.VideoCapture(0)\n",
    "while True:\n",
    "    ret,frame=cap.read()\n",
    "    cv2.imshow('Our live Sketcher',sketch(frame))\n",
    "    if cv2.waitKey(1)==13:\n",
    "        break\n",
    "cap.release()\n",
    "cv2.destroyAllWindows()\n",
    "print('done')"
   ]
  },
  {
   "cell_type": "code",
   "execution_count": 22,
   "id": "de1a95d5",
   "metadata": {},
   "outputs": [],
   "source": [
    "import cv2\n",
    "import numpy as np\n",
    "\n",
    "image=cv2.imread('WaldoBeach.jpg')\n",
    "\n",
    "cv2.imshow('Where is Waldo',image)\n",
    "cv2.waitKey(0)\n",
    "gray=cv2.cvtColor(image,cv2.COLOR_BGR2GRAY)\n",
    "\n",
    "template=cv2.imread('waldo.jpg',0)\n",
    "\n",
    "result=cv2.matchTemplate(gray,template,cv2.TM_CCOEFF)\n",
    "minVal,maVal,minLoc,maxLoc=cv2.minMaxLoc(result)\n",
    "\n",
    "top_left=maxLoc\n",
    "bottom_right=(top_left[0]+50,top_left[1]+50)\n",
    "cv2.rectangle(image,top_left,bottom_right,(0,0,255),5)\n",
    "\n",
    "cv2.imshow('Where is Waldo',image)\n",
    "cv2.waitKey(0)\n",
    "cv2.destroyAllWindows()"
   ]
  },
  {
   "cell_type": "code",
   "execution_count": 23,
   "id": "26cc2521",
   "metadata": {
    "scrolled": true
   },
   "outputs": [
    {
     "name": "stdout",
     "output_type": "stream",
     "text": [
      "Defaulting to user installation because normal site-packages is not writeable\n",
      "Requirement already satisfied: imutils in c:\\users\\behlul\\appdata\\roaming\\python\\python39\\site-packages (0.5.4)\n"
     ]
    }
   ],
   "source": [
    "!pip install imutils"
   ]
  },
  {
   "cell_type": "code",
   "execution_count": 24,
   "id": "e700355f",
   "metadata": {},
   "outputs": [],
   "source": [
    "import imutils\n",
    "import cv2\n",
    "\n",
    "image=cv2.imread('input.jpg')\n",
    "cv2.imshow('Original',image)\n",
    "\n",
    "flipped=cv2.flip(image,0)\n",
    "cv2.imshow('Vertical Flip',flipped)\n",
    "\n",
    "flipped=cv2.flip(image,1)\n",
    "cv2.imshow('Horizontal Flip',flipped)\n",
    "\n",
    "flipped=cv2.flip(image,-1)\n",
    "cv2.imshow('Bot Flip',flipped)\n",
    "\n",
    "cv2.waitKey(0)\n",
    "cv2.destroyAllWindows()"
   ]
  },
  {
   "cell_type": "code",
   "execution_count": 25,
   "id": "79b2f57b",
   "metadata": {},
   "outputs": [],
   "source": [
    "import cv2\n",
    "import numpy as np\n",
    "\n",
    "cap=cv2.VideoCapture('airplanes.mp4')\n",
    "\n",
    "while True:\n",
    "    ret,frame=cap.read()\n",
    "    if ret:\n",
    "        cv2.imshow('Demo',frame)\n",
    "    else:\n",
    "        break\n",
    "    key=cv2.waitKey(10)\n",
    "    if key==ord('q'):\n",
    "        break\n",
    "cv2.destroyAllWindows()"
   ]
  },
  {
   "cell_type": "code",
   "execution_count": 26,
   "id": "bc142c81",
   "metadata": {},
   "outputs": [],
   "source": [
    "import cv2\n",
    "import numpy as np\n",
    "\n",
    "cap=cv2.VideoCapture(0)\n",
    "\n",
    "while True:\n",
    "    ret,frame=cap.read()\n",
    "    if ret:\n",
    "        cv2.imshow('Isminiz',frame)\n",
    "    else:\n",
    "        break\n",
    "    key=cv2.waitKey(10)\n",
    "    if key==ord('q'):\n",
    "        cap.release()\n",
    "        break\n",
    "cv2.destroyAllWindows()"
   ]
  },
  {
   "cell_type": "code",
   "execution_count": 27,
   "id": "46b8c03c",
   "metadata": {},
   "outputs": [],
   "source": [
    "import cv2\n",
    "import numpy as np\n",
    "\n",
    "cap=cv2.VideoCapture('cars.mp4')\n",
    "\n",
    "while True:\n",
    "    ret,frame=cap.read()\n",
    "    if ret:\n",
    "        gray=cv2.cvtColor(frame,cv2.COLOR_BGR2GRAY)\n",
    "        hsv=cv2.cvtColor(frame,cv2.COLOR_BGR2HSV)\n",
    "        cv2.imshow('Demo',frame)\n",
    "        cv2.imshow('Gray',gray)\n",
    "        cv2.imshow('HSV',hsv)\n",
    "    else:\n",
    "        cap.release()\n",
    "        break\n",
    "    key=cv2.waitKey(10)\n",
    "    if key==ord('q'):\n",
    "        cap.release()\n",
    "        break\n",
    "cv2.destroyAllWindows()"
   ]
  },
  {
   "cell_type": "code",
   "execution_count": 28,
   "id": "46a82304",
   "metadata": {},
   "outputs": [],
   "source": [
    "import cv2\n",
    "import numpy as np\n",
    "cap=cv2.VideoCapture(0)\n",
    "ret1,frame1=cap.read()\n",
    "ret2,frame2=cap.read()\n",
    "while True:\n",
    "    frame1_gray=cv2.cvtColor(frame1,cv2.COLOR_BGR2GRAY)\n",
    "    frame2_gray=cv2.cvtColor(frame2,cv2.COLOR_BGR2GRAY)\n",
    "    frame1_blur=cv2.GaussianBlur(frame1_gray,(21,21),0)\n",
    "    frame2_blur=cv2.GaussianBlur(frame2_gray,(21,21),0)\n",
    "    \n",
    "    diff=cv2.absdiff(frame1_blur,frame2_blur)\n",
    "    \n",
    "    cv2.imshow('Motion',diff)\n",
    "    frame1=frame2\n",
    "    \n",
    "    ret,frame2=cap.read()\n",
    "    \n",
    "    if not ret:\n",
    "        cap.release()\n",
    "        break\n",
    "    key=cv2.waitKey(10)\n",
    "    if key==ord('q'):\n",
    "        cap.release()\n",
    "        break\n",
    "cv2.destroyAllWindows()"
   ]
  },
  {
   "cell_type": "code",
   "execution_count": 29,
   "id": "bbecfd06",
   "metadata": {},
   "outputs": [],
   "source": [
    "import cv2\n",
    "import numpy as np\n",
    "cap=cv2.VideoCapture('cars.mp4')\n",
    "ret1,frame1=cap.read()\n",
    "ret2,frame2=cap.read()\n",
    "while True:\n",
    "    frame1_gray=cv2.cvtColor(frame1,cv2.COLOR_BGR2GRAY)\n",
    "    frame2_gray=cv2.cvtColor(frame2,cv2.COLOR_BGR2GRAY)\n",
    "    frame1_blur=cv2.GaussianBlur(frame1_gray,(21,21),0)\n",
    "    frame2_blur=cv2.GaussianBlur(frame2_gray,(21,21),0)\n",
    "    \n",
    "    diff=cv2.absdiff(frame1_blur,frame2_blur)\n",
    "    \n",
    "    cv2.imshow('Motion',diff)\n",
    "    frame1=frame2\n",
    "    \n",
    "    ret,frame2=cap.read()\n",
    "    \n",
    "    if not ret:\n",
    "        break\n",
    "    key=cv2.waitKey(10)\n",
    "    if key==ord('q') or key==27:\n",
    "        break\n",
    "cv2.destroyAllWindows()\n"
   ]
  },
  {
   "cell_type": "code",
   "execution_count": 30,
   "id": "a86142b5",
   "metadata": {},
   "outputs": [],
   "source": [
    "import cv2\n",
    "import numpy as np\n",
    "cap=cv2.VideoCapture('airplanes.mp4')\n",
    "ret1,frame1=cap.read()\n",
    "ret2,frame2=cap.read()\n",
    "while True:\n",
    "    frame1_gray=cv2.cvtColor(frame1,cv2.COLOR_BGR2GRAY)\n",
    "    frame2_gray=cv2.cvtColor(frame2,cv2.COLOR_BGR2GRAY)\n",
    "    frame1_blur=cv2.GaussianBlur(frame1_gray,(21,21),0)\n",
    "    frame2_blur=cv2.GaussianBlur(frame2_gray,(21,21),0)\n",
    "    \n",
    "    diff=cv2.absdiff(frame1_blur,frame2_blur)\n",
    "    \n",
    "    thresh=cv2.threshold(diff,20,255,cv2.THRESH_BINARY)[1]\n",
    "    final=cv2.dilate(thresh,None,iterations=2)\n",
    "    \n",
    "    masked=cv2.bitwise_and(frame1,frame1,mask=thresh)\n",
    "    \n",
    "    white_pixels=np.sum(thresh)/255\n",
    "    \n",
    "    rows,cols=thresh.shape\n",
    "    total=rows*cols\n",
    "    \n",
    "    if white_pixels>0.01*total:\n",
    "        font=cv2.FONT_HERSHEY_SIMPLEX\n",
    "        cv2.putText(frame1,'Moment Detected-Hareket Var',(10,50),font,1,(0,0,255),2,cv2.LINE_AA)\n",
    "    \n",
    "    cv2.imshow('Motion',frame1)\n",
    "    frame1=frame2\n",
    "    \n",
    "    ret,frame2=cap.read()\n",
    "    \n",
    "    if not ret:\n",
    "        break\n",
    "    key=cv2.waitKey(10)\n",
    "    if key==ord('q') or key==27:\n",
    "        break\n",
    "cv2.destroyAllWindows()\n"
   ]
  },
  {
   "cell_type": "code",
   "execution_count": 31,
   "id": "8be730ae",
   "metadata": {
    "scrolled": true
   },
   "outputs": [
    {
     "ename": "error",
     "evalue": "OpenCV(4.6.0) D:\\a\\opencv-python\\opencv-python\\opencv\\modules\\highgui\\src\\window.cpp:967: error: (-215:Assertion failed) size.width>0 && size.height>0 in function 'cv::imshow'\n",
     "output_type": "error",
     "traceback": [
      "\u001b[1;31m---------------------------------------------------------------------------\u001b[0m",
      "\u001b[1;31merror\u001b[0m                                     Traceback (most recent call last)",
      "Input \u001b[1;32mIn [31]\u001b[0m, in \u001b[0;36m<cell line: 5>\u001b[1;34m()\u001b[0m\n\u001b[0;32m      2\u001b[0m \u001b[38;5;28;01mimport\u001b[39;00m \u001b[38;5;21;01mnumpy\u001b[39;00m \u001b[38;5;28;01mas\u001b[39;00m \u001b[38;5;21;01mnp\u001b[39;00m\n\u001b[0;32m      4\u001b[0m image\u001b[38;5;241m=\u001b[39mcv2\u001b[38;5;241m.\u001b[39mimread(\u001b[38;5;124m'\u001b[39m\u001b[38;5;124mbunchofshapes.jpg\u001b[39m\u001b[38;5;124m'\u001b[39m,\u001b[38;5;241m0\u001b[39m)\n\u001b[1;32m----> 5\u001b[0m \u001b[43mcv2\u001b[49m\u001b[38;5;241;43m.\u001b[39;49m\u001b[43mimshow\u001b[49m\u001b[43m(\u001b[49m\u001b[38;5;124;43m'\u001b[39;49m\u001b[38;5;124;43mInput Image\u001b[39;49m\u001b[38;5;124;43m'\u001b[39;49m\u001b[43m,\u001b[49m\u001b[43mimage\u001b[49m\u001b[43m)\u001b[49m\n\u001b[0;32m      6\u001b[0m cv2\u001b[38;5;241m.\u001b[39mwaitKey(\u001b[38;5;241m0\u001b[39m)\n\u001b[0;32m      8\u001b[0m gray\u001b[38;5;241m=\u001b[39mcv2\u001b[38;5;241m.\u001b[39mcvtColor(image,cv2\u001b[38;5;241m.\u001b[39mCOLOR_BGR2GRAY)\n",
      "\u001b[1;31merror\u001b[0m: OpenCV(4.6.0) D:\\a\\opencv-python\\opencv-python\\opencv\\modules\\highgui\\src\\window.cpp:967: error: (-215:Assertion failed) size.width>0 && size.height>0 in function 'cv::imshow'\n"
     ]
    }
   ],
   "source": [
    "import cv2\n",
    "import numpy as np\n",
    "\n",
    "image=cv2.imread('bunchofshapes.jpg',0)\n",
    "cv2.imshow('Input Image',image)\n",
    "cv2.waitKey(0)\n",
    "\n",
    "gray=cv2.cvtColor(image,cv2.COLOR_BGR2GRAY)\n",
    "\n",
    "edged=cv2.Canny(gray,30,200)\n",
    "cv2.imshow('Canny Edges',edged)\n",
    "cv2.waitKey(0)\n",
    "\n",
    "contours,hierarchy=cv2.findContours(edged,cv2.RETR_EXTERNAL,cv2.CHAIN_APPROX_NONE)\n",
    "cv2.imshow('Canny Edges After Contouring',edged)\n",
    "cv2.waitKey(0)\n",
    "\n",
    "print('Number of Cotours found='+str(len(contours)))\n",
    "\n",
    "cv2.drawContours(image,contours,-1,(0,255,0),thickness=2)\n",
    "\n",
    "cv2.imshow('Contours',image)\n",
    "cv2.waitKey(0)\n",
    "cv2.destroyAllWindowss()"
   ]
  },
  {
   "cell_type": "code",
   "execution_count": null,
   "id": "ccfc2c4e",
   "metadata": {
    "scrolled": true
   },
   "outputs": [],
   "source": [
    "import cv2\n",
    "import numpy as np\n",
    "\n",
    "image=cv2.imread('opencv_inv.png')\n",
    "gray=cv2.cvtColor(image,cv2.COLOR_BGR2GRAY)\n",
    "\n",
    "blur=cv2.medianBlur(gray,5)\n",
    "\n",
    "circles=cv2.HoughCircles(blur,cv2.HOUGH_GRADIENT,1.5,20)\n",
    "\n",
    "circles=np.uint16(np.around(circles))\n",
    "\n",
    "for i in circles[0,:]:\n",
    "    cv2.circle(image,(i[0],i[1]),i[2],(0,255,2),2)\n",
    "    \n",
    "    cv2.circle(image,(i[0],i[1]),2,(0,255,2),5)\n",
    "cv2.imshow('detected circles',image)\n",
    "cv2.waitKey(0)\n",
    "cv2.destroyAllWindows()"
   ]
  },
  {
   "cell_type": "code",
   "execution_count": null,
   "id": "3d25eac7",
   "metadata": {},
   "outputs": [],
   "source": [
    "import cv2\n",
    "import numpy as np;\n",
    "\n",
    "image=cv2.imread('Sunflowers.jpg')\n",
    "\n",
    "detector=cv2.SimpleBlobDetector_create()\n",
    "\n",
    "keypoints=detector.detect(image)\n",
    "\n",
    "blank=np.zeros((1,1))\n",
    "blobs=cv2.drawKeypoints(image,keypoints,blank,(255,0,0),cv2.DRAW_MATCHES_FLAGS_DEFAULT)\n",
    "\n",
    "cv2.imshow('Blobs',blobs)\n",
    "cv2.waitKey(0)\n",
    "cv2.destroyAllWindows()\n"
   ]
  },
  {
   "cell_type": "code",
   "execution_count": null,
   "id": "d6960cb5",
   "metadata": {},
   "outputs": [],
   "source": [
    "import numpy as np\n",
    "import cv2\n",
    "\n",
    "face_classifier=cv2.CascadeClassifier('haarcascade_frontalface_default.xml')\n",
    "\n",
    "image=cv2.imread('amca.jpg')\n",
    "gray=cv2.cvtColor(image,cv2.COLOR_BGR2GRAY)\n",
    "\n",
    "faces=face_classifier.detectMultiScale(gray,1.3,5)\n",
    "\n",
    "if faces is ():\n",
    "    print('No faces found')\n",
    "for (x,y,w,h) in faces:\n",
    "    cv2.rectangle(image,(x,y),(x+w,y+h),(127,0,255),2)\n",
    "    cv2.imshow('Face detection',image)\n",
    "    cv2.waitKey(0)\n",
    "cv2.destroyAllWindows()"
   ]
  },
  {
   "cell_type": "code",
   "execution_count": null,
   "id": "ce096672",
   "metadata": {},
   "outputs": [],
   "source": [
    "import numpy as np\n",
    "import cv2\n",
    "\n",
    "face_classifier=cv2.CascadeClassifier('haarcascade_frontalface_default.xml')\n",
    "eye_classifier=cv2.CascadeClassifier('haarcascade_eye.xml')\n",
    "\n",
    "image=cv2.imread('amca.jpg')\n",
    "gray=cv2.cvtColor(image,cv2.COLOR_BGR2GRAY)\n",
    "\n",
    "faces=face_classifier.detectMultiScale(gray,1.3,5)\n",
    "\n",
    "if faces is ():\n",
    "    print('No faces found')\n",
    "for (x,y,w,h) in faces:\n",
    "    cv2.rectangle(image,(x,y),(x+w,y+h),(127,0,255),2)\n",
    "    cv2.imshow('image',image)\n",
    "    cv2.waitKey(0)\n",
    "    roi_gray=gray[y:y+h,x:x+w]\n",
    "    roi_color=img[y:y+h,x:x+w]\n",
    "    eyes=eye_classifier.detectMultiScale(roi_gray)\n",
    "    for(ex,ey,ew,eh)in eyes:\n",
    "        cv2.rectangle(roi_color,(ex,ey),(ex+ew,ey+eh),(255,255,0),2)\n",
    "        cv2.imshow('image',image)\n",
    "        cv2.waitKey(0)\n",
    "cv2.destroyAllWindows()"
   ]
  },
  {
   "cell_type": "code",
   "execution_count": null,
   "id": "f4cd5a4d",
   "metadata": {},
   "outputs": [],
   "source": [
    "import numpy as np\n",
    "import cv2\n",
    "from time import sleep\n",
    "\n",
    "face_classifier=cv2.CascadeClassifier('haarcascade_frontalface_default.xml')\n",
    "eye_classifier=cv2.CascadeClassifier('haarcascade_eye.xml')\n",
    "\n",
    "def face_detector(img,size=0.5):\n",
    "    gray=cv2.cvtColor(image,cv2.COLOR_BGR2GRAY)\n",
    "    faces=face_classifier.detectMultiScale(gray,1.3,5)\n",
    "    if faces is():\n",
    "        return img\n",
    "    for (x,y,w,h) in faces:\n",
    "        x=x-50\n",
    "        w=w+50\n",
    "        y=y-50\n",
    "        h=h+50\n",
    "        cv2.rectangle(img,(x,y),(x+w,y+h),(255,0,0),2)\n",
    "        roi_gray=gray[y:y+h,x:x+w]\n",
    "        roi_color=img[y:y+h,x:x+w]\n",
    "        eyes=eye_classifier.detectMultiScale(roi_gray)\n",
    "        sleep(.05)\n",
    "        for(ex,ey,ew,eh)in eyes:\n",
    "            cv2.rectangle(roi_color,(ex,ey),(ex+ew,ey+eh),(0,0,255),2)\n",
    "    img=cv2.flip(img,1)\n",
    "    return img\n",
    "cap=cv2.VideoCapture(0)\n",
    "while True:\n",
    "    ret,frame=cap.read()\n",
    "    cv2.imshow('Our Face Extractor',face_detector(frame))\n",
    "    if cv2.waitKey(1)==13:\n",
    "        break\n",
    "cap.release()\n",
    "cv2.destroyAllWindows()"
   ]
  },
  {
   "cell_type": "code",
   "execution_count": null,
   "id": "692ca826",
   "metadata": {},
   "outputs": [],
   "source": [
    "!pip install opencv-contrip-python"
   ]
  },
  {
   "cell_type": "code",
   "execution_count": null,
   "id": "ecfc873a",
   "metadata": {},
   "outputs": [],
   "source": [
    "import cv2\n",
    "import numpy as np\n",
    "\n",
    "face_classifier=cv2.CascadeClassifier('haarcascade_frontalface_default.xml')\n",
    "\n",
    "def face_extractor(img):\n",
    "    gray=cv2.cvtColor(img,cv2.COLOR_BGR2GRAY)\n",
    "    faces=face_classifier.detectMultiScale(gray,1.3,5)\n",
    "    \n",
    "    if faces is():\n",
    "        return img\n",
    "    for (x,y,w,h) in faces:\n",
    "        cropped_face=img[y:y+h,x:x+w]\n",
    "    return cropped_face\n",
    "cap=cv2.VideoCapture(0)\n",
    "count=0\n",
    "while True:\n",
    "    ret,frame=cap.read()\n",
    "    if face_extractor(frame) is not None:\n",
    "        count+=1\n",
    "        face=cv2.resize(face_extractor(frame),(200,200))\n",
    "        face=cv2.cvtColor(face,cv2.COLOR_BGR2GRAY)\n",
    "        \n",
    "        file_name_path='./faces/user/'+str(count)+'.jpg'\n",
    "        cv2.imwrite(file_name_path,face)\n",
    "        \n",
    "        cv2.putText(face,str(count),(50,50),cv2.FONT_HERSHEY_COMPLEX,1,(0,255,0),2)\n",
    "        cv2.imshow('Face Cropper',face)\n",
    "    else:\n",
    "        print('face not found')\n",
    "        pass\n",
    "    if cv2.waitKey(1)==13 or count==100:\n",
    "        break\n",
    "cap.release()\n",
    "cv2.destroyAllWindows()\n",
    "print('Collecting samples complete')"
   ]
  },
  {
   "cell_type": "code",
   "execution_count": null,
   "id": "2fbee1b3",
   "metadata": {},
   "outputs": [],
   "source": [
    "!pip install opencv-contrib-python"
   ]
  },
  {
   "cell_type": "code",
   "execution_count": null,
   "id": "37ee74da",
   "metadata": {},
   "outputs": [],
   "source": [
    "import cv2\n",
    "import numpy as np\n",
    "from os import listdir\n",
    "from os.path import isfile,join\n",
    "\n",
    "data_path='./faces/user/'\n",
    "onlyfiles=[f for f in listdir(data_path) if isfile(join(data_path,f))]\n",
    "\n",
    "Training_Data,Labels=[],[]\n",
    "\n",
    "for i,files in enumerate(onlyfiles):\n",
    "    image_path=data_path+onlyfiles[i]\n",
    "    images=cv2.imread(image_path,cv2.IMREAD_GRAYSCALE)\n",
    "    Training_Data.append(np.asarray(images,dtype=np.uint8))\n",
    "    Labels.append(i)\n",
    "Labels=np.asarray(Labels,dtype=np.int32)\n",
    "model=cv2.face.LBPHFaceRecognizer_create()\n",
    "\n",
    "model.train(np.asarray(Training_Data),np.asarray(Labels))\n",
    "print('model trained succesfuly')"
   ]
  },
  {
   "cell_type": "code",
   "execution_count": null,
   "id": "c3e7f4a5",
   "metadata": {},
   "outputs": [],
   "source": []
  }
 ],
 "metadata": {
  "kernelspec": {
   "display_name": "Python 3 (ipykernel)",
   "language": "python",
   "name": "python3"
  },
  "language_info": {
   "codemirror_mode": {
    "name": "ipython",
    "version": 3
   },
   "file_extension": ".py",
   "mimetype": "text/x-python",
   "name": "python",
   "nbconvert_exporter": "python",
   "pygments_lexer": "ipython3",
   "version": "3.9.12"
  }
 },
 "nbformat": 4,
 "nbformat_minor": 5
}
