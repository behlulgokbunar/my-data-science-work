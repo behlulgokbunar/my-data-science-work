{
 "cells": [
  {
   "cell_type": "code",
   "execution_count": null,
   "id": "9a619149",
   "metadata": {},
   "outputs": [],
   "source": [
    "import pandas as pd\n",
    "train = pd.read_csv(\"../input/shelter-animal-outcomes/train.csv.gz\")\n",
    "test = pd.read_csv(\"../input/shelter-animal-outcomes/test.csv.gz\")"
   ]
  },
  {
   "cell_type": "code",
   "execution_count": null,
   "id": "cf1d036b",
   "metadata": {},
   "outputs": [],
   "source": [
    "train"
   ]
  },
  {
   "cell_type": "code",
   "execution_count": null,
   "id": "a711c45d",
   "metadata": {},
   "outputs": [],
   "source": [
    "print( \"records and columns in train dataset: \",train.shape)\n",
    "print( \"records and columns in test dataset:  \",test.shape)"
   ]
  },
  {
   "cell_type": "code",
   "execution_count": null,
   "id": "ce6223d5",
   "metadata": {},
   "outputs": [],
   "source": [
    "train.isnull().sum(axis = 0)"
   ]
  },
  {
   "cell_type": "code",
   "execution_count": null,
   "id": "31dc40e1",
   "metadata": {},
   "outputs": [],
   "source": [
    "train.info()"
   ]
  },
  {
   "cell_type": "code",
   "execution_count": null,
   "id": "b28ebf3f",
   "metadata": {},
   "outputs": [],
   "source": [
    "train.OutcomeType.value_counts()"
   ]
  },
  {
   "cell_type": "code",
   "execution_count": null,
   "id": "95878359",
   "metadata": {},
   "outputs": [],
   "source": [
    "train = train.drop('OutcomeSubtype', axis=1)"
   ]
  },
  {
   "cell_type": "code",
   "execution_count": null,
   "id": "e8939cfd",
   "metadata": {},
   "outputs": [],
   "source": [
    "train.Name = train.Name.apply(lambda x: 0 if pd.isnull(x) else 1)\n",
    "test.Name = test.Name.apply(lambda x: 0 if pd.isnull(x) else 1)"
   ]
  },
  {
   "cell_type": "code",
   "execution_count": null,
   "id": "1263f857",
   "metadata": {},
   "outputs": [],
   "source": [
    "train.Name"
   ]
  },
  {
   "cell_type": "code",
   "execution_count": null,
   "id": "0f71c792",
   "metadata": {},
   "outputs": [],
   "source": [
    "# Out of 26729 records, 18 are nulls - we will replace them with zero\n",
    "# Replace nulls with zeros, convert age from an ordinal variable to a numeric \n",
    "#age in weeks\n",
    "#calculate Age in weeks\n",
    "def age_in_weeks(x):\n",
    "    if pd.isnull(x):\n",
    "        return 0\n",
    "    num = int(x.split(' ')[0])\n",
    "    if 'year' in x:\n",
    "        return num * 52\n",
    "    elif 'month' in x:\n",
    "        return num * 4.5\n",
    "    elif 'week' in x:\n",
    "        return num\n",
    "    elif 'day' in x:\n",
    "        return 1"
   ]
  },
  {
   "cell_type": "code",
   "execution_count": null,
   "id": "42a28e28",
   "metadata": {},
   "outputs": [],
   "source": [
    "train.AgeuponOutcome= train.AgeuponOutcome.apply(lambda x : age_in_weeks(x))\n",
    "test.AgeuponOutcome= test.AgeuponOutcome.apply(lambda x : age_in_weeks(x))\n",
    "#AgeuponOutcome is numeric with no nulls\n",
    "train.AgeuponOutcome"
   ]
  },
  {
   "cell_type": "code",
   "execution_count": null,
   "id": "988d725d",
   "metadata": {},
   "outputs": [],
   "source": [
    "# Breed Column - reduce unique values and convert to numeric. mixed breed=1 else 0\n",
    "\n",
    "def breed_type(x):\n",
    "    if \"Mix\" in x:\n",
    "        return 1\n",
    "    return 0"
   ]
  },
  {
   "cell_type": "code",
   "execution_count": null,
   "id": "e0881cd4",
   "metadata": {},
   "outputs": [],
   "source": [
    "# Is animal of mix breed?\n",
    "train.Breed = train.Breed.apply(breed_type)\n",
    "test.Breed = test.Breed.apply(breed_type)\n",
    "#Breed is now numeric with no nulls\n",
    "train.Breed"
   ]
  },
  {
   "cell_type": "code",
   "execution_count": null,
   "id": "6dbd5c44",
   "metadata": {},
   "outputs": [],
   "source": [
    "# DateTime - Remove the timestamp then split date into three new fields.\n",
    "train.DateTime=pd.to_datetime(train.DateTime)\n",
    "train[\"dayofweek\"] = train.DateTime.dt.dayofweek\n",
    "train[\"month\"] = train.DateTime.dt.month\n",
    "train[\"year\"] = train.DateTime.dt.year\n",
    "\n",
    "test.DateTime=pd.to_datetime(test.DateTime)\n",
    "test[\"dayofweek\"] = test.DateTime.dt.dayofweek\n",
    "test[\"month\"] = test.DateTime.dt.month\n",
    "test[\"year\"] = test.DateTime.dt.year"
   ]
  },
  {
   "cell_type": "code",
   "execution_count": null,
   "id": "2fb6979c",
   "metadata": {},
   "outputs": [],
   "source": [
    "train"
   ]
  },
  {
   "cell_type": "code",
   "execution_count": null,
   "id": "69a660cf",
   "metadata": {},
   "outputs": [],
   "source": [
    "#SexuponOutcome has one null value\n",
    "train.isnull().sum(axis = 0)"
   ]
  },
  {
   "cell_type": "code",
   "execution_count": null,
   "id": "ae3bed68",
   "metadata": {},
   "outputs": [],
   "source": [
    "# Drop record with null value\n",
    "train = train.dropna()\n",
    "train.isnull().sum(axis = 0)"
   ]
  },
  {
   "cell_type": "code",
   "execution_count": null,
   "id": "ee780d84",
   "metadata": {},
   "outputs": [],
   "source": [
    "# Use LabelEncoder to convert rest of features\n",
    "from sklearn.preprocessing import LabelEncoder\n",
    "\n",
    "train.OutcomeType = LabelEncoder().fit_transform(train.OutcomeType)\n",
    "train.AnimalType = LabelEncoder().fit_transform(train.AnimalType)\n",
    "train.SexuponOutcome = LabelEncoder().fit_transform(train.SexuponOutcome)\n",
    "train.Color = LabelEncoder().fit_transform(train.Color)"
   ]
  },
  {
   "cell_type": "code",
   "execution_count": null,
   "id": "cee46094",
   "metadata": {},
   "outputs": [],
   "source": [
    "test.AnimalType = LabelEncoder().fit_transform(test.AnimalType)\n",
    "test.SexuponOutcome = LabelEncoder().fit_transform(test.SexuponOutcome)\n",
    "test.Color = LabelEncoder().fit_transform(test.Color)"
   ]
  },
  {
   "cell_type": "code",
   "execution_count": null,
   "id": "7ea2f2a8",
   "metadata": {},
   "outputs": [],
   "source": [
    "# ALl required columns has numeric values\n",
    "train"
   ]
  },
  {
   "cell_type": "code",
   "execution_count": null,
   "id": "2e479e6e",
   "metadata": {},
   "outputs": [],
   "source": [
    "# We will store the target variable in a dataset by itelf \n",
    "target = train.OutcomeType\n",
    "target"
   ]
  },
  {
   "cell_type": "code",
   "execution_count": null,
   "id": "f2a95efc",
   "metadata": {},
   "outputs": [],
   "source": [
    "# drop unused columns\n",
    "train=train.drop([\"AnimalID\", \"DateTime\",\"OutcomeType\"],axis=1)\n",
    "train\n",
    "\n",
    "testID=test.ID #keeping the IDs\n",
    "test=test.drop([\"ID\",\"DateTime\"],axis=1)"
   ]
  },
  {
   "cell_type": "code",
   "execution_count": null,
   "id": "68615fc8",
   "metadata": {},
   "outputs": [],
   "source": [
    "X=train\n",
    "X"
   ]
  },
  {
   "cell_type": "code",
   "execution_count": null,
   "id": "26d8f5f7",
   "metadata": {},
   "outputs": [],
   "source": [
    "# we have 9 numeric columns with no nulls\n",
    "train.isnull().sum(axis = 0)"
   ]
  },
  {
   "cell_type": "code",
   "execution_count": null,
   "id": "f41f9b7e",
   "metadata": {},
   "outputs": [],
   "source": [
    "from sklearn.model_selection import train_test_split\n",
    "X_train, X_test, y_train, y_test = train_test_split(X, #train w/o target var\n",
    "                                                    target, \n",
    "                                                    test_size=0.20, \n",
    "                                                    random_state=1)\n",
    "\n",
    "print(\"Records & variables in X_train dataset: \", X_train.shape)\n",
    "print(\"Records in training dataset for Target variable: \", y_train.shape)\n",
    "print(\"Records & variables in X_test dataset: \", X_test.shape)\n",
    "print(\"Records in testing dataset for Target variable: \", y_test.shape)"
   ]
  },
  {
   "cell_type": "code",
   "execution_count": null,
   "id": "91b780bd",
   "metadata": {},
   "outputs": [],
   "source": [
    "from sklearn.ensemble import RandomForestClassifier\n",
    "# Do random forest\n",
    "rf = RandomForestClassifier(n_estimators=1000)\n",
    "rf.fit(X, target)\n",
    "# Let's see the train accuracy\n",
    "tra_score=rf.score(X, target)\n",
    "\n",
    "print(\"Training accuracy for RandomForest: \",tra_score)"
   ]
  },
  {
   "cell_type": "code",
   "execution_count": null,
   "id": "54f412a8",
   "metadata": {},
   "outputs": [],
   "source": [
    "#Retraining with the complete training set\n",
    "rf.fit(train, target)"
   ]
  },
  {
   "cell_type": "code",
   "execution_count": null,
   "id": "8cecd4fc",
   "metadata": {},
   "outputs": [],
   "source": [
    "#Getting predicted probabilities\n",
    "pred = rf.predict_proba(test)"
   ]
  },
  {
   "cell_type": "code",
   "execution_count": null,
   "id": "247c9394",
   "metadata": {},
   "outputs": [],
   "source": [
    "my_submission = pd.DataFrame({'ID':testID, \n",
    "                              'Adoption':pred[:,0], \n",
    "                              'Died':pred[:,1],'Euthanasia':pred[:,2],\n",
    "                              'Return_to_owner':pred[:,3],'Transfer':pred[:,4] })\n",
    "\n",
    "# you could use any filename\n",
    "my_submission.to_csv('submission.csv', index=False)"
   ]
  },
  {
   "cell_type": "code",
   "execution_count": null,
   "id": "6df62646",
   "metadata": {},
   "outputs": [],
   "source": []
  },
  {
   "cell_type": "code",
   "execution_count": null,
   "id": "98e98ec4",
   "metadata": {},
   "outputs": [],
   "source": []
  }
 ],
 "metadata": {
  "kernelspec": {
   "display_name": "Python 3 (ipykernel)",
   "language": "python",
   "name": "python3"
  },
  "language_info": {
   "codemirror_mode": {
    "name": "ipython",
    "version": 3
   },
   "file_extension": ".py",
   "mimetype": "text/x-python",
   "name": "python",
   "nbconvert_exporter": "python",
   "pygments_lexer": "ipython3",
   "version": "3.10.5"
  }
 },
 "nbformat": 4,
 "nbformat_minor": 5
}
