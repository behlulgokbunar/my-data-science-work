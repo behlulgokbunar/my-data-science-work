{
 "cells": [
  {
   "cell_type": "code",
   "execution_count": 1,
   "id": "29268c73",
   "metadata": {},
   "outputs": [],
   "source": [
    "import numpy as np \n",
    "import pandas as pd \n",
    "from sklearn import ensemble \n",
    "from sklearn import metrics\n",
    "from sklearn.metrics import mean_squared_log_error"
   ]
  },
  {
   "cell_type": "code",
   "execution_count": 2,
   "id": "feae9129",
   "metadata": {},
   "outputs": [],
   "source": [
    "trainData=pd.read_csv('train.csv')\n",
    "testData=pd.read_csv('test.csv')\n",
    "answerData=pd.read_csv('sampleSubmission.csv')\n"
   ]
  },
  {
   "cell_type": "code",
   "execution_count": 3,
   "id": "b7d4b672",
   "metadata": {},
   "outputs": [],
   "source": [
    "trainData['datetime']=pd.to_datetime(trainData['datetime'])\n",
    "testData['datetime'] = pd.to_datetime(testData['datetime'])"
   ]
  },
  {
   "cell_type": "code",
   "execution_count": 4,
   "id": "40041e5f",
   "metadata": {},
   "outputs": [],
   "source": [
    "trainData['Year'] = trainData['datetime'].dt.year\n",
    "trainData['Month'] = trainData['datetime'].dt.month\n",
    "trainData['Day'] = trainData['datetime'].dt.day\n",
    "trainData['Time'] = trainData['datetime'].dt.hour\n",
    "trainData['DayOfWeek'] = trainData['datetime'].dt.dayofweek\n",
    "trainData['WeekOfYear'] = trainData['datetime'].dt.isocalendar().week\n",
    "\n",
    "testData['Year'] = testData['datetime'].dt.year\n",
    "testData['Month'] = testData['datetime'].dt.month\n",
    "testData['Day'] = testData['datetime'].dt.day\n",
    "testData['Time'] = testData['datetime'].dt.hour\n",
    "testData['DayOfWeek'] = testData['datetime'].dt.dayofweek\n",
    "testData['WeekOfYear'] = testData['datetime'].dt.isocalendar().week\n",
    "\n",
    "trainData=trainData.drop(columns=['datetime'])\n",
    "testData=testData.drop(columns=['datetime'])"
   ]
  },
  {
   "cell_type": "code",
   "execution_count": 5,
   "id": "43dd8f1a",
   "metadata": {},
   "outputs": [],
   "source": [
    "trainData['Casual'] = trainData['casual']\n",
    "trainData['Registered'] = trainData['registered']\n",
    "trainData['Count'] = trainData['count']\n",
    "\n",
    "trainData=trainData.drop(columns=['casual','registered','count'])\n",
    "\n",
    "trainData['casual'] = trainData['Casual']\n",
    "trainData['registered'] = trainData['Registered']\n",
    "trainData['count'] = trainData['Count']\n",
    "\n",
    "trainData=trainData.drop(columns=['Casual','Registered','Count'])"
   ]
  },
  {
   "cell_type": "markdown",
   "id": "b9818f96",
   "metadata": {},
   "source": [
    "rf1=ensemble.RandomForestRegressor(n_estimators=2000,max_depth=100)\n",
    "rf1.fit(trainData.drop(columns=['casual','registered','count']),np.log1p(trainData['casual'].ravel()))\n",
    "\n",
    "rf2=ensemble.RandomForestRegressor(n_estimators=2000,max_depth=100)\n",
    "rf2.fit(trainData.drop(columns=['casual','registered','count']),np.log1p(trainData['registered'].ravel()))"
   ]
  },
  {
   "cell_type": "code",
   "execution_count": 6,
   "id": "de64e955",
   "metadata": {},
   "outputs": [
    {
     "data": {
      "text/html": [
       "<style>#sk-container-id-1 {color: black;background-color: white;}#sk-container-id-1 pre{padding: 0;}#sk-container-id-1 div.sk-toggleable {background-color: white;}#sk-container-id-1 label.sk-toggleable__label {cursor: pointer;display: block;width: 100%;margin-bottom: 0;padding: 0.3em;box-sizing: border-box;text-align: center;}#sk-container-id-1 label.sk-toggleable__label-arrow:before {content: \"▸\";float: left;margin-right: 0.25em;color: #696969;}#sk-container-id-1 label.sk-toggleable__label-arrow:hover:before {color: black;}#sk-container-id-1 div.sk-estimator:hover label.sk-toggleable__label-arrow:before {color: black;}#sk-container-id-1 div.sk-toggleable__content {max-height: 0;max-width: 0;overflow: hidden;text-align: left;background-color: #f0f8ff;}#sk-container-id-1 div.sk-toggleable__content pre {margin: 0.2em;color: black;border-radius: 0.25em;background-color: #f0f8ff;}#sk-container-id-1 input.sk-toggleable__control:checked~div.sk-toggleable__content {max-height: 200px;max-width: 100%;overflow: auto;}#sk-container-id-1 input.sk-toggleable__control:checked~label.sk-toggleable__label-arrow:before {content: \"▾\";}#sk-container-id-1 div.sk-estimator input.sk-toggleable__control:checked~label.sk-toggleable__label {background-color: #d4ebff;}#sk-container-id-1 div.sk-label input.sk-toggleable__control:checked~label.sk-toggleable__label {background-color: #d4ebff;}#sk-container-id-1 input.sk-hidden--visually {border: 0;clip: rect(1px 1px 1px 1px);clip: rect(1px, 1px, 1px, 1px);height: 1px;margin: -1px;overflow: hidden;padding: 0;position: absolute;width: 1px;}#sk-container-id-1 div.sk-estimator {font-family: monospace;background-color: #f0f8ff;border: 1px dotted black;border-radius: 0.25em;box-sizing: border-box;margin-bottom: 0.5em;}#sk-container-id-1 div.sk-estimator:hover {background-color: #d4ebff;}#sk-container-id-1 div.sk-parallel-item::after {content: \"\";width: 100%;border-bottom: 1px solid gray;flex-grow: 1;}#sk-container-id-1 div.sk-label:hover label.sk-toggleable__label {background-color: #d4ebff;}#sk-container-id-1 div.sk-serial::before {content: \"\";position: absolute;border-left: 1px solid gray;box-sizing: border-box;top: 0;bottom: 0;left: 50%;z-index: 0;}#sk-container-id-1 div.sk-serial {display: flex;flex-direction: column;align-items: center;background-color: white;padding-right: 0.2em;padding-left: 0.2em;position: relative;}#sk-container-id-1 div.sk-item {position: relative;z-index: 1;}#sk-container-id-1 div.sk-parallel {display: flex;align-items: stretch;justify-content: center;background-color: white;position: relative;}#sk-container-id-1 div.sk-item::before, #sk-container-id-1 div.sk-parallel-item::before {content: \"\";position: absolute;border-left: 1px solid gray;box-sizing: border-box;top: 0;bottom: 0;left: 50%;z-index: -1;}#sk-container-id-1 div.sk-parallel-item {display: flex;flex-direction: column;z-index: 1;position: relative;background-color: white;}#sk-container-id-1 div.sk-parallel-item:first-child::after {align-self: flex-end;width: 50%;}#sk-container-id-1 div.sk-parallel-item:last-child::after {align-self: flex-start;width: 50%;}#sk-container-id-1 div.sk-parallel-item:only-child::after {width: 0;}#sk-container-id-1 div.sk-dashed-wrapped {border: 1px dashed gray;margin: 0 0.4em 0.5em 0.4em;box-sizing: border-box;padding-bottom: 0.4em;background-color: white;}#sk-container-id-1 div.sk-label label {font-family: monospace;font-weight: bold;display: inline-block;line-height: 1.2em;}#sk-container-id-1 div.sk-label-container {text-align: center;}#sk-container-id-1 div.sk-container {/* jupyter's `normalize.less` sets `[hidden] { display: none; }` but bootstrap.min.css set `[hidden] { display: none !important; }` so we also need the `!important` here to be able to override the default hidden behavior on the sphinx rendered scikit-learn.org. See: https://github.com/scikit-learn/scikit-learn/issues/21755 */display: inline-block !important;position: relative;}#sk-container-id-1 div.sk-text-repr-fallback {display: none;}</style><div id=\"sk-container-id-1\" class=\"sk-top-container\"><div class=\"sk-text-repr-fallback\"><pre>GradientBoostingRegressor(max_depth=100, n_estimators=2000)</pre><b>In a Jupyter environment, please rerun this cell to show the HTML representation or trust the notebook. <br />On GitHub, the HTML representation is unable to render, please try loading this page with nbviewer.org.</b></div><div class=\"sk-container\" hidden><div class=\"sk-item\"><div class=\"sk-estimator sk-toggleable\"><input class=\"sk-toggleable__control sk-hidden--visually\" id=\"sk-estimator-id-1\" type=\"checkbox\" checked><label for=\"sk-estimator-id-1\" class=\"sk-toggleable__label sk-toggleable__label-arrow\">GradientBoostingRegressor</label><div class=\"sk-toggleable__content\"><pre>GradientBoostingRegressor(max_depth=100, n_estimators=2000)</pre></div></div></div></div></div>"
      ],
      "text/plain": [
       "GradientBoostingRegressor(max_depth=100, n_estimators=2000)"
      ]
     },
     "execution_count": 6,
     "metadata": {},
     "output_type": "execute_result"
    }
   ],
   "source": [
    "rf1=ensemble.GradientBoostingRegressor(n_estimators=2000,max_depth=100)\n",
    "rf1.fit(trainData.drop(columns=['casual','registered','count']),np.log1p(trainData['casual'].ravel()))\n",
    "\n",
    "rf2=ensemble.GradientBoostingRegressor(n_estimators=2000,max_depth=100)\n",
    "rf2.fit(trainData.drop(columns=['casual','registered','count']),np.log1p(trainData['registered'].ravel()))"
   ]
  },
  {
   "cell_type": "code",
   "execution_count": 7,
   "id": "bbbb3577",
   "metadata": {},
   "outputs": [
    {
     "data": {
      "text/plain": [
       "array([ 18.9999997 ,   4.00000029,   2.31493147, ..., 120.01261494,\n",
       "       104.0640958 ,  42.60220149])"
      ]
     },
     "execution_count": 7,
     "metadata": {},
     "output_type": "execute_result"
    }
   ],
   "source": [
    "ans1=rf1.predict(testData)\n",
    "ans2=rf2.predict(testData)\n",
    "\n",
    "ans1=np.expm1(ans1)\n",
    "ans2=np.expm1(ans2)\n",
    "\n",
    "ans=ans1+ans2\n",
    "ans"
   ]
  },
  {
   "cell_type": "code",
   "execution_count": 8,
   "id": "796f89e6",
   "metadata": {},
   "outputs": [
    {
     "data": {
      "text/html": [
       "<div>\n",
       "<style scoped>\n",
       "    .dataframe tbody tr th:only-of-type {\n",
       "        vertical-align: middle;\n",
       "    }\n",
       "\n",
       "    .dataframe tbody tr th {\n",
       "        vertical-align: top;\n",
       "    }\n",
       "\n",
       "    .dataframe thead th {\n",
       "        text-align: right;\n",
       "    }\n",
       "</style>\n",
       "<table border=\"1\" class=\"dataframe\">\n",
       "  <thead>\n",
       "    <tr style=\"text-align: right;\">\n",
       "      <th></th>\n",
       "      <th>datetime</th>\n",
       "      <th>count</th>\n",
       "    </tr>\n",
       "  </thead>\n",
       "  <tbody>\n",
       "    <tr>\n",
       "      <th>0</th>\n",
       "      <td>2011-01-20 00:00:00</td>\n",
       "      <td>19.000000</td>\n",
       "    </tr>\n",
       "    <tr>\n",
       "      <th>1</th>\n",
       "      <td>2011-01-20 01:00:00</td>\n",
       "      <td>4.000000</td>\n",
       "    </tr>\n",
       "    <tr>\n",
       "      <th>2</th>\n",
       "      <td>2011-01-20 02:00:00</td>\n",
       "      <td>2.314931</td>\n",
       "    </tr>\n",
       "    <tr>\n",
       "      <th>3</th>\n",
       "      <td>2011-01-20 03:00:00</td>\n",
       "      <td>1.000000</td>\n",
       "    </tr>\n",
       "    <tr>\n",
       "      <th>4</th>\n",
       "      <td>2011-01-20 04:00:00</td>\n",
       "      <td>1.000000</td>\n",
       "    </tr>\n",
       "    <tr>\n",
       "      <th>...</th>\n",
       "      <td>...</td>\n",
       "      <td>...</td>\n",
       "    </tr>\n",
       "    <tr>\n",
       "      <th>6488</th>\n",
       "      <td>2012-12-31 19:00:00</td>\n",
       "      <td>227.920493</td>\n",
       "    </tr>\n",
       "    <tr>\n",
       "      <th>6489</th>\n",
       "      <td>2012-12-31 20:00:00</td>\n",
       "      <td>202.954935</td>\n",
       "    </tr>\n",
       "    <tr>\n",
       "      <th>6490</th>\n",
       "      <td>2012-12-31 21:00:00</td>\n",
       "      <td>120.012615</td>\n",
       "    </tr>\n",
       "    <tr>\n",
       "      <th>6491</th>\n",
       "      <td>2012-12-31 22:00:00</td>\n",
       "      <td>104.064096</td>\n",
       "    </tr>\n",
       "    <tr>\n",
       "      <th>6492</th>\n",
       "      <td>2012-12-31 23:00:00</td>\n",
       "      <td>42.602201</td>\n",
       "    </tr>\n",
       "  </tbody>\n",
       "</table>\n",
       "<p>6493 rows × 2 columns</p>\n",
       "</div>"
      ],
      "text/plain": [
       "                 datetime       count\n",
       "0     2011-01-20 00:00:00   19.000000\n",
       "1     2011-01-20 01:00:00    4.000000\n",
       "2     2011-01-20 02:00:00    2.314931\n",
       "3     2011-01-20 03:00:00    1.000000\n",
       "4     2011-01-20 04:00:00    1.000000\n",
       "...                   ...         ...\n",
       "6488  2012-12-31 19:00:00  227.920493\n",
       "6489  2012-12-31 20:00:00  202.954935\n",
       "6490  2012-12-31 21:00:00  120.012615\n",
       "6491  2012-12-31 22:00:00  104.064096\n",
       "6492  2012-12-31 23:00:00   42.602201\n",
       "\n",
       "[6493 rows x 2 columns]"
      ]
     },
     "execution_count": 8,
     "metadata": {},
     "output_type": "execute_result"
    }
   ],
   "source": [
    "answerData['count']=ans\n",
    "answerData"
   ]
  },
  {
   "cell_type": "code",
   "execution_count": 9,
   "id": "4f1d7805",
   "metadata": {},
   "outputs": [],
   "source": [
    "answerData.to_csv('out.csv',index=False)"
   ]
  },
  {
   "cell_type": "code",
   "execution_count": null,
   "id": "725ed077",
   "metadata": {},
   "outputs": [],
   "source": []
  },
  {
   "cell_type": "code",
   "execution_count": null,
   "id": "2200bb7c",
   "metadata": {},
   "outputs": [],
   "source": []
  }
 ],
 "metadata": {
  "kernelspec": {
   "display_name": "Python 3 (ipykernel)",
   "language": "python",
   "name": "python3"
  },
  "language_info": {
   "codemirror_mode": {
    "name": "ipython",
    "version": 3
   },
   "file_extension": ".py",
   "mimetype": "text/x-python",
   "name": "python",
   "nbconvert_exporter": "python",
   "pygments_lexer": "ipython3",
   "version": "3.10.5"
  }
 },
 "nbformat": 4,
 "nbformat_minor": 5
}
